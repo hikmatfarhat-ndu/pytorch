{
  "metadata": {
    "kernelspec": {
      "language": "python",
      "display_name": "Python 3",
      "name": "python3"
    },
    "language_info": {
      "name": "python",
      "version": "3.7.12",
      "mimetype": "text/x-python",
      "codemirror_mode": {
        "name": "ipython",
        "version": 3
      },
      "pygments_lexer": "ipython3",
      "nbconvert_exporter": "python",
      "file_extension": ".py"
    },
    "colab": {
      "provenance": []
    },
    "accelerator": "GPU"
  },
  "nbformat_minor": 0,
  "nbformat": 4,
  "cells": [
    {
      "cell_type": "code",
      "source": [
        "import torch\n",
        "import torch.nn as nn\n",
        "import torchvision as vision\n",
        "from torchvision.transforms import Lambda,Compose,ToTensor,Normalize,Grayscale\n",
        "import torchvision.datasets as datasets\n",
        "from torch.utils.data import DataLoader"
      ],
      "metadata": {
        "_uuid": "8f2839f25d086af736a60e9eeb907d3b93b6e0e5",
        "_cell_guid": "b1076dfc-b9ad-4769-8c92-a6c4dae69d19",
        "execution": {
          "iopub.status.busy": "2022-10-06T14:33:03.624563Z",
          "iopub.execute_input": "2022-10-06T14:33:03.625068Z",
          "iopub.status.idle": "2022-10-06T14:33:03.634060Z",
          "shell.execute_reply.started": "2022-10-06T14:33:03.625037Z",
          "shell.execute_reply": "2022-10-06T14:33:03.632143Z"
        },
        "trusted": true,
        "id": "d3h2xhJ3gg2b"
      },
      "execution_count": 6,
      "outputs": []
    },
    {
      "cell_type": "markdown",
      "source": [
        "# Importing a dataset from Kaggle\n",
        "\n",
        "1. Login to Kaggle\n",
        "1. Click on your profile image and select account\n",
        "1. Toward the middle of the page click on \"create new API token\". It will download a kaggle.json file\n",
        "1. Upload that file when prompted in the section below\n",
        "\n",
        "**Note**: make sure the name of the file matches the name in line 4 below"
      ],
      "metadata": {
        "id": "kW2IELhplMcG"
      }
    },
    {
      "cell_type": "code",
      "source": [
        "from google.colab import files\n",
        "file=files.upload()\n",
        "!mkdir -p /root/.kaggle\n",
        "!mv kaggle.json  /root/.kaggle\n",
        "!kaggle datasets download -d msambare/fer2013\n",
        "!unzip fer2013.zip>/dev/null\n"
      ],
      "metadata": {
        "id": "hKuGlOR0lLE3",
        "outputId": "90a583d9-f3f8-499c-93d4-9a0529ef5f2f",
        "colab": {
          "base_uri": "https://localhost:8080/",
          "height": 144
        }
      },
      "execution_count": 4,
      "outputs": [
        {
          "output_type": "display_data",
          "data": {
            "text/plain": [
              "<IPython.core.display.HTML object>"
            ],
            "text/html": [
              "\n",
              "     <input type=\"file\" id=\"files-7dd15f96-8558-4955-86a7-0aca74718605\" name=\"files[]\" multiple disabled\n",
              "        style=\"border:none\" />\n",
              "     <output id=\"result-7dd15f96-8558-4955-86a7-0aca74718605\">\n",
              "      Upload widget is only available when the cell has been executed in the\n",
              "      current browser session. Please rerun this cell to enable.\n",
              "      </output>\n",
              "      <script>// Copyright 2017 Google LLC\n",
              "//\n",
              "// Licensed under the Apache License, Version 2.0 (the \"License\");\n",
              "// you may not use this file except in compliance with the License.\n",
              "// You may obtain a copy of the License at\n",
              "//\n",
              "//      http://www.apache.org/licenses/LICENSE-2.0\n",
              "//\n",
              "// Unless required by applicable law or agreed to in writing, software\n",
              "// distributed under the License is distributed on an \"AS IS\" BASIS,\n",
              "// WITHOUT WARRANTIES OR CONDITIONS OF ANY KIND, either express or implied.\n",
              "// See the License for the specific language governing permissions and\n",
              "// limitations under the License.\n",
              "\n",
              "/**\n",
              " * @fileoverview Helpers for google.colab Python module.\n",
              " */\n",
              "(function(scope) {\n",
              "function span(text, styleAttributes = {}) {\n",
              "  const element = document.createElement('span');\n",
              "  element.textContent = text;\n",
              "  for (const key of Object.keys(styleAttributes)) {\n",
              "    element.style[key] = styleAttributes[key];\n",
              "  }\n",
              "  return element;\n",
              "}\n",
              "\n",
              "// Max number of bytes which will be uploaded at a time.\n",
              "const MAX_PAYLOAD_SIZE = 100 * 1024;\n",
              "\n",
              "function _uploadFiles(inputId, outputId) {\n",
              "  const steps = uploadFilesStep(inputId, outputId);\n",
              "  const outputElement = document.getElementById(outputId);\n",
              "  // Cache steps on the outputElement to make it available for the next call\n",
              "  // to uploadFilesContinue from Python.\n",
              "  outputElement.steps = steps;\n",
              "\n",
              "  return _uploadFilesContinue(outputId);\n",
              "}\n",
              "\n",
              "// This is roughly an async generator (not supported in the browser yet),\n",
              "// where there are multiple asynchronous steps and the Python side is going\n",
              "// to poll for completion of each step.\n",
              "// This uses a Promise to block the python side on completion of each step,\n",
              "// then passes the result of the previous step as the input to the next step.\n",
              "function _uploadFilesContinue(outputId) {\n",
              "  const outputElement = document.getElementById(outputId);\n",
              "  const steps = outputElement.steps;\n",
              "\n",
              "  const next = steps.next(outputElement.lastPromiseValue);\n",
              "  return Promise.resolve(next.value.promise).then((value) => {\n",
              "    // Cache the last promise value to make it available to the next\n",
              "    // step of the generator.\n",
              "    outputElement.lastPromiseValue = value;\n",
              "    return next.value.response;\n",
              "  });\n",
              "}\n",
              "\n",
              "/**\n",
              " * Generator function which is called between each async step of the upload\n",
              " * process.\n",
              " * @param {string} inputId Element ID of the input file picker element.\n",
              " * @param {string} outputId Element ID of the output display.\n",
              " * @return {!Iterable<!Object>} Iterable of next steps.\n",
              " */\n",
              "function* uploadFilesStep(inputId, outputId) {\n",
              "  const inputElement = document.getElementById(inputId);\n",
              "  inputElement.disabled = false;\n",
              "\n",
              "  const outputElement = document.getElementById(outputId);\n",
              "  outputElement.innerHTML = '';\n",
              "\n",
              "  const pickedPromise = new Promise((resolve) => {\n",
              "    inputElement.addEventListener('change', (e) => {\n",
              "      resolve(e.target.files);\n",
              "    });\n",
              "  });\n",
              "\n",
              "  const cancel = document.createElement('button');\n",
              "  inputElement.parentElement.appendChild(cancel);\n",
              "  cancel.textContent = 'Cancel upload';\n",
              "  const cancelPromise = new Promise((resolve) => {\n",
              "    cancel.onclick = () => {\n",
              "      resolve(null);\n",
              "    };\n",
              "  });\n",
              "\n",
              "  // Wait for the user to pick the files.\n",
              "  const files = yield {\n",
              "    promise: Promise.race([pickedPromise, cancelPromise]),\n",
              "    response: {\n",
              "      action: 'starting',\n",
              "    }\n",
              "  };\n",
              "\n",
              "  cancel.remove();\n",
              "\n",
              "  // Disable the input element since further picks are not allowed.\n",
              "  inputElement.disabled = true;\n",
              "\n",
              "  if (!files) {\n",
              "    return {\n",
              "      response: {\n",
              "        action: 'complete',\n",
              "      }\n",
              "    };\n",
              "  }\n",
              "\n",
              "  for (const file of files) {\n",
              "    const li = document.createElement('li');\n",
              "    li.append(span(file.name, {fontWeight: 'bold'}));\n",
              "    li.append(span(\n",
              "        `(${file.type || 'n/a'}) - ${file.size} bytes, ` +\n",
              "        `last modified: ${\n",
              "            file.lastModifiedDate ? file.lastModifiedDate.toLocaleDateString() :\n",
              "                                    'n/a'} - `));\n",
              "    const percent = span('0% done');\n",
              "    li.appendChild(percent);\n",
              "\n",
              "    outputElement.appendChild(li);\n",
              "\n",
              "    const fileDataPromise = new Promise((resolve) => {\n",
              "      const reader = new FileReader();\n",
              "      reader.onload = (e) => {\n",
              "        resolve(e.target.result);\n",
              "      };\n",
              "      reader.readAsArrayBuffer(file);\n",
              "    });\n",
              "    // Wait for the data to be ready.\n",
              "    let fileData = yield {\n",
              "      promise: fileDataPromise,\n",
              "      response: {\n",
              "        action: 'continue',\n",
              "      }\n",
              "    };\n",
              "\n",
              "    // Use a chunked sending to avoid message size limits. See b/62115660.\n",
              "    let position = 0;\n",
              "    do {\n",
              "      const length = Math.min(fileData.byteLength - position, MAX_PAYLOAD_SIZE);\n",
              "      const chunk = new Uint8Array(fileData, position, length);\n",
              "      position += length;\n",
              "\n",
              "      const base64 = btoa(String.fromCharCode.apply(null, chunk));\n",
              "      yield {\n",
              "        response: {\n",
              "          action: 'append',\n",
              "          file: file.name,\n",
              "          data: base64,\n",
              "        },\n",
              "      };\n",
              "\n",
              "      let percentDone = fileData.byteLength === 0 ?\n",
              "          100 :\n",
              "          Math.round((position / fileData.byteLength) * 100);\n",
              "      percent.textContent = `${percentDone}% done`;\n",
              "\n",
              "    } while (position < fileData.byteLength);\n",
              "  }\n",
              "\n",
              "  // All done.\n",
              "  yield {\n",
              "    response: {\n",
              "      action: 'complete',\n",
              "    }\n",
              "  };\n",
              "}\n",
              "\n",
              "scope.google = scope.google || {};\n",
              "scope.google.colab = scope.google.colab || {};\n",
              "scope.google.colab._files = {\n",
              "  _uploadFiles,\n",
              "  _uploadFilesContinue,\n",
              "};\n",
              "})(self);\n",
              "</script> "
            ]
          },
          "metadata": {}
        },
        {
          "output_type": "stream",
          "name": "stdout",
          "text": [
            "Saving kaggle.json to kaggle.json\n",
            "Warning: Your Kaggle API key is readable by other users on this system! To fix this, you can run 'chmod 600 /root/.kaggle/kaggle.json'\n",
            "Downloading fer2013.zip to /content\n",
            " 81% 49.0M/60.3M [00:00<00:00, 95.0MB/s]\n",
            "100% 60.3M/60.3M [00:00<00:00, 96.4MB/s]\n"
          ]
        }
      ]
    },
    {
      "cell_type": "markdown",
      "source": [
        "## Reading the data\n",
        "\n",
        "The dataset contains 7 classes ```['angry', 'disgust', 'fear', 'happy', 'neutral', 'sad', 'surprise']```\n",
        " \n",
        "All images belonging to the same class are saved in the same directory (click on the folder icon on the left panel to explore)\n",
        "\n",
        "When the images are organized in such a way the best method to read them is the ```ImageFolder```"
      ],
      "metadata": {
        "id": "CtFrA5JHm_JF"
      }
    },
    {
      "cell_type": "code",
      "source": [
        "# It is easier to deal with grayscale images\n",
        "transform=Compose([Grayscale(),ToTensor()])\n",
        "dataset_train=datasets.ImageFolder(\"train\",transform=transform)\n",
        "dataset_test=datasets.ImageFolder(\"test\",transform=transform)"
      ],
      "metadata": {
        "execution": {
          "iopub.status.busy": "2022-10-06T15:21:34.660649Z",
          "iopub.execute_input": "2022-10-06T15:21:34.661141Z",
          "iopub.status.idle": "2022-10-06T15:21:40.851637Z",
          "shell.execute_reply.started": "2022-10-06T15:21:34.661111Z",
          "shell.execute_reply": "2022-10-06T15:21:40.850189Z"
        },
        "trusted": true,
        "id": "IEzWIbA6gg2e"
      },
      "execution_count": 9,
      "outputs": []
    },
    {
      "cell_type": "code",
      "source": [
        "dataset_train.classes"
      ],
      "metadata": {
        "execution": {
          "iopub.status.busy": "2022-10-06T15:21:42.610385Z",
          "iopub.execute_input": "2022-10-06T15:21:42.611342Z",
          "iopub.status.idle": "2022-10-06T15:21:42.621549Z",
          "shell.execute_reply.started": "2022-10-06T15:21:42.611297Z",
          "shell.execute_reply": "2022-10-06T15:21:42.619950Z"
        },
        "trusted": true,
        "id": "LFG1DXBugg2g",
        "outputId": "9c0adef8-0c31-4496-8e85-6ed4f15a17b2",
        "colab": {
          "base_uri": "https://localhost:8080/"
        }
      },
      "execution_count": 8,
      "outputs": [
        {
          "output_type": "execute_result",
          "data": {
            "text/plain": [
              "['angry', 'disgust', 'fear', 'happy', 'neutral', 'sad', 'surprise']"
            ]
          },
          "metadata": {},
          "execution_count": 8
        }
      ]
    },
    {
      "cell_type": "code",
      "source": [
        "print(\"There are {} images for training and {} for testing\".format(len(dataset_train),len(dataset_test)))"
      ],
      "metadata": {
        "execution": {
          "iopub.status.busy": "2022-10-06T15:21:43.426331Z",
          "iopub.execute_input": "2022-10-06T15:21:43.426744Z",
          "iopub.status.idle": "2022-10-06T15:21:43.442764Z",
          "shell.execute_reply.started": "2022-10-06T15:21:43.426713Z",
          "shell.execute_reply": "2022-10-06T15:21:43.441112Z"
        },
        "trusted": true,
        "id": "CXkEn41Dgg2h",
        "outputId": "52437987-ee17-49e2-aa61-cd93fb374184",
        "colab": {
          "base_uri": "https://localhost:8080/"
        }
      },
      "execution_count": 11,
      "outputs": [
        {
          "output_type": "stream",
          "name": "stdout",
          "text": [
            "There are 28709 images for training and 7178 for testing\n"
          ]
        }
      ]
    },
    {
      "cell_type": "code",
      "source": [
        "# check the size of the images\n",
        "itr=iter(dataset_train)\n",
        "img,label=next(itr)\n",
        "img.size()"
      ],
      "metadata": {
        "execution": {
          "iopub.status.busy": "2022-10-06T15:21:44.179141Z",
          "iopub.execute_input": "2022-10-06T15:21:44.179567Z",
          "iopub.status.idle": "2022-10-06T15:21:44.197010Z",
          "shell.execute_reply.started": "2022-10-06T15:21:44.179534Z",
          "shell.execute_reply": "2022-10-06T15:21:44.195397Z"
        },
        "trusted": true,
        "id": "Kp6-J54Ogg2i",
        "outputId": "bc57fddf-4a3f-44c1-d4c5-184b6a6758e3",
        "colab": {
          "base_uri": "https://localhost:8080/"
        }
      },
      "execution_count": 12,
      "outputs": [
        {
          "output_type": "execute_result",
          "data": {
            "text/plain": [
              "torch.Size([1, 48, 48])"
            ]
          },
          "metadata": {},
          "execution_count": 12
        }
      ]
    },
    {
      "cell_type": "code",
      "source": [
        "train_loader=DataLoader(dataset_train,batch_size=64,shuffle=True)\n",
        "test_loader=DataLoader(dataset_test,batch_size=64,shuffle=False)"
      ],
      "metadata": {
        "execution": {
          "iopub.status.busy": "2022-10-06T15:22:38.072493Z",
          "iopub.execute_input": "2022-10-06T15:22:38.073018Z",
          "iopub.status.idle": "2022-10-06T15:22:38.079645Z",
          "shell.execute_reply.started": "2022-10-06T15:22:38.072976Z",
          "shell.execute_reply": "2022-10-06T15:22:38.077948Z"
        },
        "trusted": true,
        "id": "KlFdU55ogg2j"
      },
      "execution_count": 13,
      "outputs": []
    },
    {
      "cell_type": "code",
      "source": [
        "class Net(nn.Module):\n",
        "    def __init__(self):\n",
        "        super().__init__()\n",
        "        self.relu=nn.ReLU()\n",
        "        self.flatten=nn.Flatten()\n",
        "        self.conv1=nn.Conv2d(in_channels=1,out_channels=32,kernel_size=3)\n",
        "        self.conv2=nn.Conv2d(in_channels=32,out_channels=64,kernel_size=3)\n",
        "        self.pool1=nn.MaxPool2d(kernel_size=2)\n",
        "        self.drop1=nn.Dropout()\n",
        "        self.conv3=nn.Conv2d(in_channels=64,out_channels=128,kernel_size=3)\n",
        "        self.conv4=nn.Conv2d(in_channels=128,out_channels=256,kernel_size=3)\n",
        "        self.pool2=nn.MaxPool2d(kernel_size=2)\n",
        "        self.drop2=nn.Dropout()\n",
        "        self.fc1=nn.Linear(in_features=9*9*256,out_features=1024)\n",
        "        self.drop3=nn.Dropout()\n",
        "        self.fc2=nn.Linear(in_features=1024,out_features=7)\n",
        "    def forward(self,x):\n",
        "        #input (1,48,48)\n",
        "        x=self.conv1(x)\n",
        "        x=self.relu(x)\n",
        "        #input (32,46,46)\n",
        "        x=self.conv2(x)\n",
        "        x=self.relu(x)\n",
        "        #input (64,44,44)\n",
        "        x=self.pool1(x)\n",
        "        x=self.drop1(x)\n",
        "        \n",
        "        #input (64,22,22)\n",
        "        x=self.conv3(x)\n",
        "        x=self.relu(x)\n",
        "        #input (128,20,20)\n",
        "        x=self.conv4(x)\n",
        "        x=self.relu(x)\n",
        "        #input (256,18,18)\n",
        "        x=self.pool2(x)\n",
        "        x=self.drop2(x)\n",
        "        #input (256,9,9)\n",
        "        x=self.flatten(x)\n",
        "        x=self.fc1(x)\n",
        "        x=self.relu(x)\n",
        "        x=self.drop3(x)\n",
        "        x=self.fc2(x)\n",
        "        return x"
      ],
      "metadata": {
        "execution": {
          "iopub.status.busy": "2022-10-06T15:23:22.564141Z",
          "iopub.execute_input": "2022-10-06T15:23:22.564520Z",
          "iopub.status.idle": "2022-10-06T15:23:22.582216Z",
          "shell.execute_reply.started": "2022-10-06T15:23:22.564489Z",
          "shell.execute_reply": "2022-10-06T15:23:22.580770Z"
        },
        "trusted": true,
        "id": "bs_7zs17gg2k"
      },
      "execution_count": 14,
      "outputs": []
    },
    {
      "cell_type": "code",
      "source": [
        "%%time\n",
        "import torch.optim as optim\n",
        "loss_fn=nn.CrossEntropyLoss()\n",
        "optimizer=optim.Adam(model.parameters())\n",
        "from tqdm import tqdm\n",
        "epochs=10\n",
        "\n",
        "for epoch in range(epochs):\n",
        "    print(f\"epoch {epoch}:\",end=' ')\n",
        "    train_loader=tqdm(train_loader)\n",
        "   \n",
        "    for imgs,labels in train_loader:\n",
        "        imgs=imgs.cuda()\n",
        "        labels=labels.cuda()\n",
        "        outputs=model(imgs)\n",
        "        optimizer.zero_grad()\n",
        "        loss=loss_fn(outputs,labels)\n",
        "        loss.backward()\n",
        "        optimizer.step()\n",
        "    print(loss.item())\n",
        "        "
      ],
      "metadata": {
        "execution": {
          "iopub.status.busy": "2022-10-06T15:47:36.076903Z",
          "iopub.execute_input": "2022-10-06T15:47:36.077307Z",
          "iopub.status.idle": "2022-10-06T15:53:23.470968Z",
          "shell.execute_reply.started": "2022-10-06T15:47:36.077277Z",
          "shell.execute_reply": "2022-10-06T15:53:23.469588Z"
        },
        "trusted": true,
        "id": "vjRx687zgg2l",
        "outputId": "0d1c1902-32ee-495e-d297-155f9f01765f",
        "colab": {
          "base_uri": "https://localhost:8080/",
          "height": 151
        }
      },
      "execution_count": 15,
      "outputs": [
        {
          "output_type": "error",
          "ename": "NameError",
          "evalue": "ignored",
          "traceback": [
            "\u001b[0;31m---------------------------------------------------------------------------\u001b[0m",
            "\u001b[0;31mNameError\u001b[0m                                 Traceback (most recent call last)",
            "\u001b[0;32m<timed exec>\u001b[0m in \u001b[0;36m<module>\u001b[0;34m\u001b[0m\n",
            "\u001b[0;31mNameError\u001b[0m: name 'model' is not defined"
          ]
        }
      ]
    },
    {
      "cell_type": "code",
      "source": [],
      "metadata": {
        "execution": {
          "iopub.status.busy": "2022-10-06T15:30:00.985179Z",
          "iopub.execute_input": "2022-10-06T15:30:00.985677Z",
          "iopub.status.idle": "2022-10-06T15:30:01.043120Z",
          "shell.execute_reply.started": "2022-10-06T15:30:00.985646Z",
          "shell.execute_reply": "2022-10-06T15:30:01.041899Z"
        },
        "trusted": true,
        "id": "eOaTA0PLgg2m"
      },
      "execution_count": null,
      "outputs": []
    },
    {
      "cell_type": "code",
      "source": [
        "total=len(dataset_test)\n",
        "correct=0\n",
        "for imgs,labels in loader_test:\n",
        "    imgs=imgs.cuda()\n",
        "    labels=labels.cuda()\n",
        "    outputs=model(imgs)\n",
        "    _,predicted=torch.max(outputs.data,1)\n",
        "    tmp=(predicted==labels).sum()\n",
        "    correct+=tmp\n",
        "print(correct/total)"
      ],
      "metadata": {
        "execution": {
          "iopub.status.busy": "2022-10-06T15:31:24.947489Z",
          "iopub.execute_input": "2022-10-06T15:31:24.947886Z",
          "iopub.status.idle": "2022-10-06T15:31:33.465995Z",
          "shell.execute_reply.started": "2022-10-06T15:31:24.947857Z",
          "shell.execute_reply": "2022-10-06T15:31:33.464499Z"
        },
        "trusted": true,
        "id": "tj0Pt6WVgg2n"
      },
      "execution_count": null,
      "outputs": []
    }
  ]
}