{
 "cells": [
  {
   "cell_type": "code",
   "execution_count": 1,
   "id": "a61cb7c8",
   "metadata": {
    "_cell_guid": "b1076dfc-b9ad-4769-8c92-a6c4dae69d19",
    "_uuid": "8f2839f25d086af736a60e9eeb907d3b93b6e0e5",
    "execution": {
     "iopub.execute_input": "2022-10-16T21:53:31.289451Z",
     "iopub.status.busy": "2022-10-16T21:53:31.288488Z",
     "iopub.status.idle": "2022-10-16T21:53:33.330101Z",
     "shell.execute_reply": "2022-10-16T21:53:33.329156Z"
    },
    "papermill": {
     "duration": 2.049606,
     "end_time": "2022-10-16T21:53:33.332573",
     "exception": false,
     "start_time": "2022-10-16T21:53:31.282967",
     "status": "completed"
    },
    "tags": []
   },
   "outputs": [],
   "source": [
    "import torch\n",
    "import torch.nn as nn\n",
    "import torchvision as vision\n",
    "from torchvision.transforms import Lambda,Compose,ToTensor,Normalize,Grayscale\n",
    "import torchvision.datasets as datasets\n",
    "from torch.utils.data import DataLoader"
   ]
  },
  {
   "cell_type": "code",
   "execution_count": 2,
   "id": "cd7f8f5c",
   "metadata": {
    "execution": {
     "iopub.execute_input": "2022-10-16T21:53:33.340824Z",
     "iopub.status.busy": "2022-10-16T21:53:33.340404Z",
     "iopub.status.idle": "2022-10-16T21:53:57.428060Z",
     "shell.execute_reply": "2022-10-16T21:53:57.426936Z"
    },
    "papermill": {
     "duration": 24.094618,
     "end_time": "2022-10-16T21:53:57.430787",
     "exception": false,
     "start_time": "2022-10-16T21:53:33.336169",
     "status": "completed"
    },
    "tags": []
   },
   "outputs": [],
   "source": [
    "transform=Compose([Grayscale(),ToTensor(),Normalize(0.5,0.5)])\n",
    "dataset_train=datasets.ImageFolder(\"/kaggle/input/fer2013/train\",transform=transform)\n",
    "dataset_test=datasets.ImageFolder(\"/kaggle/input/fer2013/test\",transform=transform)\n"
   ]
  },
  {
   "cell_type": "code",
   "execution_count": 3,
   "id": "7a789284",
   "metadata": {
    "execution": {
     "iopub.execute_input": "2022-10-16T21:53:57.439440Z",
     "iopub.status.busy": "2022-10-16T21:53:57.439059Z",
     "iopub.status.idle": "2022-10-16T21:53:57.444581Z",
     "shell.execute_reply": "2022-10-16T21:53:57.443449Z"
    },
    "papermill": {
     "duration": 0.014479,
     "end_time": "2022-10-16T21:53:57.448996",
     "exception": false,
     "start_time": "2022-10-16T21:53:57.434517",
     "status": "completed"
    },
    "tags": []
   },
   "outputs": [
    {
     "name": "stdout",
     "output_type": "stream",
     "text": [
      "There are 28709 samples each with the following categories \n",
      " ['angry', 'disgust', 'fear', 'happy', 'neutral', 'sad', 'surprise']\n"
     ]
    }
   ],
   "source": [
    "print(\"There are {} samples each with the following categories \\n {}\".format(\n",
    "      len(dataset_train),dataset_train.classes))"
   ]
  },
  {
   "cell_type": "code",
   "execution_count": 4,
   "id": "d0320cfb",
   "metadata": {
    "execution": {
     "iopub.execute_input": "2022-10-16T21:53:57.457091Z",
     "iopub.status.busy": "2022-10-16T21:53:57.456831Z",
     "iopub.status.idle": "2022-10-16T21:53:57.482702Z",
     "shell.execute_reply": "2022-10-16T21:53:57.481837Z"
    },
    "papermill": {
     "duration": 0.032329,
     "end_time": "2022-10-16T21:53:57.484968",
     "exception": false,
     "start_time": "2022-10-16T21:53:57.452639",
     "status": "completed"
    },
    "tags": []
   },
   "outputs": [
    {
     "data": {
      "text/plain": [
       "torch.Size([1, 48, 48])"
      ]
     },
     "execution_count": 4,
     "metadata": {},
     "output_type": "execute_result"
    }
   ],
   "source": [
    "itr=iter(dataset_train)\n",
    "img,label=next(itr)\n",
    "img.size()"
   ]
  },
  {
   "cell_type": "code",
   "execution_count": 5,
   "id": "dcdc13c0",
   "metadata": {
    "execution": {
     "iopub.execute_input": "2022-10-16T21:53:57.493421Z",
     "iopub.status.busy": "2022-10-16T21:53:57.493142Z",
     "iopub.status.idle": "2022-10-16T21:53:57.498116Z",
     "shell.execute_reply": "2022-10-16T21:53:57.497075Z"
    },
    "papermill": {
     "duration": 0.011678,
     "end_time": "2022-10-16T21:53:57.500315",
     "exception": false,
     "start_time": "2022-10-16T21:53:57.488637",
     "status": "completed"
    },
    "tags": []
   },
   "outputs": [],
   "source": [
    "train_loader=DataLoader(dataset_train,batch_size=64,shuffle=True,num_workers=2)\n",
    "test_loader=DataLoader(dataset_test,batch_size=128,shuffle=False,num_workers=2)"
   ]
  },
  {
   "cell_type": "code",
   "execution_count": 6,
   "id": "60e41d09",
   "metadata": {
    "execution": {
     "iopub.execute_input": "2022-10-16T21:53:57.508652Z",
     "iopub.status.busy": "2022-10-16T21:53:57.508366Z",
     "iopub.status.idle": "2022-10-16T21:53:57.520099Z",
     "shell.execute_reply": "2022-10-16T21:53:57.519235Z"
    },
    "papermill": {
     "duration": 0.018258,
     "end_time": "2022-10-16T21:53:57.522182",
     "exception": false,
     "start_time": "2022-10-16T21:53:57.503924",
     "status": "completed"
    },
    "tags": []
   },
   "outputs": [],
   "source": [
    "class Net(nn.Module):\n",
    "    def __init__(self):\n",
    "        super().__init__()\n",
    "        self.relu=nn.ReLU()\n",
    "        self.flatten=nn.Flatten()\n",
    "        self.conv1=nn.Conv2d(in_channels=1,out_channels=32,kernel_size=3)\n",
    "        self.conv2=nn.Conv2d(in_channels=32,out_channels=64,kernel_size=3)\n",
    "        self.pool1=nn.MaxPool2d(kernel_size=2)\n",
    "        self.drop1=nn.Dropout()\n",
    "        self.conv3=nn.Conv2d(in_channels=64,out_channels=128,kernel_size=3)\n",
    "        self.conv4=nn.Conv2d(in_channels=128,out_channels=256,kernel_size=3)\n",
    "        self.pool2=nn.MaxPool2d(kernel_size=2)\n",
    "        self.drop2=nn.Dropout()\n",
    "        self.fc1=nn.Linear(in_features=9*9*256,out_features=1024)\n",
    "        self.drop3=nn.Dropout()\n",
    "        self.fc2=nn.Linear(in_features=1024,out_features=7)\n",
    "    def forward(self,x):\n",
    "        #input (1,48,48)\n",
    "        x=self.conv1(x)\n",
    "        x=self.relu(x)\n",
    "        #input (32,46,46)\n",
    "        x=self.conv2(x)\n",
    "        x=self.relu(x)\n",
    "        #input (64,44,44)\n",
    "        x=self.pool1(x)\n",
    "        x=self.drop1(x)\n",
    "        \n",
    "        #input (64,22,22)\n",
    "        x=self.conv3(x)\n",
    "        x=self.relu(x)\n",
    "        #input (128,20,20)\n",
    "        x=self.conv4(x)\n",
    "        x=self.relu(x)\n",
    "        #input (256,18,18)\n",
    "        x=self.pool2(x)\n",
    "        x=self.drop2(x)\n",
    "        #input (256,9,9)\n",
    "        x=self.flatten(x)\n",
    "        x=self.fc1(x)\n",
    "        x=self.relu(x)\n",
    "        x=self.drop3(x)\n",
    "        x=self.fc2(x)\n",
    "        return x"
   ]
  },
  {
   "cell_type": "code",
   "execution_count": 7,
   "id": "222b3547",
   "metadata": {
    "execution": {
     "iopub.execute_input": "2022-10-16T21:53:57.530427Z",
     "iopub.status.busy": "2022-10-16T21:53:57.530070Z",
     "iopub.status.idle": "2022-10-16T21:54:00.915189Z",
     "shell.execute_reply": "2022-10-16T21:54:00.914240Z"
    },
    "papermill": {
     "duration": 3.391556,
     "end_time": "2022-10-16T21:54:00.917376",
     "exception": false,
     "start_time": "2022-10-16T21:53:57.525820",
     "status": "completed"
    },
    "tags": []
   },
   "outputs": [
    {
     "data": {
      "text/plain": [
       "Net(\n",
       "  (relu): ReLU()\n",
       "  (flatten): Flatten(start_dim=1, end_dim=-1)\n",
       "  (conv1): Conv2d(1, 32, kernel_size=(3, 3), stride=(1, 1))\n",
       "  (conv2): Conv2d(32, 64, kernel_size=(3, 3), stride=(1, 1))\n",
       "  (pool1): MaxPool2d(kernel_size=2, stride=2, padding=0, dilation=1, ceil_mode=False)\n",
       "  (drop1): Dropout(p=0.5, inplace=False)\n",
       "  (conv3): Conv2d(64, 128, kernel_size=(3, 3), stride=(1, 1))\n",
       "  (conv4): Conv2d(128, 256, kernel_size=(3, 3), stride=(1, 1))\n",
       "  (pool2): MaxPool2d(kernel_size=2, stride=2, padding=0, dilation=1, ceil_mode=False)\n",
       "  (drop2): Dropout(p=0.5, inplace=False)\n",
       "  (fc1): Linear(in_features=20736, out_features=1024, bias=True)\n",
       "  (drop3): Dropout(p=0.5, inplace=False)\n",
       "  (fc2): Linear(in_features=1024, out_features=7, bias=True)\n",
       ")"
      ]
     },
     "execution_count": 7,
     "metadata": {},
     "output_type": "execute_result"
    }
   ],
   "source": [
    "def init_weights(m):\n",
    "    if isinstance(m, nn.Conv2d) or isinstance(m,nn.Linear):\n",
    "        torch.nn.init.xavier_uniform_(m.weight)\n",
    "        m.bias.data.fill_(0.0)\n",
    "model=Net()\n",
    "model=model.cuda()\n",
    "model.apply(init_weights)"
   ]
  },
  {
   "cell_type": "code",
   "execution_count": 8,
   "id": "c3566493",
   "metadata": {
    "execution": {
     "iopub.execute_input": "2022-10-16T21:54:00.926017Z",
     "iopub.status.busy": "2022-10-16T21:54:00.925724Z",
     "iopub.status.idle": "2022-10-16T21:58:12.163396Z",
     "shell.execute_reply": "2022-10-16T21:58:12.161355Z"
    },
    "papermill": {
     "duration": 251.247525,
     "end_time": "2022-10-16T21:58:12.168661",
     "exception": false,
     "start_time": "2022-10-16T21:54:00.921136",
     "status": "completed"
    },
    "tags": []
   },
   "outputs": [
    {
     "name": "stdout",
     "output_type": "stream",
     "text": [
      "epoch 0: "
     ]
    },
    {
     "name": "stderr",
     "output_type": "stream",
     "text": [
      "100%|██████████| 449/449 [01:10<00:00,  6.40it/s]\n"
     ]
    },
    {
     "name": "stdout",
     "output_type": "stream",
     "text": [
      "744.6403611898422\n",
      "epoch 1: "
     ]
    },
    {
     "name": "stderr",
     "output_type": "stream",
     "text": [
      "100%|██████████| 449/449 [00:19<00:00, 22.55it/s]\n"
     ]
    },
    {
     "name": "stdout",
     "output_type": "stream",
     "text": [
      "618.6975874900818\n",
      "epoch 2: "
     ]
    },
    {
     "name": "stderr",
     "output_type": "stream",
     "text": [
      "100%|██████████| 449/449 [00:20<00:00, 22.10it/s]\n"
     ]
    },
    {
     "name": "stdout",
     "output_type": "stream",
     "text": [
      "571.1807827353477\n",
      "epoch 3: "
     ]
    },
    {
     "name": "stderr",
     "output_type": "stream",
     "text": [
      "100%|██████████| 449/449 [00:20<00:00, 21.80it/s]\n"
     ]
    },
    {
     "name": "stdout",
     "output_type": "stream",
     "text": [
      "542.5317810177803\n",
      "epoch 4: "
     ]
    },
    {
     "name": "stderr",
     "output_type": "stream",
     "text": [
      "100%|██████████| 449/449 [00:19<00:00, 22.53it/s]\n"
     ]
    },
    {
     "name": "stdout",
     "output_type": "stream",
     "text": [
      "520.7870004177094\n",
      "epoch 5: "
     ]
    },
    {
     "name": "stderr",
     "output_type": "stream",
     "text": [
      "100%|██████████| 449/449 [00:20<00:00, 22.32it/s]\n"
     ]
    },
    {
     "name": "stdout",
     "output_type": "stream",
     "text": [
      "497.53254705667496\n",
      "epoch 6: "
     ]
    },
    {
     "name": "stderr",
     "output_type": "stream",
     "text": [
      "100%|██████████| 449/449 [00:19<00:00, 22.49it/s]\n"
     ]
    },
    {
     "name": "stdout",
     "output_type": "stream",
     "text": [
      "480.7782652974129\n",
      "epoch 7: "
     ]
    },
    {
     "name": "stderr",
     "output_type": "stream",
     "text": [
      "100%|██████████| 449/449 [00:19<00:00, 22.64it/s]\n"
     ]
    },
    {
     "name": "stdout",
     "output_type": "stream",
     "text": [
      "462.77830070257187\n",
      "epoch 8: "
     ]
    },
    {
     "name": "stderr",
     "output_type": "stream",
     "text": [
      "100%|██████████| 449/449 [00:20<00:00, 22.17it/s]\n"
     ]
    },
    {
     "name": "stdout",
     "output_type": "stream",
     "text": [
      "445.3404230475426\n",
      "epoch 9: "
     ]
    },
    {
     "name": "stderr",
     "output_type": "stream",
     "text": [
      "100%|██████████| 449/449 [00:20<00:00, 22.32it/s]"
     ]
    },
    {
     "name": "stdout",
     "output_type": "stream",
     "text": [
      "428.14560401439667\n",
      "CPU times: user 1min 15s, sys: 7.46 s, total: 1min 22s\n",
      "Wall time: 4min 11s\n"
     ]
    },
    {
     "name": "stderr",
     "output_type": "stream",
     "text": [
      "\n"
     ]
    }
   ],
   "source": [
    "%%time\n",
    "import torch.optim as optim\n",
    "loss_fn=nn.CrossEntropyLoss()\n",
    "optimizer=optim.Adam(model.parameters())\n",
    "from tqdm import tqdm\n",
    "epochs=10\n",
    "\n",
    "for epoch in range(epochs):\n",
    "    print(f\"epoch {epoch}:\",end=' ')\n",
    "    train_loader=tqdm(train_loader)\n",
    "    epoch_loss=0.0\n",
    "    for imgs,labels in train_loader:\n",
    "        imgs=imgs.cuda()\n",
    "        labels=labels.cuda()\n",
    "        outputs=model(imgs)\n",
    "        optimizer.zero_grad()\n",
    "        loss=loss_fn(outputs,labels)\n",
    "        loss.backward()\n",
    "        optimizer.step()\n",
    "        epoch_loss+=loss.item()\n",
    "    print(epoch_loss)\n",
    "    \n",
    "        "
   ]
  },
  {
   "cell_type": "code",
   "execution_count": 9,
   "id": "03d262df",
   "metadata": {
    "execution": {
     "iopub.execute_input": "2022-10-16T21:58:12.469981Z",
     "iopub.status.busy": "2022-10-16T21:58:12.469393Z",
     "iopub.status.idle": "2022-10-16T21:58:12.794178Z",
     "shell.execute_reply": "2022-10-16T21:58:12.793114Z"
    },
    "papermill": {
     "duration": 0.476349,
     "end_time": "2022-10-16T21:58:12.796612",
     "exception": false,
     "start_time": "2022-10-16T21:58:12.320263",
     "status": "completed"
    },
    "tags": []
   },
   "outputs": [],
   "source": [
    "# save the model to a file\n",
    "torch.save(model,'model.h5')"
   ]
  },
  {
   "cell_type": "code",
   "execution_count": 10,
   "id": "e5d21d4a",
   "metadata": {
    "execution": {
     "iopub.execute_input": "2022-10-16T21:58:12.974473Z",
     "iopub.status.busy": "2022-10-16T21:58:12.974105Z",
     "iopub.status.idle": "2022-10-16T21:58:24.125567Z",
     "shell.execute_reply": "2022-10-16T21:58:24.124471Z"
    },
    "papermill": {
     "duration": 11.243871,
     "end_time": "2022-10-16T21:58:24.128459",
     "exception": false,
     "start_time": "2022-10-16T21:58:12.884588",
     "status": "completed"
    },
    "tags": []
   },
   "outputs": [
    {
     "name": "stdout",
     "output_type": "stream",
     "text": [
      "Requirement already satisfied: torchmetrics in /opt/conda/lib/python3.7/site-packages (0.9.3)\r\n",
      "Requirement already satisfied: typing-extensions in /opt/conda/lib/python3.7/site-packages (from torchmetrics) (4.3.0)\r\n",
      "Requirement already satisfied: numpy>=1.17.2 in /opt/conda/lib/python3.7/site-packages (from torchmetrics) (1.21.6)\r\n",
      "Requirement already satisfied: packaging in /opt/conda/lib/python3.7/site-packages (from torchmetrics) (21.3)\r\n",
      "Requirement already satisfied: torch>=1.3.1 in /opt/conda/lib/python3.7/site-packages (from torchmetrics) (1.11.0)\r\n",
      "Requirement already satisfied: pyparsing!=3.0.5,>=2.0.2 in /opt/conda/lib/python3.7/site-packages (from packaging->torchmetrics) (3.0.9)\r\n",
      "\u001b[33mWARNING: Running pip as the 'root' user can result in broken permissions and conflicting behaviour with the system package manager. It is recommended to use a virtual environment instead: https://pip.pypa.io/warnings/venv\u001b[0m\u001b[33m\r\n",
      "\u001b[0m"
     ]
    }
   ],
   "source": [
    "!pip install torchmetrics\n",
    "from torchmetrics import ConfusionMatrix\n",
    "conmat=ConfusionMatrix(num_classes=7)\n",
    "conmat=conmat.cuda()"
   ]
  },
  {
   "cell_type": "code",
   "execution_count": 11,
   "id": "8b4e3524",
   "metadata": {
    "execution": {
     "iopub.execute_input": "2022-10-16T21:58:24.304148Z",
     "iopub.status.busy": "2022-10-16T21:58:24.303225Z",
     "iopub.status.idle": "2022-10-16T21:58:40.112707Z",
     "shell.execute_reply": "2022-10-16T21:58:40.110929Z"
    },
    "papermill": {
     "duration": 15.899257,
     "end_time": "2022-10-16T21:58:40.115713",
     "exception": false,
     "start_time": "2022-10-16T21:58:24.216456",
     "status": "completed"
    },
    "tags": []
   },
   "outputs": [
    {
     "name": "stdout",
     "output_type": "stream",
     "text": [
      "tensor(0.5403, device='cuda:0')\n"
     ]
    }
   ],
   "source": [
    "# load the model from the file\n",
    "model=torch.load('model.h5')\n",
    "total=len(dataset_test)\n",
    "correct=0\n",
    "for imgs,labels in test_loader:\n",
    "    imgs=imgs.cuda()\n",
    "    labels=labels.cuda()\n",
    "    outputs=model(imgs)\n",
    "    _,predicted=torch.max(outputs.data,1)\n",
    "    tmp=(predicted==labels).sum()\n",
    "    correct+=tmp\n",
    "    conmat.update(predicted,labels)\n",
    "print(correct/total)"
   ]
  },
  {
   "cell_type": "code",
   "execution_count": 12,
   "id": "8f2b238c",
   "metadata": {
    "execution": {
     "iopub.execute_input": "2022-10-16T21:58:40.289856Z",
     "iopub.status.busy": "2022-10-16T21:58:40.289192Z",
     "iopub.status.idle": "2022-10-16T21:58:41.266105Z",
     "shell.execute_reply": "2022-10-16T21:58:41.265010Z"
    },
    "papermill": {
     "duration": 1.066193,
     "end_time": "2022-10-16T21:58:41.268908",
     "exception": false,
     "start_time": "2022-10-16T21:58:40.202715",
     "status": "completed"
    },
    "tags": []
   },
   "outputs": [],
   "source": [
    "import matplotlib.pyplot as plt\n",
    "import seaborn as sb"
   ]
  },
  {
   "cell_type": "code",
   "execution_count": 13,
   "id": "9e1c7899",
   "metadata": {
    "execution": {
     "iopub.execute_input": "2022-10-16T21:58:41.445637Z",
     "iopub.status.busy": "2022-10-16T21:58:41.444586Z",
     "iopub.status.idle": "2022-10-16T21:58:41.927092Z",
     "shell.execute_reply": "2022-10-16T21:58:41.926172Z"
    },
    "papermill": {
     "duration": 0.571585,
     "end_time": "2022-10-16T21:58:41.929180",
     "exception": false,
     "start_time": "2022-10-16T21:58:41.357595",
     "status": "completed"
    },
    "tags": []
   },
   "outputs": [
    {
     "data": {
      "text/plain": [
       "<AxesSubplot:>"
      ]
     },
     "execution_count": 13,
     "metadata": {},
     "output_type": "execute_result"
    },
    {
     "data": {
      "image/png": "[encoded data removed]",
      "text/plain": [
       "<Figure size 720x504 with 2 Axes>"
      ]
     },
     "metadata": {
      "needs_background": "light"
     },
     "output_type": "display_data"
    }
   ],
   "source": [
    "x=conmat.compute().cpu().numpy()\n",
    "plt.figure(figsize=(10,7))\n",
    "sb.heatmap(x,xticklabels=dataset_train.classes,yticklabels=dataset_train.classes,annot=True,fmt=\".0f\")"
   ]
  },
  {
   "cell_type": "code",
   "execution_count": null,
   "id": "72b31076",
   "metadata": {
    "papermill": {
     "duration": 0.08798,
     "end_time": "2022-10-16T21:58:42.104425",
     "exception": false,
     "start_time": "2022-10-16T21:58:42.016445",
     "status": "completed"
    },
    "tags": []
   },
   "outputs": [],
   "source": []
  }
 ],
 "metadata": {
  "kernelspec": {
   "display_name": "Python 3",
   "language": "python",
   "name": "python3"
  },
  "language_info": {
   "codemirror_mode": {
    "name": "ipython",
    "version": 3
   },
   "file_extension": ".py",
   "mimetype": "text/x-python",
   "name": "python",
   "nbconvert_exporter": "python",
   "pygments_lexer": "ipython3",
   "version": "3.7.12"
  },
  "papermill": {
   "default_parameters": {},
   "duration": 321.425109,
   "end_time": "2022-10-16T21:58:44.490601",
   "environment_variables": {},
   "exception": null,
   "input_path": "__notebook__.ipynb",
   "output_path": "__notebook__.ipynb",
   "parameters": {},
   "start_time": "2022-10-16T21:53:23.065492",
   "version": "2.3.4"
  }
 },
 "nbformat": 4,
 "nbformat_minor": 5
}
