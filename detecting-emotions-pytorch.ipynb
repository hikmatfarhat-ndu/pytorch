{
  "cells": [
    {
      "cell_type": "markdown",
      "metadata": {
        "colab_type": "text",
        "id": "view-in-github"
      },
      "source": [
        "<a href=\"https://colab.research.google.com/github/hikmatfarhat-ndu/pytorch/blob/main/detecting-emotions-pytorch.ipynb\" target=\"_parent\"><img src=\"https://colab.research.google.com/assets/colab-badge.svg\" alt=\"Open In Colab\"/></a>"
      ]
    },
    {
      "cell_type": "markdown",
      "metadata": {
        "id": "EKwPFqtRc7O7"
      },
      "source": [
        "# What you will learn\n",
        "1. Using Kaggle and importing Kaggle datasets\n",
        "1. Reading a dataset of images using ImageFolder\n",
        "1. Using Dropout to reduce overfitting"
      ]
    },
    {
      "cell_type": "code",
      "execution_count": 1,
      "metadata": {
        "_cell_guid": "b1076dfc-b9ad-4769-8c92-a6c4dae69d19",
        "_uuid": "8f2839f25d086af736a60e9eeb907d3b93b6e0e5",
        "execution": {
          "iopub.execute_input": "2022-10-17T04:36:54.345468Z",
          "iopub.status.busy": "2022-10-17T04:36:54.344858Z",
          "iopub.status.idle": "2022-10-17T04:36:54.351641Z",
          "shell.execute_reply": "2022-10-17T04:36:54.350284Z",
          "shell.execute_reply.started": "2022-10-17T04:36:54.345432Z"
        },
        "id": "AE8wsXorbNwF",
        "trusted": true
      },
      "outputs": [],
      "source": [
        "import torch\n",
        "import torch.nn as nn\n",
        "import torchvision as vision\n",
        "from torchvision.transforms import Lambda,Compose,ToTensor,Normalize,Grayscale,ToPILImage\n",
        "import torchvision.datasets as datasets\n",
        "from torch.utils.data import DataLoader\n",
        "import sys,os"
      ]
    },
    {
      "cell_type": "markdown",
      "metadata": {
        "id": "7jsgLQLmbNwL"
      },
      "source": [
        "## The data\n",
        "The data is stored on Kaggle. If you are running this notebook on \n",
        "1. Kaggle do the following\n",
        "    1. Using the right panel click on \"Add Data\"\n",
        "    1. Use the search keywords \"manas sambare fer-2013\"\n",
        "    1. Click on the \"+\"\n",
        "    1. The data is accessible from \"/kaggle/input/fer2013\" (see below)\n",
        "1. Google Colab do the following:\n",
        "    1. Go to your Kaggle account and click on your profile\n",
        "    1. Click on \"Account\"\n",
        "    1. Toward the middle of the page click on \"Create new API token\"\n",
        "    1. A file \"kaggle.json\" will be downloaded. Remember where it was saved"
      ]
    },
    {
      "cell_type": "markdown",
      "metadata": {
        "id": "ojg7tr9vbNwO"
      },
      "source": [
        "## If you are running on Kaggle"
      ]
    },
    {
      "cell_type": "code",
      "execution_count": 3,
      "metadata": {},
      "outputs": [],
      "source": [
        "IN_COLAB = 'google.colab' in sys.modules\n",
        "if IN_COLAB: \n",
        "    from google.colab import files\n",
        "    file=files.upload() # upload the saved kaggle.json\n",
        "    #### the token can be obtained from your kaggle account by going to settings\n",
        "    #### in the middle of the page under API there is a create new token\n",
        "    #### there is also explanation on how to do it\n",
        "    !mkdir /root/.kaggle\n",
        "    !mv kaggle.json  /root/.kaggle\n",
        "    !kaggle datasets download -d msambare/fer2013\n",
        "    !unzip -q fer2013.zip\n",
        "    data_path=\"./\"\n",
        "elif os.environ.get('KAGGLE_KERNEL_RUN_TYPE') is not None:\n",
        "    data_path=\"/kaggle/input/fer2013/\"\n",
        "else:\n",
        "  data_path=\"./\"\n",
        "  if not os.path.isfile(\"fer2013.zip\"):\n",
        "    !kaggle datasets download -d msambare/fer2013\n",
        "    !unzip -q fer2013.zip\n"
      ]
    },
    {
      "cell_type": "markdown",
      "metadata": {
        "id": "KgvXAZNDbNwQ"
      },
      "source": [
        "## If you are running on Colab"
      ]
    },
    {
      "cell_type": "markdown",
      "metadata": {
        "id": "0AilQo-AHi1a"
      },
      "source": [
        "- The ```ImageFolder``` class automatically associates with each image the name of the folder it was found in.\n",
        "- After you run the cell below, open the folder in the left panel and you will see a directory structure that contains ```train/angry,train,disgust,...```\n",
        "- Each image in ```train/angry``` will be given the label \"angry\" (actually 0) and so on."
      ]
    },
    {
      "cell_type": "code",
      "execution_count": 4,
      "metadata": {
        "colab": {
          "base_uri": "https://localhost:8080/",
          "height": 166
        },
        "id": "kEtqZP4pbNwR",
        "outputId": "811cdadc-2272-4851-e1a7-2ddcd3e4edaa"
      },
      "outputs": [],
      "source": [
        "\n",
        "transform=Compose([Grayscale(),ToTensor()])\n",
        "dataset_train=datasets.ImageFolder(data_path+\"/train\",transform=transform)\n",
        "dataset_test=datasets.ImageFolder(data_path+\"/test\",transform=transform)"
      ]
    },
    {
      "cell_type": "code",
      "execution_count": null,
      "metadata": {
        "colab": {
          "base_uri": "https://localhost:8080/"
        },
        "execution": {
          "iopub.execute_input": "2022-10-17T04:50:16.914628Z",
          "iopub.status.busy": "2022-10-17T04:50:16.913941Z",
          "iopub.status.idle": "2022-10-17T04:50:16.919578Z",
          "shell.execute_reply": "2022-10-17T04:50:16.918586Z",
          "shell.execute_reply.started": "2022-10-17T04:50:16.914593Z"
        },
        "id": "Rh1HvWOnbNwR",
        "outputId": "b1c3f96a-dcf4-4b72-df27-c76dc8c1b67b",
        "trusted": true
      },
      "outputs": [],
      "source": [
        "print(\"There are {} samples each with the following categories \\n {}\".format(\n",
        "      len(dataset_train),dataset_train.classes))"
      ]
    },
    {
      "cell_type": "markdown",
      "metadata": {
        "id": "xE_9LM0CHnhS"
      },
      "source": [
        "- Like always we plot the images to get an idea about the data"
      ]
    },
    {
      "cell_type": "code",
      "execution_count": null,
      "metadata": {
        "colab": {
          "base_uri": "https://localhost:8080/",
          "height": 243
        },
        "execution": {
          "iopub.execute_input": "2022-10-17T04:50:19.380186Z",
          "iopub.status.busy": "2022-10-17T04:50:19.379798Z",
          "iopub.status.idle": "2022-10-17T04:50:20.149181Z",
          "shell.execute_reply": "2022-10-17T04:50:20.148111Z",
          "shell.execute_reply.started": "2022-10-17T04:50:19.380154Z"
        },
        "id": "B901DA61bNwT",
        "outputId": "308dcf59-8e6d-4941-f3b6-b78f0081878f",
        "trusted": true
      },
      "outputs": [],
      "source": [
        "import matplotlib.pyplot as plt\n",
        "fig=plt.figure(figsize=(20,4))\n",
        "fig.tight_layout()\n",
        "#plt.subplots_adjust( wspace=1, hspace=1)\n",
        "to_image=ToPILImage()\n",
        "for i in range(16):\n",
        "            idx=torch.randint(len(dataset_test),size=(1,)).item()\n",
        "            img,label=dataset_test[idx]\n",
        "            t=fig.add_subplot(2,8,i+1)\n",
        "            # set the title of the image equal to its label\n",
        "            t.set_title(dataset_test.classes[label])\n",
        "            t.axes.get_xaxis().set_visible(False)\n",
        "            t.axes.get_yaxis().set_visible(False)\n",
        "            plt.imshow(to_image(img),cmap='gray')"
      ]
    },
    {
      "cell_type": "code",
      "execution_count": 7,
      "metadata": {
        "execution": {
          "iopub.execute_input": "2022-10-17T04:51:29.005162Z",
          "iopub.status.busy": "2022-10-17T04:51:29.004356Z",
          "iopub.status.idle": "2022-10-17T04:51:29.010523Z",
          "shell.execute_reply": "2022-10-17T04:51:29.009520Z",
          "shell.execute_reply.started": "2022-10-17T04:51:29.005120Z"
        },
        "id": "XCg-v19nbNwU",
        "trusted": true
      },
      "outputs": [],
      "source": [
        "train_loader=DataLoader(dataset_train,batch_size=64,shuffle=True,num_workers=2,pin_memory=True)\n",
        "test_loader=DataLoader(dataset_test,batch_size=64,shuffle=False,num_workers=2,pin_memory=True)"
      ]
    },
    {
      "cell_type": "markdown",
      "metadata": {
        "id": "ETWBNVLbJBqj"
      },
      "source": [
        "## Model"
      ]
    },
    {
      "cell_type": "code",
      "execution_count": 8,
      "metadata": {
        "execution": {
          "iopub.execute_input": "2022-10-17T04:51:31.213166Z",
          "iopub.status.busy": "2022-10-17T04:51:31.212781Z",
          "iopub.status.idle": "2022-10-17T04:51:31.226235Z",
          "shell.execute_reply": "2022-10-17T04:51:31.224798Z",
          "shell.execute_reply.started": "2022-10-17T04:51:31.213132Z"
        },
        "id": "JckqZTukbNwV",
        "trusted": true
      },
      "outputs": [],
      "source": [
        "class Net(nn.Module):\n",
        "    def __init__(self):\n",
        "        super().__init__()\n",
        "        self.relu=nn.ReLU()\n",
        "        self.flatten=nn.Flatten()\n",
        "        self.conv1=nn.Conv2d(in_channels=1,out_channels=32,kernel_size=3)\n",
        "        self.conv2=nn.Conv2d(in_channels=32,out_channels=64,kernel_size=3)\n",
        "        self.pool1=nn.MaxPool2d(kernel_size=2)\n",
        "        self.drop1=nn.Dropout()\n",
        "        self.conv3=nn.Conv2d(in_channels=64,out_channels=128,kernel_size=3)\n",
        "        self.conv4=nn.Conv2d(in_channels=128,out_channels=256,kernel_size=3)\n",
        "        self.pool2=nn.MaxPool2d(kernel_size=2)\n",
        "        self.drop2=nn.Dropout()\n",
        "        self.fc1=nn.Linear(in_features=9*9*256,out_features=1024)\n",
        "        self.drop3=nn.Dropout()\n",
        "        self.fc2=nn.Linear(in_features=1024,out_features=7)\n",
        "    def forward(self,x):\n",
        "        #input (1,48,48)\n",
        "        x=self.conv1(x)\n",
        "        x=self.relu(x)\n",
        "        #input (32,46,46)\n",
        "        x=self.conv2(x)\n",
        "        x=self.relu(x)\n",
        "        #input (64,44,44)\n",
        "        x=self.pool1(x)\n",
        "        x=self.drop1(x)\n",
        "        \n",
        "        #input (64,22,22)\n",
        "        x=self.conv3(x)\n",
        "        x=self.relu(x)\n",
        "        #input (128,20,20)\n",
        "        x=self.conv4(x)\n",
        "        x=self.relu(x)\n",
        "        #input (256,18,18)\n",
        "        x=self.pool2(x)\n",
        "        x=self.drop2(x)\n",
        "        #input (256,9,9)\n",
        "        x=self.flatten(x)\n",
        "        x=self.fc1(x)\n",
        "        x=self.relu(x)\n",
        "        x=self.drop3(x)\n",
        "        x=self.fc2(x)\n",
        "        return x"
      ]
    },
    {
      "cell_type": "markdown",
      "metadata": {
        "id": "2Yv7Yr0BJOqq"
      },
      "source": [
        "Instantiate mode, optimizer and loss function. Then learning loop."
      ]
    },
    {
      "cell_type": "code",
      "execution_count": null,
      "metadata": {
        "colab": {
          "base_uri": "https://localhost:8080/"
        },
        "execution": {
          "iopub.execute_input": "2022-10-17T04:51:33.098938Z",
          "iopub.status.busy": "2022-10-17T04:51:33.098569Z",
          "iopub.status.idle": "2022-10-17T04:54:45.600976Z",
          "shell.execute_reply": "2022-10-17T04:54:45.599782Z",
          "shell.execute_reply.started": "2022-10-17T04:51:33.098907Z"
        },
        "id": "8aWy8YrXbNwX",
        "outputId": "97a45002-b092-46ac-94ca-9b15ac232c50",
        "trusted": true
      },
      "outputs": [],
      "source": [
        "%%time\n",
        "import torch.optim as optim\n",
        "model=Net().cuda()\n",
        "loss_fn=nn.CrossEntropyLoss()\n",
        "optimizer=optim.Adam(model.parameters())\n",
        "\n",
        "from tqdm import tqdm\n",
        "epochs=10\n",
        "\n",
        "for epoch in range(epochs):\n",
        "    print(f\"epoch {epoch}:\",end=' ')\n",
        "    train_loader=tqdm(train_loader)\n",
        "    epoch_loss=0.0\n",
        "    for imgs,labels in train_loader:\n",
        "        imgs=imgs.cuda()\n",
        "        labels=labels.cuda()\n",
        "        outputs=model(imgs)\n",
        "        optimizer.zero_grad()\n",
        "        loss=loss_fn(outputs,labels)\n",
        "        loss.backward()\n",
        "        optimizer.step()\n",
        "        epoch_loss+=loss.item()\n",
        "    print(epoch_loss)\n",
        "    \n",
        "        "
      ]
    },
    {
      "cell_type": "code",
      "execution_count": 10,
      "metadata": {
        "execution": {
          "iopub.execute_input": "2022-10-17T04:57:39.277364Z",
          "iopub.status.busy": "2022-10-17T04:57:39.276316Z",
          "iopub.status.idle": "2022-10-17T04:57:39.600470Z",
          "shell.execute_reply": "2022-10-17T04:57:39.599460Z",
          "shell.execute_reply.started": "2022-10-17T04:57:39.277323Z"
        },
        "id": "oNF1REJUbNwZ",
        "trusted": true
      },
      "outputs": [],
      "source": [
        "# save the model to a file\n",
        "torch.save(model,'model.h5')"
      ]
    },
    {
      "cell_type": "markdown",
      "metadata": {
        "id": "EyEzJcdWJhU0"
      },
      "source": [
        "Install and use torchmetrics"
      ]
    },
    {
      "cell_type": "code",
      "execution_count": null,
      "metadata": {
        "colab": {
          "base_uri": "https://localhost:8080/"
        },
        "execution": {
          "iopub.execute_input": "2022-10-17T04:57:40.580612Z",
          "iopub.status.busy": "2022-10-17T04:57:40.579957Z",
          "iopub.status.idle": "2022-10-17T04:57:50.243767Z",
          "shell.execute_reply": "2022-10-17T04:57:50.242615Z",
          "shell.execute_reply.started": "2022-10-17T04:57:40.580579Z"
        },
        "id": "PWhhItxAbNwb",
        "outputId": "73c67c36-51d3-47e2-ffa8-b043053666bc",
        "trusted": true
      },
      "outputs": [],
      "source": [
        "!pip install torchmetrics\n",
        "from torchmetrics import ConfusionMatrix\n",
        "conmat=ConfusionMatrix(task=\"multiclass\",num_classes=7)\n",
        "conmat=conmat.cuda()"
      ]
    },
    {
      "cell_type": "code",
      "execution_count": null,
      "metadata": {
        "colab": {
          "base_uri": "https://localhost:8080/"
        },
        "execution": {
          "iopub.execute_input": "2022-10-17T04:57:50.247702Z",
          "iopub.status.busy": "2022-10-17T04:57:50.247057Z",
          "iopub.status.idle": "2022-10-17T04:57:57.085467Z",
          "shell.execute_reply": "2022-10-17T04:57:57.083512Z",
          "shell.execute_reply.started": "2022-10-17T04:57:50.247660Z"
        },
        "id": "9F1Vse0KbNwc",
        "outputId": "9dc9f7dc-c6a4-4ea9-a50c-c556db4d37c9",
        "trusted": true
      },
      "outputs": [],
      "source": [
        "# load the model from the file\n",
        "model=torch.load('model.h5')\n",
        "total=len(dataset_test)\n",
        "correct=0\n",
        "for imgs,labels in test_loader:\n",
        "    imgs=imgs.cuda()\n",
        "    labels=labels.cuda()\n",
        "    outputs=model(imgs)\n",
        "    _,predicted=torch.max(outputs.data,1)\n",
        "    tmp=(predicted==labels).sum()\n",
        "    correct+=tmp\n",
        "    conmat.update(predicted,labels)\n",
        "print(correct/total)"
      ]
    },
    {
      "cell_type": "code",
      "execution_count": 13,
      "metadata": {
        "execution": {
          "iopub.execute_input": "2022-10-17T04:49:47.587136Z",
          "iopub.status.busy": "2022-10-17T04:49:47.586730Z",
          "iopub.status.idle": "2022-10-17T04:49:47.947165Z",
          "shell.execute_reply": "2022-10-17T04:49:47.946183Z",
          "shell.execute_reply.started": "2022-10-17T04:49:47.587100Z"
        },
        "id": "ZIim9O69bNwc",
        "trusted": true
      },
      "outputs": [],
      "source": [
        "import matplotlib.pyplot as plt\n",
        "import seaborn as sb"
      ]
    },
    {
      "cell_type": "code",
      "execution_count": null,
      "metadata": {
        "colab": {
          "base_uri": "https://localhost:8080/",
          "height": 446
        },
        "execution": {
          "iopub.execute_input": "2022-10-17T04:49:47.949170Z",
          "iopub.status.busy": "2022-10-17T04:49:47.948805Z",
          "iopub.status.idle": "2022-10-17T04:49:48.439927Z",
          "shell.execute_reply": "2022-10-17T04:49:48.439009Z",
          "shell.execute_reply.started": "2022-10-17T04:49:47.949134Z"
        },
        "id": "hL418P7obNwc",
        "outputId": "38ec4fe7-3397-4475-eef1-e920d5abe434",
        "trusted": true
      },
      "outputs": [],
      "source": [
        "x=conmat.compute().cpu().numpy()\n",
        "plt.figure(figsize=(10,7))\n",
        "sb.heatmap(x,xticklabels=dataset_train.classes,yticklabels=dataset_train.classes,annot=True,fmt=\".0f\")"
      ]
    },
    {
      "cell_type": "code",
      "execution_count": 14,
      "metadata": {
        "id": "l4JmJhHvbNwd"
      },
      "outputs": [],
      "source": []
    }
  ],
  "metadata": {
    "accelerator": "GPU",
    "colab": {
      "include_colab_link": true,
      "provenance": []
    },
    "kernelspec": {
      "display_name": "pytorch",
      "language": "python",
      "name": "python3"
    },
    "language_info": {
      "codemirror_mode": {
        "name": "ipython",
        "version": 3
      },
      "file_extension": ".py",
      "mimetype": "text/x-python",
      "name": "python",
      "nbconvert_exporter": "python",
      "pygments_lexer": "ipython3",
      "version": "3.11.5"
    }
  },
  "nbformat": 4,
  "nbformat_minor": 0
}
