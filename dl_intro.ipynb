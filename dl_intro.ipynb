{
  "nbformat": 4,
  "nbformat_minor": 0,
  "metadata": {
    "colab": {
      "provenance": [],
      "authorship_tag": "ABX9TyNuNqO6ce7qryqS+HxdL/2J",
      "include_colab_link": true
    },
    "kernelspec": {
      "name": "python3",
      "display_name": "Python 3"
    },
    "language_info": {
      "name": "python"
    },
    "widgets": {
      "application/vnd.jupyter.widget-state+json": {
        "9daf573e127d45b0a13d392d625f6dd7": {
          "model_module": "@jupyter-widgets/controls",
          "model_name": "HBoxModel",
          "model_module_version": "1.5.0",
          "state": {
            "_dom_classes": [],
            "_model_module": "@jupyter-widgets/controls",
            "_model_module_version": "1.5.0",
            "_model_name": "HBoxModel",
            "_view_count": null,
            "_view_module": "@jupyter-widgets/controls",
            "_view_module_version": "1.5.0",
            "_view_name": "HBoxView",
            "box_style": "",
            "children": [
              "IPY_MODEL_df2a9b2f02d2434682d4ca213568fbc9",
              "IPY_MODEL_ffce6ae3a0f14491a4690ddec0df4674",
              "IPY_MODEL_716eed7ac5b242b1a43d095c0376fdfd"
            ],
            "layout": "IPY_MODEL_10a2f8fa1176415eb1427954d02ac81e"
          }
        },
        "df2a9b2f02d2434682d4ca213568fbc9": {
          "model_module": "@jupyter-widgets/controls",
          "model_name": "HTMLModel",
          "model_module_version": "1.5.0",
          "state": {
            "_dom_classes": [],
            "_model_module": "@jupyter-widgets/controls",
            "_model_module_version": "1.5.0",
            "_model_name": "HTMLModel",
            "_view_count": null,
            "_view_module": "@jupyter-widgets/controls",
            "_view_module_version": "1.5.0",
            "_view_name": "HTMLView",
            "description": "",
            "description_tooltip": null,
            "layout": "IPY_MODEL_fc2f840078b44934a9a0a972b2d1a6aa",
            "placeholder": "​",
            "style": "IPY_MODEL_c49c0f939d094f8bb00e028bcae134cb",
            "value": "100%"
          }
        },
        "ffce6ae3a0f14491a4690ddec0df4674": {
          "model_module": "@jupyter-widgets/controls",
          "model_name": "FloatProgressModel",
          "model_module_version": "1.5.0",
          "state": {
            "_dom_classes": [],
            "_model_module": "@jupyter-widgets/controls",
            "_model_module_version": "1.5.0",
            "_model_name": "FloatProgressModel",
            "_view_count": null,
            "_view_module": "@jupyter-widgets/controls",
            "_view_module_version": "1.5.0",
            "_view_name": "ProgressView",
            "bar_style": "success",
            "description": "",
            "description_tooltip": null,
            "layout": "IPY_MODEL_c25206d0d8be44e3b18028c61228dbd4",
            "max": 170498071,
            "min": 0,
            "orientation": "horizontal",
            "style": "IPY_MODEL_1fe3e0a792204b568fdeada38bff559a",
            "value": 170498071
          }
        },
        "716eed7ac5b242b1a43d095c0376fdfd": {
          "model_module": "@jupyter-widgets/controls",
          "model_name": "HTMLModel",
          "model_module_version": "1.5.0",
          "state": {
            "_dom_classes": [],
            "_model_module": "@jupyter-widgets/controls",
            "_model_module_version": "1.5.0",
            "_model_name": "HTMLModel",
            "_view_count": null,
            "_view_module": "@jupyter-widgets/controls",
            "_view_module_version": "1.5.0",
            "_view_name": "HTMLView",
            "description": "",
            "description_tooltip": null,
            "layout": "IPY_MODEL_eff7dac6203a4409bd25e5a0fafbfe5f",
            "placeholder": "​",
            "style": "IPY_MODEL_ffe956b562a148a9abb63f496ce91030",
            "value": " 170498071/170498071 [00:02&lt;00:00, 73485295.02it/s]"
          }
        },
        "10a2f8fa1176415eb1427954d02ac81e": {
          "model_module": "@jupyter-widgets/base",
          "model_name": "LayoutModel",
          "model_module_version": "1.2.0",
          "state": {
            "_model_module": "@jupyter-widgets/base",
            "_model_module_version": "1.2.0",
            "_model_name": "LayoutModel",
            "_view_count": null,
            "_view_module": "@jupyter-widgets/base",
            "_view_module_version": "1.2.0",
            "_view_name": "LayoutView",
            "align_content": null,
            "align_items": null,
            "align_self": null,
            "border": null,
            "bottom": null,
            "display": null,
            "flex": null,
            "flex_flow": null,
            "grid_area": null,
            "grid_auto_columns": null,
            "grid_auto_flow": null,
            "grid_auto_rows": null,
            "grid_column": null,
            "grid_gap": null,
            "grid_row": null,
            "grid_template_areas": null,
            "grid_template_columns": null,
            "grid_template_rows": null,
            "height": null,
            "justify_content": null,
            "justify_items": null,
            "left": null,
            "margin": null,
            "max_height": null,
            "max_width": null,
            "min_height": null,
            "min_width": null,
            "object_fit": null,
            "object_position": null,
            "order": null,
            "overflow": null,
            "overflow_x": null,
            "overflow_y": null,
            "padding": null,
            "right": null,
            "top": null,
            "visibility": null,
            "width": null
          }
        },
        "fc2f840078b44934a9a0a972b2d1a6aa": {
          "model_module": "@jupyter-widgets/base",
          "model_name": "LayoutModel",
          "model_module_version": "1.2.0",
          "state": {
            "_model_module": "@jupyter-widgets/base",
            "_model_module_version": "1.2.0",
            "_model_name": "LayoutModel",
            "_view_count": null,
            "_view_module": "@jupyter-widgets/base",
            "_view_module_version": "1.2.0",
            "_view_name": "LayoutView",
            "align_content": null,
            "align_items": null,
            "align_self": null,
            "border": null,
            "bottom": null,
            "display": null,
            "flex": null,
            "flex_flow": null,
            "grid_area": null,
            "grid_auto_columns": null,
            "grid_auto_flow": null,
            "grid_auto_rows": null,
            "grid_column": null,
            "grid_gap": null,
            "grid_row": null,
            "grid_template_areas": null,
            "grid_template_columns": null,
            "grid_template_rows": null,
            "height": null,
            "justify_content": null,
            "justify_items": null,
            "left": null,
            "margin": null,
            "max_height": null,
            "max_width": null,
            "min_height": null,
            "min_width": null,
            "object_fit": null,
            "object_position": null,
            "order": null,
            "overflow": null,
            "overflow_x": null,
            "overflow_y": null,
            "padding": null,
            "right": null,
            "top": null,
            "visibility": null,
            "width": null
          }
        },
        "c49c0f939d094f8bb00e028bcae134cb": {
          "model_module": "@jupyter-widgets/controls",
          "model_name": "DescriptionStyleModel",
          "model_module_version": "1.5.0",
          "state": {
            "_model_module": "@jupyter-widgets/controls",
            "_model_module_version": "1.5.0",
            "_model_name": "DescriptionStyleModel",
            "_view_count": null,
            "_view_module": "@jupyter-widgets/base",
            "_view_module_version": "1.2.0",
            "_view_name": "StyleView",
            "description_width": ""
          }
        },
        "c25206d0d8be44e3b18028c61228dbd4": {
          "model_module": "@jupyter-widgets/base",
          "model_name": "LayoutModel",
          "model_module_version": "1.2.0",
          "state": {
            "_model_module": "@jupyter-widgets/base",
            "_model_module_version": "1.2.0",
            "_model_name": "LayoutModel",
            "_view_count": null,
            "_view_module": "@jupyter-widgets/base",
            "_view_module_version": "1.2.0",
            "_view_name": "LayoutView",
            "align_content": null,
            "align_items": null,
            "align_self": null,
            "border": null,
            "bottom": null,
            "display": null,
            "flex": null,
            "flex_flow": null,
            "grid_area": null,
            "grid_auto_columns": null,
            "grid_auto_flow": null,
            "grid_auto_rows": null,
            "grid_column": null,
            "grid_gap": null,
            "grid_row": null,
            "grid_template_areas": null,
            "grid_template_columns": null,
            "grid_template_rows": null,
            "height": null,
            "justify_content": null,
            "justify_items": null,
            "left": null,
            "margin": null,
            "max_height": null,
            "max_width": null,
            "min_height": null,
            "min_width": null,
            "object_fit": null,
            "object_position": null,
            "order": null,
            "overflow": null,
            "overflow_x": null,
            "overflow_y": null,
            "padding": null,
            "right": null,
            "top": null,
            "visibility": null,
            "width": null
          }
        },
        "1fe3e0a792204b568fdeada38bff559a": {
          "model_module": "@jupyter-widgets/controls",
          "model_name": "ProgressStyleModel",
          "model_module_version": "1.5.0",
          "state": {
            "_model_module": "@jupyter-widgets/controls",
            "_model_module_version": "1.5.0",
            "_model_name": "ProgressStyleModel",
            "_view_count": null,
            "_view_module": "@jupyter-widgets/base",
            "_view_module_version": "1.2.0",
            "_view_name": "StyleView",
            "bar_color": null,
            "description_width": ""
          }
        },
        "eff7dac6203a4409bd25e5a0fafbfe5f": {
          "model_module": "@jupyter-widgets/base",
          "model_name": "LayoutModel",
          "model_module_version": "1.2.0",
          "state": {
            "_model_module": "@jupyter-widgets/base",
            "_model_module_version": "1.2.0",
            "_model_name": "LayoutModel",
            "_view_count": null,
            "_view_module": "@jupyter-widgets/base",
            "_view_module_version": "1.2.0",
            "_view_name": "LayoutView",
            "align_content": null,
            "align_items": null,
            "align_self": null,
            "border": null,
            "bottom": null,
            "display": null,
            "flex": null,
            "flex_flow": null,
            "grid_area": null,
            "grid_auto_columns": null,
            "grid_auto_flow": null,
            "grid_auto_rows": null,
            "grid_column": null,
            "grid_gap": null,
            "grid_row": null,
            "grid_template_areas": null,
            "grid_template_columns": null,
            "grid_template_rows": null,
            "height": null,
            "justify_content": null,
            "justify_items": null,
            "left": null,
            "margin": null,
            "max_height": null,
            "max_width": null,
            "min_height": null,
            "min_width": null,
            "object_fit": null,
            "object_position": null,
            "order": null,
            "overflow": null,
            "overflow_x": null,
            "overflow_y": null,
            "padding": null,
            "right": null,
            "top": null,
            "visibility": null,
            "width": null
          }
        },
        "ffe956b562a148a9abb63f496ce91030": {
          "model_module": "@jupyter-widgets/controls",
          "model_name": "DescriptionStyleModel",
          "model_module_version": "1.5.0",
          "state": {
            "_model_module": "@jupyter-widgets/controls",
            "_model_module_version": "1.5.0",
            "_model_name": "DescriptionStyleModel",
            "_view_count": null,
            "_view_module": "@jupyter-widgets/base",
            "_view_module_version": "1.2.0",
            "_view_name": "StyleView",
            "description_width": ""
          }
        }
      }
    }
  },
  "cells": [
    {
      "cell_type": "markdown",
      "metadata": {
        "id": "view-in-github",
        "colab_type": "text"
      },
      "source": [
        "<a href=\"https://colab.research.google.com/github/hikmatfarhat-ndu/pytorch/blob/main/dl_intro.ipynb\" target=\"_parent\"><img src=\"https://colab.research.google.com/assets/colab-badge.svg\" alt=\"Open In Colab\"/></a>"
      ]
    },
    {
      "cell_type": "markdown",
      "source": [
        "# What you will learn in this notebook\n",
        " \n",
        "1. Introduction to supervised learning and classification\n",
        "1. Introduction to loss functions, activation functions, and gradient descent\n",
        "1. Introduction to Pytorch packages, tensors, computation graphs, and gradients\n"
      ],
      "metadata": {
        "id": "ZXG2Gc34Vqio"
      }
    },
    {
      "cell_type": "markdown",
      "source": [
        "## Introduction to supervised learning\n",
        "\n",
        "Machine learning tasks can be loosely grouped into three categories\n",
        "1. Supervised Learning\n",
        "1. Unsupervised Learning\n",
        "1. Reinforcement Learning\n",
        "\n",
        "In this workshop we will practice **supervised learning** and mostly **classification** problems. \n",
        "\n",
        "Usually we are given a set of $n$ data pairs:\n",
        "\n",
        "$$dataset=\\{(x_1,y_1),\\ldots,(x_n,y_n)\\}$$ \n",
        "\n",
        "The assumption is that there is some unknown function $p$ which \"maps\" each $x_i$ to the corresponding $y_i$. The meaning of the word \"map\" is different for regression and classification. \n",
        "\n",
        "The regression case is straightforward, $y_i=p(x_i)$. In the classification case, $p$ is regarded as a conditional probability. Given a set of $C$ classes $\\{0,1,2,3,\\ldots,C-1 \\}$, $p(x_i)$ is interpreted as the **probability** that $x_i$ belongs to one of the $C$ classes.\n",
        "\n",
        "Our goal is to determine (learn), or at least approximate, $p$ from the data.\n",
        " \n",
        "In this notebook we give the first example of a classification problem. We are given a set (CIFAR10) of image,label pairs where each image can be in one of the __ten__ classes: ship, horse, car...etc and so each label is a value between 0 and 9 denoting the class of image. For example an image with an associated label of 8 is that of a ship. \n",
        "\n",
        "Coming back to the $x,y$ pairs mentioned earlier, the \"x\" is the image and the \"y\" is the class.\n",
        "\n",
        "To simplify matters we will group all \"machines\" (ship, car,...) into one class and all living things (horse, dog,...) into another. Then $p$ becomes the probability of an input image being a \"machine\" or not. \n",
        "\n"
      ],
      "metadata": {
        "id": "u1vtIxur97UM"
      }
    },
    {
      "cell_type": "markdown",
      "source": [
        "## CIFAR10 Dataset\n",
        "\n",
        "At this point we will be needing two packages: torch and torchvision so we import them"
      ],
      "metadata": {
        "id": "zpJEiPpbHjjk"
      }
    },
    {
      "cell_type": "code",
      "execution_count": 1,
      "metadata": {
        "id": "4j6mq7QsZzsF"
      },
      "outputs": [],
      "source": [
        "import torch \n",
        "import torchvision as vision"
      ]
    },
    {
      "cell_type": "markdown",
      "source": [
        "There are two datasets associated with CIFAR10: a training set and a testing set"
      ],
      "metadata": {
        "id": "u5s-82k8IYwW"
      }
    },
    {
      "cell_type": "code",
      "source": [
        "cifar10_train=vision.datasets.CIFAR10(\".\",download=True,train=True)# train=True is the default\n",
        "cifar10_test=vision.datasets.CIFAR10(\".\",download=True,train=False)"
      ],
      "metadata": {
        "colab": {
          "base_uri": "https://localhost:8080/",
          "height": 102,
          "referenced_widgets": [
            "9daf573e127d45b0a13d392d625f6dd7",
            "df2a9b2f02d2434682d4ca213568fbc9",
            "ffce6ae3a0f14491a4690ddec0df4674",
            "716eed7ac5b242b1a43d095c0376fdfd",
            "10a2f8fa1176415eb1427954d02ac81e",
            "fc2f840078b44934a9a0a972b2d1a6aa",
            "c49c0f939d094f8bb00e028bcae134cb",
            "c25206d0d8be44e3b18028c61228dbd4",
            "1fe3e0a792204b568fdeada38bff559a",
            "eff7dac6203a4409bd25e5a0fafbfe5f",
            "ffe956b562a148a9abb63f496ce91030"
          ]
        },
        "id": "XXoGGW1OaAEZ",
        "outputId": "7ca064b1-c917-42e1-e5ed-88e7e00311ca"
      },
      "execution_count": 2,
      "outputs": [
        {
          "output_type": "stream",
          "name": "stdout",
          "text": [
            "Downloading https://www.cs.toronto.edu/~kriz/cifar-10-python.tar.gz to ./cifar-10-python.tar.gz\n"
          ]
        },
        {
          "output_type": "display_data",
          "data": {
            "text/plain": [
              "  0%|          | 0/170498071 [00:00<?, ?it/s]"
            ],
            "application/vnd.jupyter.widget-view+json": {
              "version_major": 2,
              "version_minor": 0,
              "model_id": "9daf573e127d45b0a13d392d625f6dd7"
            }
          },
          "metadata": {}
        },
        {
          "output_type": "stream",
          "name": "stdout",
          "text": [
            "Extracting ./cifar-10-python.tar.gz to .\n",
            "Files already downloaded and verified\n"
          ]
        }
      ]
    },
    {
      "cell_type": "markdown",
      "source": [
        "It helps to get an idea of the properties of the dataset and how to use torch datasets"
      ],
      "metadata": {
        "id": "tiK2f9uyH2uH"
      }
    },
    {
      "cell_type": "code",
      "source": [
        "train_samples=len(cifar10_train)\n",
        "test_samples=len(cifar10_test)\n",
        "print(\"The length of training data is {} and the test data is {}\".format(train_samples,test_samples))\n"
      ],
      "metadata": {
        "colab": {
          "base_uri": "https://localhost:8080/"
        },
        "id": "6tHVh-P7IQ8h",
        "outputId": "e81acc7a-69ad-4dde-8941-f7940d9c89eb"
      },
      "execution_count": 3,
      "outputs": [
        {
          "output_type": "stream",
          "name": "stdout",
          "text": [
            "The length of training data is 50000 and the test data is 10000\n"
          ]
        }
      ]
    },
    {
      "cell_type": "markdown",
      "source": [
        "Because datasets are **iterable** objects (see explanation [here](https://docs.python.org/3/glossary.html) ) the best way to access the items is through an iterator."
      ],
      "metadata": {
        "id": "m7zBqVB3oCeV"
      }
    },
    {
      "cell_type": "code",
      "source": [
        "# create an iterator to the dataset\n",
        "itr=iter(cifar10_train)\n",
        "img0,label0=next(itr)\n",
        "print(type(img0))"
      ],
      "metadata": {
        "colab": {
          "base_uri": "https://localhost:8080/"
        },
        "id": "JziiKBlKnDqH",
        "outputId": "e3603c30-1504-430c-b021-6e9732b0d4b6"
      },
      "execution_count": 4,
      "outputs": [
        {
          "output_type": "stream",
          "name": "stdout",
          "text": [
            "<class 'PIL.Image.Image'>\n"
          ]
        }
      ]
    },
    {
      "cell_type": "code",
      "source": [
        "# Plot the first image (a frog) and set the corresponding label as title\n",
        "\n",
        "import matplotlib.pyplot as plt\n",
        "fig=plt.figure()\n",
        "fig.set_size_inches(1,1)\n",
        "p=fig.add_subplot()\n",
        "\n",
        "p.set_title(str(label0))\n",
        "p.axes.get_xaxis().set_visible(False)\n",
        "p.axes.get_yaxis().set_visible(False)\n",
        "plt.imshow(img0)"
      ],
      "metadata": {
        "colab": {
          "base_uri": "https://localhost:8080/",
          "height": 123
        },
        "id": "EuyZNWfIJmml",
        "outputId": "b9e32003-ec04-4ef0-ce82-def96a49f5c5"
      },
      "execution_count": 5,
      "outputs": [
        {
          "output_type": "execute_result",
          "data": {
            "text/plain": [
              "<matplotlib.image.AxesImage at 0x7f654fea2350>"
            ]
          },
          "metadata": {},
          "execution_count": 5
        },
        {
          "output_type": "display_data",
          "data": {
            "text/plain": [
              "<Figure size 72x72 with 1 Axes>"
            ],
            "image/png": "[encoded data removed]"
          },
          "metadata": {
            "needs_background": "light"
          }
        }
      ]
    },
    {
      "cell_type": "markdown",
      "source": [
        "In this notebook we will use a less \"conventional\" way of accessing the data items. \n",
        "- cifar10_train.data is an array of images so cifar10_train.data[0] is the first image\n",
        "- cifar10_train.targets is an array of the corresponding labels so cifar10_train.targets[0] is the first label.\n",
        "\n",
        "Next we create torch **tensors** from the datasets. For now, we think of a torch **tensor** as a multidimensional array.\n",
        "\n",
        "\n",
        "**Note**: the pixel values are divided by the maximal value (255). This is ofen the case to aid with the convergence"
      ],
      "metadata": {
        "id": "pI3ML83Va19K"
      }
    },
    {
      "cell_type": "code",
      "source": [
        "img_train=torch.tensor(cifar10_train.data,dtype=torch.float32)/255.\n",
        "img_test=torch.tensor(cifar10_test.data,dtype=torch.float32)/255.\n",
        "label_train=torch.tensor(cifar10_train.targets,dtype=torch.float32)\n",
        "label_test=torch.tensor(cifar10_test.targets,dtype=torch.float32)"
      ],
      "metadata": {
        "id": "7rOOuE5ra-qC"
      },
      "execution_count": 6,
      "outputs": []
    },
    {
      "cell_type": "markdown",
      "source": [
        "\n",
        "\n",
        "## Logistic Regression\n",
        "\n",
        "In this notebook we introduce Logistic Regression which can be regarded as the **simplest neural network**, a single \"neuron\". This type of network is sometime called a Perceptron, but the method used for learning is different from the way a Perceptron learns. \n",
        "\n",
        "As can be seen from the figure below the input is a vector of size _n_ and it feeds a single unit (a neuron or perceptron). To obtain the output we perform the **dot** product between the matrix **W** and the input **x** and the result is fed into some function (usually nonlinear) _f_\n",
        "\n",
        "$$\n",
        "\\begin{align*}\n",
        "z&=\\sum_iw_i\\cdot x_i+b\\\\\n",
        "\\hat{y}(x)&=f(z)\n",
        "\\end{align*}\n",
        "$$\n",
        "\n",
        "Since $z$ depends on $w$ and $b$ so does $\\hat{y}$. The input and _f_ are known whereas _W_ and _b_ are parameters to be determined. Our goal is to find the _optimal_ _W_ and _b_ such that the output is as *close as possible* to the label associated with the input.\n",
        "![title](https://github.com/hikmatfarhat-ndu/CSC645/blob/master/figures/perceptron.png?raw=1)\n",
        "\n",
        "How is **as close as possible** defined? The dataset is usually a set of pairs $(x,y)$. We define the loss as the **deviation** between the label $y$ and the result $\\hat{y}=f(z)$\n",
        "\n",
        "$$loss=E_{w,b}(y,\\hat{y})$$\n",
        "\n",
        "The function $E$ depends on the problem (for example binary cross entropy, mean squared error,...)\n",
        "\n",
        "Note that $E$ depends on the parameters $w,b$. Our goal is to find the **optimal** $w,b$ such that the loss is minimal. From calculus we know that to find the minimum (max) of a function we compute its derivative and find where it is null."
      ],
      "metadata": {
        "id": "4udcJFDWf8-8"
      }
    },
    {
      "cell_type": "markdown",
      "source": [
        "## Sigmoid\n",
        "\n",
        "So far we have not specified the function _f_ that our  model depends on $\\hat{y}=f(z)$. In this example we use the **sigmoid** function. Given an input _z_ it has the form\n",
        "\n",
        "$$\n",
        "\\begin{align*}\n",
        "\\sigma=\\frac{1}{1+e^{-z}}\n",
        "\\end{align*}\n",
        "$$\n",
        "\n",
        "We can plot the sigmoid function using matplotlib. As you can see below the values of $\\sigma$ go from 0 to 1 which we interpret as a probability. For example, if $\\sigma=0.65$ then the probability of the image being a **ship** is 0.65 and of **not** being one is 0.35 so decide it is a ship.\n"
      ],
      "metadata": {
        "id": "Wha5x_KeRHkw"
      }
    },
    {
      "cell_type": "code",
      "source": [
        "import numpy as np\n",
        "z=[1/(1+np.exp(-x)) for x in range(-10,11)]\n",
        "plt.plot([x for x in range(-10,11)],z)\n",
        "plt.xticks([t for t in range(-10,11,2)])\n",
        "plt.show()"
      ],
      "metadata": {
        "colab": {
          "base_uri": "https://localhost:8080/",
          "height": 265
        },
        "id": "wAe6yJrBRN_1",
        "outputId": "7bd84e2d-f3f9-44e0-f6b9-d6565aaff745"
      },
      "execution_count": 7,
      "outputs": [
        {
          "output_type": "display_data",
          "data": {
            "text/plain": [
              "<Figure size 432x288 with 1 Axes>"
            ],
            "image/png": "[encoded data removed]"
          },
          "metadata": {
            "needs_background": "light"
          }
        }
      ]
    },
    {
      "cell_type": "markdown",
      "source": [
        "## Gradient Descent\n",
        "\n",
        "\n",
        "<center>\n",
        "<img src=\"https://github.com/hikmatfarhat-ndu/CSC645/blob/master/figures/gradient-descent.png?raw=1\" width=\"350\">\n",
        "</center>\n",
        "\n",
        "Now that we have an expression to optimize we need a method to find the optimal parameters. Typically, one computes the gradient and the optimal value corresponds to the value  of the parameters when the gradient vanishes. Unfortunately, for logistic regression there is __no closed form solution__ so we seek a numerical method to find the optimal parameters.\n",
        "\n",
        "Our goal is to find the **optimal** values for _W_ and _b_. To do so we give them some _arbitrary_ values and then using the expression for $E$\n",
        "In the figure below we show an arbitrary function _E(w)_. For a given value of _w_ we compute the derivative (slope) of _E_ with respect to _w_ (two different values are shown). The point on the left side has a negative slope so we need to **increase** the value of _w_ to move toward the minimum whereas the point on the right side the slope is positive so we have to **decrease** the value of _w_. \n",
        "\n",
        "In general we \"update\" the values of _w_ and _b_ as follows\n",
        "\n",
        "$$\n",
        "\\begin{align*}\n",
        "  w=w-\\alpha\\cdot \\frac{\\partial E}{\\partial w}\\\\\n",
        "  b=b-\\alpha\\cdot \\frac{\\partial E}{\\partial b}\n",
        "\\end{align*}\n",
        "$$\n",
        "\n",
        "where $\\alpha$ is a parameter chosen by us, called the __learning rate__."
      ],
      "metadata": {
        "id": "08C4C1wUcyQv"
      }
    },
    {
      "cell_type": "markdown",
      "source": [
        "## Flatening the images\n",
        "The images have dimensions (3,32,32) (3 channels, 32 height,32 width). To feed them to our \"neuron\" we need to create a vector of dimension 3x32x32"
      ],
      "metadata": {
        "id": "_vMc-jV9pIcd"
      }
    },
    {
      "cell_type": "code",
      "source": [
        "dim=3*32*32\n",
        "train_samples=50000\n",
        "test_samples=10000\n",
        "img_train=img_train.reshape(train_samples,dim)\n",
        "img_test=img_test.reshape(test_samples,dim)"
      ],
      "metadata": {
        "id": "UvukYwIicPqx"
      },
      "execution_count": 8,
      "outputs": []
    },
    {
      "cell_type": "markdown",
      "source": [
        "As mentioned before, to simplify the problem, we group all \"machines\" together by giving them the label 1 and all living things together by giving them the label 0"
      ],
      "metadata": {
        "id": "E7QpEeoqppWW"
      }
    },
    {
      "cell_type": "code",
      "source": [
        "#airplane=0,car=1,bird=2,cat=3,deer=4,dog=5,frog=6,horse=7,ship=8,truck=9\n",
        "features=torch.tensor([0,1,8,9])\n",
        "for i in range(label_train.shape[0]):\n",
        "    if torch.isin(label_train[i],features):\n",
        "        label_train[i]=1\n",
        "    else:\n",
        "        label_train[i]=0\n",
        "\n",
        "for i in range(label_test.shape[0]):\n",
        "    if torch.isin(label_test[i],features):\n",
        "        label_test[i]=1\n",
        "    else:\n",
        "        label_test[i]=0        "
      ],
      "metadata": {
        "id": "WuNp40w4vebE"
      },
      "execution_count": 9,
      "outputs": []
    },
    {
      "cell_type": "code",
      "source": [
        "# the dataset is a bit biased\n",
        "torch.count_nonzero(label_train)"
      ],
      "metadata": {
        "colab": {
          "base_uri": "https://localhost:8080/"
        },
        "id": "z1V2d5mOt5FK",
        "outputId": "2540c419-4032-4025-da91-b99630fb3fc1"
      },
      "execution_count": 10,
      "outputs": [
        {
          "output_type": "execute_result",
          "data": {
            "text/plain": [
              "tensor(20000)"
            ]
          },
          "metadata": {},
          "execution_count": 10
        }
      ]
    },
    {
      "cell_type": "markdown",
      "source": [
        "## Initialize the parameters\n",
        "Our goal is to find the **optimal** values for the parameters, weights and bias. Intially we give them random values (for weights) and 0 for the bias as shown below. Note two things\n",
        "1. We divide the initial values of the weights by the total number of samples to minimize the possibility of divergence.\n",
        "1. The `reguires_grad` declares a tensor to be a variable, i.e. we need the derivative. In previous versions of Pytorch one needed to declare variables explicitly but this is deprecated now. See [here](https://pytorch.org/docs/stable/autograd.html#variable-deprecated)"
      ],
      "metadata": {
        "id": "r-VxiVGnp2LC"
      }
    },
    {
      "cell_type": "code",
      "source": [
        "weights=torch.rand(dim,requires_grad=True,dtype=torch.float32)\n",
        "weights.data/=train_samples\n",
        "bias=torch.tensor(0.,requires_grad=True,dtype=torch.float32)"
      ],
      "metadata": {
        "id": "koYSysX4gKjr"
      },
      "execution_count": 11,
      "outputs": []
    },
    {
      "cell_type": "markdown",
      "source": [
        "## Optimization loop"
      ],
      "metadata": {
        "id": "1Z9ssRJxX6iw"
      }
    },
    {
      "cell_type": "code",
      "source": [
        "# learning rate\n",
        "rate=0.015\n",
        "# for 0-1 classification we use the binary cross entropy loss\n",
        "loss_fn=torch.nn.BCELoss()\n",
        "\n",
        "for i in range(1000):\n",
        "  y_hat=torch.matmul(img_train,weights)+bias\n",
        "  y_hat=torch.sigmoid(y_hat)\n",
        "  loss=loss_fn(y_hat.squeeze(),label_train)\n",
        " # compute the gradient wrt weights and bias\n",
        "  dw,db=torch.autograd.grad(loss,[weights,bias])\n",
        "  #update the weights and bias\n",
        "  weights.data-=rate*dw\n",
        "  bias.data-=rate*db\n",
        "\n",
        "  if(i%100==0):\n",
        "    print(\"loss {:.4f}\".format(loss.item()))"
      ],
      "metadata": {
        "colab": {
          "base_uri": "https://localhost:8080/"
        },
        "id": "WwNpWU0RoMbi",
        "outputId": "6ac6e73c-d241-4ba9-b883-95c8c413d23b"
      },
      "execution_count": 12,
      "outputs": [
        {
          "output_type": "stream",
          "name": "stdout",
          "text": [
            "loss 0.6942\n",
            "loss 0.4717\n",
            "loss 0.4585\n",
            "loss 0.4523\n",
            "loss 0.4480\n",
            "loss 0.4448\n",
            "loss 0.4423\n",
            "loss 0.4401\n",
            "loss 0.4384\n",
            "loss 0.4368\n"
          ]
        }
      ]
    },
    {
      "cell_type": "markdown",
      "source": [
        "## Prediction on the test data\n",
        "\n",
        "An important measure of any ML method is how well it \"generalizes\". This is done by using the trained model on test data, i.e. other than the data it was trained on. To do that we note that the output of our model is the probability that the input is a \"machine\", which could be any value between 0 and 1. The test labels are discrete values of 0 and 1 so how do we compare them? We regard a probability $\\ge 0.5$ to be 1 and $< 0.5$ to be 0"
      ],
      "metadata": {
        "id": "IJGEPlrz5l0U"
      }
    },
    {
      "cell_type": "code",
      "source": [
        "def predict(X):\n",
        "    # m is the number of samples\n",
        "    m = X.size()[0]\n",
        "    # initialize the prediction variable\n",
        "    label_prediction = torch.zeros(m,1)\n",
        "    \n",
        "    # Compute vector \"y_hat\" predicting\n",
        "    # the probabilities of a machine being present in the picture\n",
        "    \n",
        "    y_hat=torch.matmul(X,weights)+bias\n",
        "    y_hat=torch.sigmoid(y_hat)\n",
        "    # loop over all samples\n",
        "    for i in range(y_hat.size()[0]):    \n",
        "        # Convert probabilities y_hat[0,i] to actual predictions \n",
        "        #if y_hat[i]>=0.5:\n",
        "        if y_hat[i]>=0.5:\n",
        "            label_prediction[i]=1\n",
        "        else:\n",
        "            label_prediction[i]=0\n",
        "    \n",
        "\n",
        "    return label_prediction"
      ],
      "metadata": {
        "id": "XttSuF7xuVom"
      },
      "execution_count": 13,
      "outputs": []
    },
    {
      "cell_type": "code",
      "source": [
        "label_prediction_test = predict(img_test).squeeze()\n",
        "label_prediction_train = predict(img_train).squeeze()\n",
        "print(\"train accuracy:\"+str((100 - torch.mean(torch.abs(label_prediction_train - label_train)) * 100)))\n",
        "print(\"test accuracy:\"+str((100 - torch.mean(torch.abs(label_prediction_test - label_test)) * 100)))"
      ],
      "metadata": {
        "colab": {
          "base_uri": "https://localhost:8080/"
        },
        "id": "2LDDffgKuv5P",
        "outputId": "bad51cce-ea84-49a1-c83c-df047d7cddaf"
      },
      "execution_count": 14,
      "outputs": [
        {
          "output_type": "stream",
          "name": "stdout",
          "text": [
            "train accuracy:tensor(81.3940)\n",
            "test accuracy:tensor(81.1900)\n"
          ]
        }
      ]
    },
    {
      "cell_type": "markdown",
      "source": [
        "## Using Pytorch\n",
        "\n",
        "The model used in this notebooks is simple enough to code directly. We only needed Pytorch to compute the gradients. When more complicated models are used this process becomes unwieldy. We can use Pytorch to abstract away the details.  \n",
        "The abstractions offered by Pytorch are illustrated below to solve the same problem that we just did. In later notebooks,  the training procedure is more or less the same, only the model and the optimizer will differ."
      ],
      "metadata": {
        "id": "qdCBzLnqc6tO"
      }
    },
    {
      "cell_type": "markdown",
      "source": [
        "### The model\n",
        "\n",
        "The model we plan to use is encapsulated in a class that **inherits** from ```torch.nn.Module```\n",
        "\n",
        "All we need to do is **override** two methods:\n",
        "1. ```__init__```. As you would have guess this is called when the object is constructed to initialize our model\n",
        "1. ``` forward```. This is called everytime a forward computation is needed"
      ],
      "metadata": {
        "id": "E1baF5ll16Q3"
      }
    },
    {
      "cell_type": "code",
      "source": [
        "\n",
        "import torch.nn as nn\n",
        "\n",
        "class Net(nn.Module):\n",
        "  def __init__(self,in_features,out_features):\n",
        "    super(Net, self).__init__()\n",
        "    self.input_size=in_features\n",
        "    self.output_size=out_features\n",
        "    # declaring weights and bias as parameters so that they are included\n",
        "    # in the return value of .parameters()\n",
        "    self.weights=nn.Parameter(torch.rand(in_features,requires_grad=True,dtype=torch.float32))\n",
        "    self.weights.data/=in_features\n",
        "    self.bias=nn.Parameter(torch.tensor(0.,requires_grad=True,dtype=torch.float32))\n",
        "    #self.layer=nn.Linear(self.input_size,self.output_size,bias=True)\n",
        "  def forward(self,input):  \n",
        "    y_hat=torch.matmul(input,self.weights)+self.bias\n",
        "    y_hat=torch.sigmoid(y_hat)\n",
        "    return y_hat"
      ],
      "metadata": {
        "id": "5LlED-xrgbiJ"
      },
      "execution_count": 15,
      "outputs": []
    },
    {
      "cell_type": "markdown",
      "source": [
        "Note that in the initialization, the weights and bias are constructed as ```Parameter```. This is so that we can use the ```.parameters()``` call and pass it to the optimizer.\n",
        "Next we create an instance of the model"
      ],
      "metadata": {
        "id": "Tm160c2I23J3"
      }
    },
    {
      "cell_type": "code",
      "source": [
        "model=Net(dim,1)"
      ],
      "metadata": {
        "id": "Y9_n6Y2N00Io"
      },
      "execution_count": 17,
      "outputs": []
    },
    {
      "cell_type": "markdown",
      "source": [
        "Recall that each learning iteration performs a number of steps. \n",
        "1. Compute the forward pass over the input to get the output. This is now done using ```model.forward()``` indirectly by calling ```model(input)```\n",
        "1. Compute the loss using an appropriate loss function. Same as before\n",
        "1. Compute the gradients. Now we use ```loss.backward()```. Not only it computes the gradient with respect to the parameters but saves those values in the parameters themselves. For example, if ```p``` is a parameters then ```loss.backward()``` computes the gradient and saves it in ```p.grad```\n",
        "1. Update the parameters. This is done by the optimizer using ```optimizer.step()```. This is important since later on we will use optimizers that use a different strategy to update the parameters."
      ],
      "metadata": {
        "id": "KKkSOrAn35u5"
      }
    },
    {
      "cell_type": "code",
      "source": [
        "rate=0.015\n",
        "\n",
        "import torch.optim as optim\n",
        "optimizer=optim.SGD(model.parameters(),lr=rate)\n",
        "loss_fn=torch.nn.BCELoss()\n",
        "\n",
        "for i in range(1000):\n",
        "  # uses the .forward() method to get y_hat\n",
        "  y_hat=model(img_train)\n",
        "  # as before\n",
        "  loss=loss_fn(y_hat.squeeze(),label_train)\n",
        "  # Computes the gradients and saves them in the appropriate .grad\n",
        "  loss.backward()\n",
        "  # updates the parameters using the computed .grad\n",
        "  optimizer.step()\n",
        "  # zero the .grad values so that they don't accumulate\n",
        "  optimizer.zero_grad()\n",
        "  if(i%100==0):\n",
        "    print(\"loss {:.4f}\".format(loss.item()))"
      ],
      "metadata": {
        "colab": {
          "base_uri": "https://localhost:8080/"
        },
        "id": "8L9FtlGbz1S3",
        "outputId": "a8377b80-f564-4d1b-dfef-eeabdfdeeaeb"
      },
      "execution_count": 19,
      "outputs": [
        {
          "output_type": "stream",
          "name": "stdout",
          "text": [
            "loss 0.4355\n",
            "loss 0.4342\n",
            "loss 0.4332\n",
            "loss 0.4322\n",
            "loss 0.4313\n",
            "loss 0.4305\n",
            "loss 0.4297\n",
            "loss 0.4290\n",
            "loss 0.4284\n",
            "loss 0.4278\n"
          ]
        }
      ]
    },
    {
      "cell_type": "code",
      "source": [],
      "metadata": {
        "id": "J0WBei4N6o35"
      },
      "execution_count": null,
      "outputs": []
    }
  ]
}