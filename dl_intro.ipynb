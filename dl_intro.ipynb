{
  "nbformat": 4,
  "nbformat_minor": 0,
  "metadata": {
    "colab": {
      "provenance": [],
      "authorship_tag": "ABX9TyNHrV+C64c51A661qta2u83",
      "include_colab_link": true
    },
    "kernelspec": {
      "name": "python3",
      "display_name": "Python 3"
    },
    "language_info": {
      "name": "python"
    },
    "accelerator": "GPU",
    "widgets": {
      "application/vnd.jupyter.widget-state+json": {
        "454862e1fb6e4ea99baea4098ae6686a": {
          "model_module": "@jupyter-widgets/controls",
          "model_name": "HBoxModel",
          "model_module_version": "1.5.0",
          "state": {
            "_dom_classes": [],
            "_model_module": "@jupyter-widgets/controls",
            "_model_module_version": "1.5.0",
            "_model_name": "HBoxModel",
            "_view_count": null,
            "_view_module": "@jupyter-widgets/controls",
            "_view_module_version": "1.5.0",
            "_view_name": "HBoxView",
            "box_style": "",
            "children": [
              "IPY_MODEL_0226c3b27b944630b53a52ad1aacfe3e",
              "IPY_MODEL_4c5a838a32434477a29ae9c51ff62dee",
              "IPY_MODEL_b77481cbaf7c448a8d90a9be5d0ce17a"
            ],
            "layout": "IPY_MODEL_3011f4da5ac6481794c497dee1587f61"
          }
        },
        "0226c3b27b944630b53a52ad1aacfe3e": {
          "model_module": "@jupyter-widgets/controls",
          "model_name": "HTMLModel",
          "model_module_version": "1.5.0",
          "state": {
            "_dom_classes": [],
            "_model_module": "@jupyter-widgets/controls",
            "_model_module_version": "1.5.0",
            "_model_name": "HTMLModel",
            "_view_count": null,
            "_view_module": "@jupyter-widgets/controls",
            "_view_module_version": "1.5.0",
            "_view_name": "HTMLView",
            "description": "",
            "description_tooltip": null,
            "layout": "IPY_MODEL_9db5eedf23244f53880d5e0b0f567993",
            "placeholder": "​",
            "style": "IPY_MODEL_cbad140307004f2aadd33abe6ef8a034",
            "value": "100%"
          }
        },
        "4c5a838a32434477a29ae9c51ff62dee": {
          "model_module": "@jupyter-widgets/controls",
          "model_name": "FloatProgressModel",
          "model_module_version": "1.5.0",
          "state": {
            "_dom_classes": [],
            "_model_module": "@jupyter-widgets/controls",
            "_model_module_version": "1.5.0",
            "_model_name": "FloatProgressModel",
            "_view_count": null,
            "_view_module": "@jupyter-widgets/controls",
            "_view_module_version": "1.5.0",
            "_view_name": "ProgressView",
            "bar_style": "success",
            "description": "",
            "description_tooltip": null,
            "layout": "IPY_MODEL_b23cbc9b26a642d9ae0d731eaff5401d",
            "max": 170498071,
            "min": 0,
            "orientation": "horizontal",
            "style": "IPY_MODEL_038cc08f61b24d2dbde3039570c68cc2",
            "value": 170498071
          }
        },
        "b77481cbaf7c448a8d90a9be5d0ce17a": {
          "model_module": "@jupyter-widgets/controls",
          "model_name": "HTMLModel",
          "model_module_version": "1.5.0",
          "state": {
            "_dom_classes": [],
            "_model_module": "@jupyter-widgets/controls",
            "_model_module_version": "1.5.0",
            "_model_name": "HTMLModel",
            "_view_count": null,
            "_view_module": "@jupyter-widgets/controls",
            "_view_module_version": "1.5.0",
            "_view_name": "HTMLView",
            "description": "",
            "description_tooltip": null,
            "layout": "IPY_MODEL_70bbe6085adc42a88c094416eb43d7b4",
            "placeholder": "​",
            "style": "IPY_MODEL_4b4ac834a5fd4f7e919127fa0dcb4604",
            "value": " 170498071/170498071 [00:13&lt;00:00, 13147569.45it/s]"
          }
        },
        "3011f4da5ac6481794c497dee1587f61": {
          "model_module": "@jupyter-widgets/base",
          "model_name": "LayoutModel",
          "model_module_version": "1.2.0",
          "state": {
            "_model_module": "@jupyter-widgets/base",
            "_model_module_version": "1.2.0",
            "_model_name": "LayoutModel",
            "_view_count": null,
            "_view_module": "@jupyter-widgets/base",
            "_view_module_version": "1.2.0",
            "_view_name": "LayoutView",
            "align_content": null,
            "align_items": null,
            "align_self": null,
            "border": null,
            "bottom": null,
            "display": null,
            "flex": null,
            "flex_flow": null,
            "grid_area": null,
            "grid_auto_columns": null,
            "grid_auto_flow": null,
            "grid_auto_rows": null,
            "grid_column": null,
            "grid_gap": null,
            "grid_row": null,
            "grid_template_areas": null,
            "grid_template_columns": null,
            "grid_template_rows": null,
            "height": null,
            "justify_content": null,
            "justify_items": null,
            "left": null,
            "margin": null,
            "max_height": null,
            "max_width": null,
            "min_height": null,
            "min_width": null,
            "object_fit": null,
            "object_position": null,
            "order": null,
            "overflow": null,
            "overflow_x": null,
            "overflow_y": null,
            "padding": null,
            "right": null,
            "top": null,
            "visibility": null,
            "width": null
          }
        },
        "9db5eedf23244f53880d5e0b0f567993": {
          "model_module": "@jupyter-widgets/base",
          "model_name": "LayoutModel",
          "model_module_version": "1.2.0",
          "state": {
            "_model_module": "@jupyter-widgets/base",
            "_model_module_version": "1.2.0",
            "_model_name": "LayoutModel",
            "_view_count": null,
            "_view_module": "@jupyter-widgets/base",
            "_view_module_version": "1.2.0",
            "_view_name": "LayoutView",
            "align_content": null,
            "align_items": null,
            "align_self": null,
            "border": null,
            "bottom": null,
            "display": null,
            "flex": null,
            "flex_flow": null,
            "grid_area": null,
            "grid_auto_columns": null,
            "grid_auto_flow": null,
            "grid_auto_rows": null,
            "grid_column": null,
            "grid_gap": null,
            "grid_row": null,
            "grid_template_areas": null,
            "grid_template_columns": null,
            "grid_template_rows": null,
            "height": null,
            "justify_content": null,
            "justify_items": null,
            "left": null,
            "margin": null,
            "max_height": null,
            "max_width": null,
            "min_height": null,
            "min_width": null,
            "object_fit": null,
            "object_position": null,
            "order": null,
            "overflow": null,
            "overflow_x": null,
            "overflow_y": null,
            "padding": null,
            "right": null,
            "top": null,
            "visibility": null,
            "width": null
          }
        },
        "cbad140307004f2aadd33abe6ef8a034": {
          "model_module": "@jupyter-widgets/controls",
          "model_name": "DescriptionStyleModel",
          "model_module_version": "1.5.0",
          "state": {
            "_model_module": "@jupyter-widgets/controls",
            "_model_module_version": "1.5.0",
            "_model_name": "DescriptionStyleModel",
            "_view_count": null,
            "_view_module": "@jupyter-widgets/base",
            "_view_module_version": "1.2.0",
            "_view_name": "StyleView",
            "description_width": ""
          }
        },
        "b23cbc9b26a642d9ae0d731eaff5401d": {
          "model_module": "@jupyter-widgets/base",
          "model_name": "LayoutModel",
          "model_module_version": "1.2.0",
          "state": {
            "_model_module": "@jupyter-widgets/base",
            "_model_module_version": "1.2.0",
            "_model_name": "LayoutModel",
            "_view_count": null,
            "_view_module": "@jupyter-widgets/base",
            "_view_module_version": "1.2.0",
            "_view_name": "LayoutView",
            "align_content": null,
            "align_items": null,
            "align_self": null,
            "border": null,
            "bottom": null,
            "display": null,
            "flex": null,
            "flex_flow": null,
            "grid_area": null,
            "grid_auto_columns": null,
            "grid_auto_flow": null,
            "grid_auto_rows": null,
            "grid_column": null,
            "grid_gap": null,
            "grid_row": null,
            "grid_template_areas": null,
            "grid_template_columns": null,
            "grid_template_rows": null,
            "height": null,
            "justify_content": null,
            "justify_items": null,
            "left": null,
            "margin": null,
            "max_height": null,
            "max_width": null,
            "min_height": null,
            "min_width": null,
            "object_fit": null,
            "object_position": null,
            "order": null,
            "overflow": null,
            "overflow_x": null,
            "overflow_y": null,
            "padding": null,
            "right": null,
            "top": null,
            "visibility": null,
            "width": null
          }
        },
        "038cc08f61b24d2dbde3039570c68cc2": {
          "model_module": "@jupyter-widgets/controls",
          "model_name": "ProgressStyleModel",
          "model_module_version": "1.5.0",
          "state": {
            "_model_module": "@jupyter-widgets/controls",
            "_model_module_version": "1.5.0",
            "_model_name": "ProgressStyleModel",
            "_view_count": null,
            "_view_module": "@jupyter-widgets/base",
            "_view_module_version": "1.2.0",
            "_view_name": "StyleView",
            "bar_color": null,
            "description_width": ""
          }
        },
        "70bbe6085adc42a88c094416eb43d7b4": {
          "model_module": "@jupyter-widgets/base",
          "model_name": "LayoutModel",
          "model_module_version": "1.2.0",
          "state": {
            "_model_module": "@jupyter-widgets/base",
            "_model_module_version": "1.2.0",
            "_model_name": "LayoutModel",
            "_view_count": null,
            "_view_module": "@jupyter-widgets/base",
            "_view_module_version": "1.2.0",
            "_view_name": "LayoutView",
            "align_content": null,
            "align_items": null,
            "align_self": null,
            "border": null,
            "bottom": null,
            "display": null,
            "flex": null,
            "flex_flow": null,
            "grid_area": null,
            "grid_auto_columns": null,
            "grid_auto_flow": null,
            "grid_auto_rows": null,
            "grid_column": null,
            "grid_gap": null,
            "grid_row": null,
            "grid_template_areas": null,
            "grid_template_columns": null,
            "grid_template_rows": null,
            "height": null,
            "justify_content": null,
            "justify_items": null,
            "left": null,
            "margin": null,
            "max_height": null,
            "max_width": null,
            "min_height": null,
            "min_width": null,
            "object_fit": null,
            "object_position": null,
            "order": null,
            "overflow": null,
            "overflow_x": null,
            "overflow_y": null,
            "padding": null,
            "right": null,
            "top": null,
            "visibility": null,
            "width": null
          }
        },
        "4b4ac834a5fd4f7e919127fa0dcb4604": {
          "model_module": "@jupyter-widgets/controls",
          "model_name": "DescriptionStyleModel",
          "model_module_version": "1.5.0",
          "state": {
            "_model_module": "@jupyter-widgets/controls",
            "_model_module_version": "1.5.0",
            "_model_name": "DescriptionStyleModel",
            "_view_count": null,
            "_view_module": "@jupyter-widgets/base",
            "_view_module_version": "1.2.0",
            "_view_name": "StyleView",
            "description_width": ""
          }
        }
      }
    }
  },
  "cells": [
    {
      "cell_type": "markdown",
      "metadata": {
        "id": "view-in-github",
        "colab_type": "text"
      },
      "source": [
        "<a href=\"https://colab.research.google.com/github/hikmatfarhat-ndu/pytorch/blob/main/dl_intro.ipynb\" target=\"_parent\"><img src=\"https://colab.research.google.com/assets/colab-badge.svg\" alt=\"Open In Colab\"/></a>"
      ]
    },
    {
      "cell_type": "code",
      "execution_count": 1,
      "metadata": {
        "id": "4j6mq7QsZzsF"
      },
      "outputs": [],
      "source": [
        "import torch \n",
        "import torchvision as vision"
      ]
    },
    {
      "cell_type": "code",
      "source": [
        "cifar10_train=vision.datasets.CIFAR10(\".\",download=True)\n",
        "cifar10_test=vision.datasets.CIFAR10(\".\",download=True,train=False)"
      ],
      "metadata": {
        "colab": {
          "base_uri": "https://localhost:8080/",
          "height": 101,
          "referenced_widgets": [
            "454862e1fb6e4ea99baea4098ae6686a",
            "0226c3b27b944630b53a52ad1aacfe3e",
            "4c5a838a32434477a29ae9c51ff62dee",
            "b77481cbaf7c448a8d90a9be5d0ce17a",
            "3011f4da5ac6481794c497dee1587f61",
            "9db5eedf23244f53880d5e0b0f567993",
            "cbad140307004f2aadd33abe6ef8a034",
            "b23cbc9b26a642d9ae0d731eaff5401d",
            "038cc08f61b24d2dbde3039570c68cc2",
            "70bbe6085adc42a88c094416eb43d7b4",
            "4b4ac834a5fd4f7e919127fa0dcb4604"
          ]
        },
        "id": "XXoGGW1OaAEZ",
        "outputId": "faf29ccb-4062-466b-d207-0bb2b0cf8692"
      },
      "execution_count": 2,
      "outputs": [
        {
          "output_type": "stream",
          "name": "stdout",
          "text": [
            "Downloading https://www.cs.toronto.edu/~kriz/cifar-10-python.tar.gz to ./cifar-10-python.tar.gz\n"
          ]
        },
        {
          "output_type": "display_data",
          "data": {
            "text/plain": [
              "  0%|          | 0/170498071 [00:00<?, ?it/s]"
            ],
            "application/vnd.jupyter.widget-view+json": {
              "version_major": 2,
              "version_minor": 0,
              "model_id": "454862e1fb6e4ea99baea4098ae6686a"
            }
          },
          "metadata": {}
        },
        {
          "output_type": "stream",
          "name": "stdout",
          "text": [
            "Extracting ./cifar-10-python.tar.gz to .\n",
            "Files already downloaded and verified\n"
          ]
        }
      ]
    },
    {
      "cell_type": "markdown",
      "source": [],
      "metadata": {
        "id": "pI3ML83Va19K"
      }
    },
    {
      "cell_type": "code",
      "source": [
        "img_train=torch.tensor(cifar10_train.data,dtype=torch.float32)/255.\n",
        "img_test=torch.tensor(cifar10_test.data,dtype=torch.float32)/255.\n",
        "# BCELoss requires the labels to be floats. Why??\n",
        "label_train=torch.tensor(cifar10_train.targets,dtype=torch.float32)\n",
        "label_test=torch.tensor(cifar10_test.targets,dtype=torch.float32)"
      ],
      "metadata": {
        "id": "7rOOuE5ra-qC"
      },
      "execution_count": 3,
      "outputs": []
    },
    {
      "cell_type": "markdown",
      "source": [
        "flatten"
      ],
      "metadata": {
        "id": "4udcJFDWf8-8"
      }
    },
    {
      "cell_type": "code",
      "source": [
        "img_train=img_train.reshape(50000,32*32*3)\n",
        "img_test=img_test.reshape(10000,32*32*3)"
      ],
      "metadata": {
        "id": "UvukYwIicPqx"
      },
      "execution_count": 4,
      "outputs": []
    },
    {
      "cell_type": "code",
      "source": [
        "#airplane=0,car=1,bird=2,cat=3,deer=4,dog=5,frog=6,horse=7,ship=8,truck=9\n",
        "features=torch.tensor([0,1,8,9])\n",
        "for i in range(label_train.shape[0]):\n",
        "    if torch.isin(label_train[i],features):\n",
        "        label_train[i]=1\n",
        "    else:\n",
        "        label_train[i]=0\n",
        "\n",
        "for i in range(label_test.shape[0]):\n",
        "    if torch.isin(label_test[i],features):\n",
        "        label_test[i]=1\n",
        "    else:\n",
        "        label_test[i]=0        "
      ],
      "metadata": {
        "id": "WuNp40w4vebE"
      },
      "execution_count": 5,
      "outputs": []
    },
    {
      "cell_type": "code",
      "source": [
        "torch.count_nonzero(label_train)"
      ],
      "metadata": {
        "colab": {
          "base_uri": "https://localhost:8080/"
        },
        "id": "z1V2d5mOt5FK",
        "outputId": "7da4868f-6d0d-48f4-d303-51ffc5be1f2b"
      },
      "execution_count": 6,
      "outputs": [
        {
          "output_type": "execute_result",
          "data": {
            "text/plain": [
              "tensor(20000)"
            ]
          },
          "metadata": {},
          "execution_count": 6
        }
      ]
    },
    {
      "cell_type": "code",
      "source": [
        "#samples=img_train.size()[1]\n",
        "#weights=torch.rand(img_train.size()[1],requires_grad=True,dtype=torch.float32)\n",
        "#weights.data/=samples\n",
        "#bias=torch.tensor(0.,requires_grad=True,dtype=torch.float32)"
      ],
      "metadata": {
        "id": "koYSysX4gKjr"
      },
      "execution_count": 7,
      "outputs": []
    },
    {
      "cell_type": "code",
      "source": [
        "\n",
        "import torch.nn as nn\n",
        "\n",
        "class Net(nn.Module):\n",
        "  def __init__(self):\n",
        "    super(Net, self).__init__()\n",
        "  #bias is True by default. It is included here for illustration\n",
        "    self.input_size=img_train.size()[1]\n",
        "    self.output_size=1\n",
        "    self.layer=nn.Linear(self.input_size,self.output_size,bias=True)\n",
        "  def forward(self,x):  \n",
        "    y_hat=self.layer(x)\n",
        "    y_hat=torch.sigmoid(y_hat)\n",
        "#   y_hat=torch.matmul(x,w)+b\n",
        "#   y_hat=torch.sigmoid(y_hat)\n",
        "    return y_hat"
      ],
      "metadata": {
        "id": "5LlED-xrgbiJ"
      },
      "execution_count": 8,
      "outputs": []
    },
    {
      "cell_type": "code",
      "source": [
        "img_train=img_train.cuda()\n",
        "img_test=img_test.cuda()\n",
        "label_train=label_train.cuda()\n",
        "label_test=label_test.cuda()"
      ],
      "metadata": {
        "id": "XEg5zCsUBYXt"
      },
      "execution_count": 9,
      "outputs": []
    },
    {
      "cell_type": "code",
      "source": [
        "rate=0.015\n",
        "model=Net().cuda()\n",
        "import torch.optim as optim\n",
        "optimizer=optim.SGD(model.parameters(),lr=0.015)\n",
        "loss_fn=nn.BCELoss()\n",
        "\n",
        "for i in range(1000):\n",
        "  optimizer.zero_grad()\n",
        "  y_hat=model(img_train)\n",
        "  loss=loss_fn(y_hat.squeeze(),label_train)\n",
        "  loss.backward()\n",
        "  optimizer.step()\n",
        "  if(i%100==0):\n",
        "    print(loss)\n",
        "  #weights.data-=rate*weights.grad.data\n",
        "  #bias.data-=rate*bias.grad.data\n",
        "  #bias.grad.data.zero_()\n",
        "  #weights.grad.data.zero_()"
      ],
      "metadata": {
        "colab": {
          "base_uri": "https://localhost:8080/"
        },
        "id": "WwNpWU0RoMbi",
        "outputId": "8818f0c3-e3e8-43de-dd8b-a58d7f0691fe"
      },
      "execution_count": 10,
      "outputs": [
        {
          "output_type": "stream",
          "name": "stdout",
          "text": [
            "tensor(0.7112, device='cuda:0', grad_fn=<BinaryCrossEntropyBackward0>)\n",
            "tensor(0.4725, device='cuda:0', grad_fn=<BinaryCrossEntropyBackward0>)\n",
            "tensor(0.4588, device='cuda:0', grad_fn=<BinaryCrossEntropyBackward0>)\n",
            "tensor(0.4524, device='cuda:0', grad_fn=<BinaryCrossEntropyBackward0>)\n",
            "tensor(0.4481, device='cuda:0', grad_fn=<BinaryCrossEntropyBackward0>)\n",
            "tensor(0.4449, device='cuda:0', grad_fn=<BinaryCrossEntropyBackward0>)\n",
            "tensor(0.4423, device='cuda:0', grad_fn=<BinaryCrossEntropyBackward0>)\n",
            "tensor(0.4402, device='cuda:0', grad_fn=<BinaryCrossEntropyBackward0>)\n",
            "tensor(0.4384, device='cuda:0', grad_fn=<BinaryCrossEntropyBackward0>)\n",
            "tensor(0.4368, device='cuda:0', grad_fn=<BinaryCrossEntropyBackward0>)\n"
          ]
        }
      ]
    },
    {
      "cell_type": "code",
      "source": [
        "def predict(X):\n",
        "    \n",
        "    m = X.shape[0]\n",
        "    print(m)\n",
        "    Y_prediction = torch.zeros(m,1).cuda()\n",
        "    \n",
        "    # Compute vector \"Y_hat\" predicting\n",
        "    #    the probabilities of a machine being present in the picture\n",
        "    p_hat= model(X)   # compute activation\n",
        "\n",
        "    print(p_hat.size())\n",
        "    for i in range(p_hat.shape[0]):\n",
        "        \n",
        "        # Convert probabilities Y_hat[0,i] to actual predictions p[0,i]\n",
        "        if p_hat[i]>=0.5:\n",
        "            Y_prediction[i]=1\n",
        "        else:\n",
        "            Y_prediction[i]=0\n",
        "    \n",
        "\n",
        "    return Y_prediction"
      ],
      "metadata": {
        "id": "XttSuF7xuVom"
      },
      "execution_count": 15,
      "outputs": []
    },
    {
      "cell_type": "code",
      "source": [
        "img_test.size()"
      ],
      "metadata": {
        "colab": {
          "base_uri": "https://localhost:8080/"
        },
        "id": "_vXHYjobxI88",
        "outputId": "b11fbc3b-3bd9-4d96-8c58-0fade0873024"
      },
      "execution_count": 16,
      "outputs": [
        {
          "output_type": "execute_result",
          "data": {
            "text/plain": [
              "torch.Size([10000, 3072])"
            ]
          },
          "metadata": {},
          "execution_count": 16
        }
      ]
    },
    {
      "cell_type": "code",
      "source": [
        "zaza=predict(img_test)"
      ],
      "metadata": {
        "colab": {
          "base_uri": "https://localhost:8080/"
        },
        "id": "P6z-WCewxVJ8",
        "outputId": "9821ed59-4cde-4dfd-9ae1-257ea9149278"
      },
      "execution_count": 17,
      "outputs": [
        {
          "output_type": "stream",
          "name": "stdout",
          "text": [
            "10000\n",
            "torch.Size([10000, 1])\n"
          ]
        }
      ]
    },
    {
      "cell_type": "code",
      "source": [
        "Y_prediction_test = predict(img_test).squeeze()\n",
        "Y_prediction_train = predict(img_train).squeeze()\n",
        "print(\"train accuracy:\"+str((100 - torch.mean(torch.abs(Y_prediction_train - label_train)) * 100)))\n",
        "print(\"test accuracy:\"+str((100 - torch.mean(torch.abs(Y_prediction_test - label_test)) * 100)))"
      ],
      "metadata": {
        "colab": {
          "base_uri": "https://localhost:8080/"
        },
        "id": "2LDDffgKuv5P",
        "outputId": "b3b1b793-b033-4f02-86d1-875c5f4165bb"
      },
      "execution_count": 18,
      "outputs": [
        {
          "output_type": "stream",
          "name": "stdout",
          "text": [
            "10000\n",
            "torch.Size([10000, 1])\n",
            "50000\n",
            "torch.Size([50000, 1])\n",
            "train accuracy:tensor(81.3620, device='cuda:0')\n",
            "test accuracy:tensor(81.1800, device='cuda:0')\n"
          ]
        }
      ]
    },
    {
      "cell_type": "code",
      "source": [],
      "metadata": {
        "id": "W3c9375fxBJl"
      },
      "execution_count": 26,
      "outputs": []
    }
  ]
}