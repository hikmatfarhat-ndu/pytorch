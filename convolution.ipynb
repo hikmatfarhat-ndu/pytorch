{
  "nbformat": 4,
  "nbformat_minor": 0,
  "metadata": {
    "colab": {
      "provenance": [],
      "authorship_tag": "ABX9TyPGpFKMVDCSxDkLZJ+eJasf",
      "include_colab_link": true
    },
    "kernelspec": {
      "name": "python3",
      "display_name": "Python 3"
    },
    "language_info": {
      "name": "python"
    },
    "accelerator": "GPU"
  },
  "cells": [
    {
      "cell_type": "markdown",
      "metadata": {
        "id": "view-in-github",
        "colab_type": "text"
      },
      "source": [
        "<a href=\"https://colab.research.google.com/github/hikmatfarhat-ndu/pytorch/blob/main/convolution.ipynb\" target=\"_parent\"><img src=\"https://colab.research.google.com/assets/colab-badge.svg\" alt=\"Open In Colab\"/></a>"
      ]
    },
    {
      "cell_type": "markdown",
      "source": [
        "# What you will learn\n",
        "1. Convulational layers and the convolution operation\n",
        "1. Pooling layers\n",
        "1. Confusion matrix "
      ],
      "metadata": {
        "id": "SsIJu3J2Q-LX"
      }
    },
    {
      "cell_type": "code",
      "source": [
        "import torch\n",
        "import torch.nn as nn\n",
        "import torch.nn.functional as F\n",
        "import torchvision as vision\n",
        "import torchvision.transforms as transforms\n",
        "from torch.utils.data import DataLoader"
      ],
      "metadata": {
        "id": "ncY2kB4HxYJj"
      },
      "execution_count": 1,
      "outputs": []
    },
    {
      "cell_type": "markdown",
      "source": [
        "## Convolutional Network\n",
        "\n",
        "Convolutional neural network are very successfully in computer vision applications. They have the ability to progressively detect patterns in images and videos. Usually, the first few layers detect \"low level\" features such as lines and edges and, building on those, later layers detect more complicated features such as faces and objects."
      ],
      "metadata": {
        "id": "bIQwoLLmL1Ku"
      }
    },
    {
      "cell_type": "markdown",
      "source": [
        "### Convolution Operations\n",
        "We start with a simple example. Let I be an input image. Typically $I$ would be represented by a tensor of shape $(H,W,C)$ where $H$, $W$, and $C$ are the height, width, and color channel respectively. Therefore,  $I[h,w,c]$ refers to the value of channel $c$ in pixel $(h,w)$. Let $K$ be a filter with shape $(m,n)$ then the convolution operation produces the following tensor\n",
        "\\begin{align*}\n",
        "T_{i,j}=\\sum_c\\sum_{m,n}X_{i+m,j+n,c}*K_{m,n}\n",
        "\\end{align*}\n",
        "The above operation is illustrated in the example below. Click on the figures to see the sequence of operations.\n"
      ],
      "metadata": {
        "id": "jgbNUPv3DuFd"
      }
    },
    {
      "cell_type": "code",
      "metadata": {
        "id": "iKb-d5U7TVit",
        "colab": {
          "base_uri": "https://localhost:8080/",
          "height": 321
        },
        "outputId": "98693841-383b-476c-fe56-ad478ee98165"
      },
      "source": [
        "\n",
        "%%HTML\n",
        "<iframe src=\"https://docs.google.com/presentation/d/e/2PACX-1vQBSo0SLsiigeXPOP4MGOS55ez9hvRT0xWocjs16K7U4JMTD1UnHXrNAu43qRo_GQ/embed?start=true&loop=true&delayms=3000\" frameborder=\"0\" width=\"500\" height=\"300\" allowfullscreen=\"true\" mozallowfullscreen=\"true\" webkitallowfullscreen=\"true\"></iframe>"
      ],
      "execution_count": 2,
      "outputs": [
        {
          "output_type": "display_data",
          "data": {
            "text/plain": [
              "<IPython.core.display.HTML object>"
            ],
            "text/html": [
              "<iframe src=\"https://docs.google.com/presentation/d/e/2PACX-1vQBSo0SLsiigeXPOP4MGOS55ez9hvRT0xWocjs16K7U4JMTD1UnHXrNAu43qRo_GQ/embed?start=true&loop=true&delayms=3000\" frameborder=\"0\" width=\"500\" height=\"300\" allowfullscreen=\"true\" mozallowfullscreen=\"true\" webkitallowfullscreen=\"true\"></iframe>\n"
            ]
          },
          "metadata": {}
        }
      ]
    },
    {
      "cell_type": "markdown",
      "source": [
        "## Pooling\n",
        "Pooling replaces a region of the input with a \"summary\" statistic, usually the maximum. This makes the computation almost translation invariant."
      ],
      "metadata": {
        "id": "cNA6kJtKHckt"
      }
    },
    {
      "cell_type": "markdown",
      "source": [
        "### Pooling example\n",
        "\n",
        "In the example below, notice how the MaxPool2D picks the maximum from each 2x2 submatrix"
      ],
      "metadata": {
        "id": "lDZcLr1CMtJ_"
      }
    },
    {
      "cell_type": "code",
      "source": [
        "input=torch.tensor([[1,2,4,3],[5,6,8,7],[9,10,12,11],[13,14,16,2]]).float()\n",
        "# 1 sample, 1 channel, 4 height, 4 width\n",
        "input=input.reshape([1,1,4,4])\n",
        "output=nn.MaxPool2d(kernel_size=(2,2))(input)\n",
        "print(input.squeeze())\n",
        "print(output.squeeze())"
      ],
      "metadata": {
        "id": "l5Uq1_TjM9wf",
        "outputId": "0e011f6c-574c-4049-ddfa-9e93fed5ec02",
        "colab": {
          "base_uri": "https://localhost:8080/"
        }
      },
      "execution_count": 3,
      "outputs": [
        {
          "output_type": "stream",
          "name": "stdout",
          "text": [
            "tensor([[ 1.,  2.,  4.,  3.],\n",
            "        [ 5.,  6.,  8.,  7.],\n",
            "        [ 9., 10., 12., 11.],\n",
            "        [13., 14., 16.,  2.]])\n",
            "tensor([[ 6.,  8.],\n",
            "        [14., 16.]])\n"
          ]
        }
      ]
    },
    {
      "cell_type": "markdown",
      "source": [
        "## Data\n",
        "The data is CIFAR10 with 50000 images for training and 10000 for testing. Each images has 3 channels and size 32x32.\n",
        "As we have done before we convert the PIL images to tensor and then normalize the values. Since there are 3 channels we need 3 values for the mean and 3 for the standard deviation"
      ],
      "metadata": {
        "id": "K3NyN5gKOwS5"
      }
    },
    {
      "cell_type": "code",
      "source": [
        "transform = transforms.Compose(\n",
        "    [transforms.ToTensor(),\n",
        "     transforms.Normalize((0.5, 0.5, 0.5), (0.5, 0.5, 0.5))])"
      ],
      "metadata": {
        "id": "6V4TKvYOEmVU"
      },
      "execution_count": 4,
      "outputs": []
    },
    {
      "cell_type": "code",
      "source": [
        "dataset_train=vision.datasets.CIFAR10(\".\",download=True,train=True,transform=transform)\n",
        "dataset_test=vision.datasets.CIFAR10(\".\",download=True,train=False,transform=transform)\n",
        "loader_train=DataLoader(dataset_train,batch_size=64,shuffle=True,num_workers=2)\n",
        "loader_test=DataLoader(dataset_test,batch_size=512,shuffle=False)"
      ],
      "metadata": {
        "id": "czEw5fTvxdQC",
        "colab": {
          "base_uri": "https://localhost:8080/"
        },
        "outputId": "b624cd46-fe37-47d9-c8bf-02276a50f3d5"
      },
      "execution_count": 5,
      "outputs": [
        {
          "output_type": "stream",
          "name": "stdout",
          "text": [
            "Files already downloaded and verified\n",
            "Files already downloaded and verified\n"
          ]
        }
      ]
    },
    {
      "cell_type": "markdown",
      "source": [
        "## Model\n",
        "\n",
        "Our model uses a stack of convolutional and pooling layers. Try to do the calculation of input/ouput sizes.\n",
        "The last two layers are fully connected with the size of the ouput of the last one 10 = number of classes\n",
        "Note that the ouput of convulational layers a \"3-d\" objects so we need to \"flatten\" then before feeding them to the fully connected layers "
      ],
      "metadata": {
        "id": "l0kyAjE5PVrc"
      }
    },
    {
      "cell_type": "code",
      "source": [
        "class Net(nn.Module):\n",
        "  def __init__(self):\n",
        "    super().__init__()\n",
        "    # input is (*,3,32,32)\n",
        "    self.conv1=nn.Conv2d(in_channels=3,out_channels=32,kernel_size=3)\n",
        "    self.relu=nn.ReLU()\n",
        "    # input is (*,32,30,30)\n",
        "    self.pool1=nn.MaxPool2d(kernel_size=(2,2))\n",
        "    # input is (*,32,15,15)\n",
        "    self.conv2=nn.Conv2d(in_channels=32,out_channels=64,kernel_size=3)\n",
        "    # input is (*,64,13,13)\n",
        "    self.pool2=nn.MaxPool2d(kernel_size=(2,2))\n",
        "    # input is (*,64,6,6)\n",
        "    self.conv3=nn.Conv2d(in_channels=64,out_channels=64,kernel_size=3)\n",
        "    # input is (*,64,4,4)\n",
        "    self.pool3=nn.MaxPool2d(kernel_size=(2,2))\n",
        "    # input is (*,64,2,2)\n",
        "    self.flatten=nn.Flatten()\n",
        "    # input is (*,64x2x2)\n",
        "    self.fc1=nn.Linear(in_features=2*2*64,out_features=64)\n",
        "    self.fc2=nn.Linear(in_features=64,out_features=10)\n",
        "\n",
        "  def forward(self,x):\n",
        "    x=self.conv1(x)\n",
        "    x=self.relu(x)\n",
        "    x=self.pool1(x)\n",
        "\n",
        "    x=self.conv2(x)\n",
        "    x=self.relu(x)\n",
        "    x=self.pool2(x)\n",
        "    \n",
        "    x=self.conv3(x)\n",
        "    x=self.relu(x)\n",
        "    x=self.pool3(x)\n",
        "    \n",
        "    x=self.flatten(x)\n",
        "    x=self.fc1(x)\n",
        "    x=self.relu(x)\n",
        "    x=self.fc2(x)\n",
        "    return x\n",
        "    "
      ],
      "metadata": {
        "id": "n7c0dC1WTf8w"
      },
      "execution_count": 6,
      "outputs": []
    },
    {
      "cell_type": "code",
      "source": [
        "model=Net().cuda()"
      ],
      "metadata": {
        "id": "f8gF3jH98jtT"
      },
      "execution_count": 7,
      "outputs": []
    },
    {
      "cell_type": "code",
      "source": [
        "loss_fn=nn.CrossEntropyLoss()\n",
        "from torch.optim import SGD,Adam"
      ],
      "metadata": {
        "id": "zlL7ngED7718"
      },
      "execution_count": 8,
      "outputs": []
    },
    {
      "cell_type": "code",
      "source": [
        "#optimizer=SGD(model.parameters(),lr=0.005)\n",
        "optimizer=Adam(model.parameters())"
      ],
      "metadata": {
        "id": "JRk2aJST8LrM"
      },
      "execution_count": 9,
      "outputs": []
    },
    {
      "cell_type": "code",
      "source": [
        "epochs=10\n",
        "from tqdm import tqdm\n",
        "for epoch in range(epochs):\n",
        "  loader_train=tqdm(loader_train)\n",
        "  for i, (imgs,labels) in enumerate(loader_train,0):\n",
        "    optimizer.zero_grad()\n",
        "    imgs=imgs.cuda()\n",
        "    labels=labels.cuda()\n",
        "    outputs=model(imgs)\n",
        "    loss=loss_fn(outputs,labels)\n",
        "    loss.backward()\n",
        "    optimizer.step()\n",
        "  print(loss.item()) "
      ],
      "metadata": {
        "colab": {
          "base_uri": "https://localhost:8080/"
        },
        "id": "D1aaOGae8n2N",
        "outputId": "1766d349-b6ab-4234-d5c1-8aa09c8d4410"
      },
      "execution_count": 10,
      "outputs": [
        {
          "output_type": "stream",
          "name": "stderr",
          "text": [
            "100%|██████████| 782/782 [00:17<00:00, 44.12it/s]\n"
          ]
        },
        {
          "output_type": "stream",
          "name": "stdout",
          "text": [
            "0.9356094002723694\n"
          ]
        },
        {
          "output_type": "stream",
          "name": "stderr",
          "text": [
            "100%|██████████| 782/782 [00:12<00:00, 61.45it/s]\n"
          ]
        },
        {
          "output_type": "stream",
          "name": "stdout",
          "text": [
            "1.6076292991638184\n"
          ]
        },
        {
          "output_type": "stream",
          "name": "stderr",
          "text": [
            "100%|██████████| 782/782 [00:12<00:00, 60.30it/s]\n"
          ]
        },
        {
          "output_type": "stream",
          "name": "stdout",
          "text": [
            "1.0174493789672852\n"
          ]
        },
        {
          "output_type": "stream",
          "name": "stderr",
          "text": [
            "100%|██████████| 782/782 [00:13<00:00, 58.16it/s]\n"
          ]
        },
        {
          "output_type": "stream",
          "name": "stdout",
          "text": [
            "1.1746737957000732\n"
          ]
        },
        {
          "output_type": "stream",
          "name": "stderr",
          "text": [
            "100%|██████████| 782/782 [00:13<00:00, 58.65it/s]\n"
          ]
        },
        {
          "output_type": "stream",
          "name": "stdout",
          "text": [
            "1.0132380723953247\n"
          ]
        },
        {
          "output_type": "stream",
          "name": "stderr",
          "text": [
            "100%|██████████| 782/782 [00:13<00:00, 59.46it/s]\n"
          ]
        },
        {
          "output_type": "stream",
          "name": "stdout",
          "text": [
            "0.46576282382011414\n"
          ]
        },
        {
          "output_type": "stream",
          "name": "stderr",
          "text": [
            "100%|██████████| 782/782 [00:13<00:00, 58.73it/s]\n"
          ]
        },
        {
          "output_type": "stream",
          "name": "stdout",
          "text": [
            "0.7613165974617004\n"
          ]
        },
        {
          "output_type": "stream",
          "name": "stderr",
          "text": [
            "100%|██████████| 782/782 [00:12<00:00, 60.24it/s]\n"
          ]
        },
        {
          "output_type": "stream",
          "name": "stdout",
          "text": [
            "0.5044052600860596\n"
          ]
        },
        {
          "output_type": "stream",
          "name": "stderr",
          "text": [
            "100%|██████████| 782/782 [00:13<00:00, 59.45it/s]\n"
          ]
        },
        {
          "output_type": "stream",
          "name": "stdout",
          "text": [
            "0.5825787782669067\n"
          ]
        },
        {
          "output_type": "stream",
          "name": "stderr",
          "text": [
            "100%|██████████| 782/782 [00:13<00:00, 58.37it/s]"
          ]
        },
        {
          "output_type": "stream",
          "name": "stdout",
          "text": [
            "0.7565302848815918\n"
          ]
        },
        {
          "output_type": "stream",
          "name": "stderr",
          "text": [
            "\n"
          ]
        }
      ]
    },
    {
      "cell_type": "markdown",
      "source": [
        "# Accuracy and confusion matrix"
      ],
      "metadata": {
        "id": "ZJpbDV7pdXRK"
      }
    },
    {
      "cell_type": "code",
      "source": [
        "!pip install torchmetrics\n",
        "from torchmetrics import ConfusionMatrix\n",
        "conmat=ConfusionMatrix(num_classes=10)\n",
        "conmat=conmat.cuda()"
      ],
      "metadata": {
        "id": "cXxIMoblYRwO",
        "outputId": "eb96ade7-b005-42f0-cbd5-9d904daf9298",
        "colab": {
          "base_uri": "https://localhost:8080/"
        }
      },
      "execution_count": 21,
      "outputs": [
        {
          "output_type": "stream",
          "name": "stdout",
          "text": [
            "Looking in indexes: https://pypi.org/simple, https://us-python.pkg.dev/colab-wheels/public/simple/\n",
            "Requirement already satisfied: torchmetrics in /usr/local/lib/python3.7/dist-packages (0.10.0)\n",
            "Requirement already satisfied: torch>=1.3.1 in /usr/local/lib/python3.7/dist-packages (from torchmetrics) (1.12.1+cu113)\n",
            "Requirement already satisfied: numpy>=1.17.2 in /usr/local/lib/python3.7/dist-packages (from torchmetrics) (1.21.6)\n",
            "Requirement already satisfied: packaging in /usr/local/lib/python3.7/dist-packages (from torchmetrics) (21.3)\n",
            "Requirement already satisfied: typing-extensions in /usr/local/lib/python3.7/dist-packages (from torchmetrics) (4.1.1)\n",
            "Requirement already satisfied: pyparsing!=3.0.5,>=2.0.2 in /usr/local/lib/python3.7/dist-packages (from packaging->torchmetrics) (3.0.9)\n"
          ]
        }
      ]
    },
    {
      "cell_type": "code",
      "source": [
        "total=0\n",
        "correct=0\n",
        "for data in loader_test:\n",
        "  imgs,labels=data\n",
        "  imgs=imgs.cuda()\n",
        "  labels=labels.cuda()\n",
        "  outputs=model(imgs)\n",
        "  # the second return value is the index of the max i.e. argmax\n",
        "  _,predicted=torch.max(outputs.data,1)\n",
        "  total+=labels.size(0)\n",
        "  correct+=(predicted==labels).sum()\n",
        "  conmat.update(predicted,labels)\n"
      ],
      "metadata": {
        "id": "ReSk1t4C86ed"
      },
      "execution_count": 22,
      "outputs": []
    },
    {
      "cell_type": "code",
      "source": [
        "print(correct/total)"
      ],
      "metadata": {
        "colab": {
          "base_uri": "https://localhost:8080/"
        },
        "id": "UBM21wZcBlcs",
        "outputId": "261cc7f9-38a0-4e46-a6f4-f766f4dfdb1c"
      },
      "execution_count": 23,
      "outputs": [
        {
          "output_type": "stream",
          "name": "stdout",
          "text": [
            "tensor(0.7187, device='cuda:0')\n"
          ]
        }
      ]
    },
    {
      "cell_type": "code",
      "source": [],
      "metadata": {
        "id": "8qzru2SMBotc"
      },
      "execution_count": 29,
      "outputs": []
    },
    {
      "cell_type": "code",
      "source": [
        "import matplotlib.pyplot as plt\n",
        "import seaborn as sb"
      ],
      "metadata": {
        "id": "dr91gqtUXa3o"
      },
      "execution_count": 33,
      "outputs": []
    },
    {
      "cell_type": "code",
      "source": [
        "x=conmat.compute().cpu().numpy()\n",
        "plt.figure(figsize=(10,7))\n",
        "sb.heatmap(x,xticklabels=dataset_train.classes,yticklabels=dataset_train.classes,annot=True,fmt=\".0f\")"
      ],
      "metadata": {
        "id": "zWo0YjDdXrkd",
        "outputId": "d97923d6-d9f3-467b-dede-878b351cf6ab",
        "colab": {
          "base_uri": "https://localhost:8080/",
          "height": 493
        }
      },
      "execution_count": 38,
      "outputs": [
        {
          "output_type": "execute_result",
          "data": {
            "text/plain": [
              "<matplotlib.axes._subplots.AxesSubplot at 0x7f6043cc2050>"
            ]
          },
          "metadata": {},
          "execution_count": 38
        },
        {
          "output_type": "display_data",
          "data": {
            "text/plain": [
              "<Figure size 720x504 with 2 Axes>"
            ],
            "image/png": "[encoded data removed]"
          },
          "metadata": {
            "needs_background": "light"
          }
        }
      ]
    },
    {
      "cell_type": "code",
      "source": [],
      "metadata": {
        "id": "ck81e-YScd5D"
      },
      "execution_count": null,
      "outputs": []
    }
  ]
}