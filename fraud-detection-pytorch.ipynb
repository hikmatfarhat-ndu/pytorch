{
  "metadata": {
    "kernelspec": {
      "language": "python",
      "display_name": "Python 3",
      "name": "python3"
    },
    "language_info": {
      "name": "python",
      "version": "3.7.12",
      "mimetype": "text/x-python",
      "codemirror_mode": {
        "name": "ipython",
        "version": 3
      },
      "pygments_lexer": "ipython3",
      "nbconvert_exporter": "python",
      "file_extension": ".py"
    },
    "colab": {
      "provenance": [],
      "include_colab_link": true
    },
    "accelerator": "GPU",
    "gpuClass": "standard"
  },
  "nbformat_minor": 0,
  "nbformat": 4,
  "cells": [
    {
      "cell_type": "markdown",
      "metadata": {
        "id": "view-in-github",
        "colab_type": "text"
      },
      "source": [
        "<a href=\"https://colab.research.google.com/github/hikmatfarhat-ndu/pytorch/blob/main/fraud-detection-pytorch.ipynb\" target=\"_parent\"><img src=\"https://colab.research.google.com/assets/colab-badge.svg\" alt=\"Open In Colab\"/></a>"
      ]
    },
    {
      "cell_type": "markdown",
      "source": [
        "# Autoencoders\n",
        "\n",
        "An autoencoder is a neural networks that learns the \"hidden\"(latent) representation of the input. The number of features of the latent representation is typically much smaller than the number of features in the input.\n",
        "An autoencoder has two parts: an encoder, and a decoder, which is typically the \"inverse\" of the encoder. The way an autoencoder works is by learning to reproduce the input. In the figure below, the result of learning would be to make the output as close as possible to the input"
      ],
      "metadata": {
        "id": "RUjGRUc8eBYz"
      }
    },
    {
      "cell_type": "markdown",
      "source": [
        "![autoencoder3.png](data:image/png;base64,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)"
      ],
      "metadata": {
        "id": "fkTdKzCUd9Iz"
      }
    },
    {
      "cell_type": "markdown",
      "source": [
        "## Autoencoders for anomaly detection\n",
        "\n",
        "An anomaly is an object different from the \"norm\". The idea is that after training an autoencoder can reproduce \"normal\" input with small error. An input that produces a \"large\" error is classified as an anomaly.\n",
        "In this notebook we will use the above idea to detect credit card fraud"
      ],
      "metadata": {
        "id": "BPslepRQfAas"
      }
    },
    {
      "cell_type": "markdown",
      "source": [
        "## CODE CELL 1"
      ],
      "metadata": {
        "id": "UwZOP8g8zQ1V"
      }
    },
    {
      "cell_type": "code",
      "source": [
        "import torch\n",
        "import torchvision as vision\n",
        "import pandas as pd\n",
        "import numpy as np"
      ],
      "metadata": {
        "_uuid": "8f2839f25d086af736a60e9eeb907d3b93b6e0e5",
        "_cell_guid": "b1076dfc-b9ad-4769-8c92-a6c4dae69d19",
        "execution": {
          "iopub.status.busy": "2022-10-23T18:45:26.332959Z",
          "iopub.execute_input": "2022-10-23T18:45:26.334352Z",
          "iopub.status.idle": "2022-10-23T18:45:26.844474Z",
          "shell.execute_reply.started": "2022-10-23T18:45:26.334299Z",
          "shell.execute_reply": "2022-10-23T18:45:26.843250Z"
        },
        "trusted": true,
        "id": "abcI6MZQVbFN"
      },
      "execution_count": 1,
      "outputs": []
    },
    {
      "cell_type": "markdown",
      "source": [
        "## The data\n",
        "\n",
        "The data contains 31 features. Most of them are the principal components from a PCA preprocessing so we don't have a direct interpretation for those. The remaining 3 are time, when the transaction occurred relative to the first one, the amount and the label to denote if the transaction was legitimate or a fraud.\n",
        "A detailed description of the dataset can be found [here](https://www.kaggle.com/datasets/mlg-ulb/creditcardfraud).\n",
        "\n",
        "A direct quotation from that page\n",
        "\n",
        "\"The dataset has been collected and analysed during a research collaboration of Worldline and the Machine Learning Group (http://mlg.ulb.ac.be) of ULB (Université Libre de Bruxelles) on big data mining and fraud detection.\""
      ],
      "metadata": {
        "id": "5NAWZOePgMO-"
      }
    },
    {
      "cell_type": "markdown",
      "source": [
        "### CODE CELL 2"
      ],
      "metadata": {
        "id": "fn_9f7SlzVYF"
      }
    },
    {
      "cell_type": "code",
      "source": [
        "from google.colab import files\n",
        "file=files.upload()\n",
        "!mkdir -p /root/.kaggle\n",
        "!mv kaggle.json  /root/.kaggle\n",
        "!kaggle datasets download -d mlg-ulb/creditcardfraud\n",
        "!unzip creditcardfraud.zip>/dev/null"
      ],
      "metadata": {
        "colab": {
          "base_uri": "https://localhost:8080/",
          "height": 127
        },
        "id": "dDQVQo9EWfzC",
        "outputId": "bfdbf5c0-85d5-434f-86b7-50c88fc9a5eb"
      },
      "execution_count": 2,
      "outputs": [
        {
          "output_type": "display_data",
          "data": {
            "text/plain": [
              "<IPython.core.display.HTML object>"
            ],
            "text/html": [
              "\n",
              "     <input type=\"file\" id=\"files-d2ab4917-d134-4b9e-b9d8-27dd089af6fd\" name=\"files[]\" multiple disabled\n",
              "        style=\"border:none\" />\n",
              "     <output id=\"result-d2ab4917-d134-4b9e-b9d8-27dd089af6fd\">\n",
              "      Upload widget is only available when the cell has been executed in the\n",
              "      current browser session. Please rerun this cell to enable.\n",
              "      </output>\n",
              "      <script>// Copyright 2017 Google LLC\n",
              "//\n",
              "// Licensed under the Apache License, Version 2.0 (the \"License\");\n",
              "// you may not use this file except in compliance with the License.\n",
              "// You may obtain a copy of the License at\n",
              "//\n",
              "//      http://www.apache.org/licenses/LICENSE-2.0\n",
              "//\n",
              "// Unless required by applicable law or agreed to in writing, software\n",
              "// distributed under the License is distributed on an \"AS IS\" BASIS,\n",
              "// WITHOUT WARRANTIES OR CONDITIONS OF ANY KIND, either express or implied.\n",
              "// See the License for the specific language governing permissions and\n",
              "// limitations under the License.\n",
              "\n",
              "/**\n",
              " * @fileoverview Helpers for google.colab Python module.\n",
              " */\n",
              "(function(scope) {\n",
              "function span(text, styleAttributes = {}) {\n",
              "  const element = document.createElement('span');\n",
              "  element.textContent = text;\n",
              "  for (const key of Object.keys(styleAttributes)) {\n",
              "    element.style[key] = styleAttributes[key];\n",
              "  }\n",
              "  return element;\n",
              "}\n",
              "\n",
              "// Max number of bytes which will be uploaded at a time.\n",
              "const MAX_PAYLOAD_SIZE = 100 * 1024;\n",
              "\n",
              "function _uploadFiles(inputId, outputId) {\n",
              "  const steps = uploadFilesStep(inputId, outputId);\n",
              "  const outputElement = document.getElementById(outputId);\n",
              "  // Cache steps on the outputElement to make it available for the next call\n",
              "  // to uploadFilesContinue from Python.\n",
              "  outputElement.steps = steps;\n",
              "\n",
              "  return _uploadFilesContinue(outputId);\n",
              "}\n",
              "\n",
              "// This is roughly an async generator (not supported in the browser yet),\n",
              "// where there are multiple asynchronous steps and the Python side is going\n",
              "// to poll for completion of each step.\n",
              "// This uses a Promise to block the python side on completion of each step,\n",
              "// then passes the result of the previous step as the input to the next step.\n",
              "function _uploadFilesContinue(outputId) {\n",
              "  const outputElement = document.getElementById(outputId);\n",
              "  const steps = outputElement.steps;\n",
              "\n",
              "  const next = steps.next(outputElement.lastPromiseValue);\n",
              "  return Promise.resolve(next.value.promise).then((value) => {\n",
              "    // Cache the last promise value to make it available to the next\n",
              "    // step of the generator.\n",
              "    outputElement.lastPromiseValue = value;\n",
              "    return next.value.response;\n",
              "  });\n",
              "}\n",
              "\n",
              "/**\n",
              " * Generator function which is called between each async step of the upload\n",
              " * process.\n",
              " * @param {string} inputId Element ID of the input file picker element.\n",
              " * @param {string} outputId Element ID of the output display.\n",
              " * @return {!Iterable<!Object>} Iterable of next steps.\n",
              " */\n",
              "function* uploadFilesStep(inputId, outputId) {\n",
              "  const inputElement = document.getElementById(inputId);\n",
              "  inputElement.disabled = false;\n",
              "\n",
              "  const outputElement = document.getElementById(outputId);\n",
              "  outputElement.innerHTML = '';\n",
              "\n",
              "  const pickedPromise = new Promise((resolve) => {\n",
              "    inputElement.addEventListener('change', (e) => {\n",
              "      resolve(e.target.files);\n",
              "    });\n",
              "  });\n",
              "\n",
              "  const cancel = document.createElement('button');\n",
              "  inputElement.parentElement.appendChild(cancel);\n",
              "  cancel.textContent = 'Cancel upload';\n",
              "  const cancelPromise = new Promise((resolve) => {\n",
              "    cancel.onclick = () => {\n",
              "      resolve(null);\n",
              "    };\n",
              "  });\n",
              "\n",
              "  // Wait for the user to pick the files.\n",
              "  const files = yield {\n",
              "    promise: Promise.race([pickedPromise, cancelPromise]),\n",
              "    response: {\n",
              "      action: 'starting',\n",
              "    }\n",
              "  };\n",
              "\n",
              "  cancel.remove();\n",
              "\n",
              "  // Disable the input element since further picks are not allowed.\n",
              "  inputElement.disabled = true;\n",
              "\n",
              "  if (!files) {\n",
              "    return {\n",
              "      response: {\n",
              "        action: 'complete',\n",
              "      }\n",
              "    };\n",
              "  }\n",
              "\n",
              "  for (const file of files) {\n",
              "    const li = document.createElement('li');\n",
              "    li.append(span(file.name, {fontWeight: 'bold'}));\n",
              "    li.append(span(\n",
              "        `(${file.type || 'n/a'}) - ${file.size} bytes, ` +\n",
              "        `last modified: ${\n",
              "            file.lastModifiedDate ? file.lastModifiedDate.toLocaleDateString() :\n",
              "                                    'n/a'} - `));\n",
              "    const percent = span('0% done');\n",
              "    li.appendChild(percent);\n",
              "\n",
              "    outputElement.appendChild(li);\n",
              "\n",
              "    const fileDataPromise = new Promise((resolve) => {\n",
              "      const reader = new FileReader();\n",
              "      reader.onload = (e) => {\n",
              "        resolve(e.target.result);\n",
              "      };\n",
              "      reader.readAsArrayBuffer(file);\n",
              "    });\n",
              "    // Wait for the data to be ready.\n",
              "    let fileData = yield {\n",
              "      promise: fileDataPromise,\n",
              "      response: {\n",
              "        action: 'continue',\n",
              "      }\n",
              "    };\n",
              "\n",
              "    // Use a chunked sending to avoid message size limits. See b/62115660.\n",
              "    let position = 0;\n",
              "    do {\n",
              "      const length = Math.min(fileData.byteLength - position, MAX_PAYLOAD_SIZE);\n",
              "      const chunk = new Uint8Array(fileData, position, length);\n",
              "      position += length;\n",
              "\n",
              "      const base64 = btoa(String.fromCharCode.apply(null, chunk));\n",
              "      yield {\n",
              "        response: {\n",
              "          action: 'append',\n",
              "          file: file.name,\n",
              "          data: base64,\n",
              "        },\n",
              "      };\n",
              "\n",
              "      let percentDone = fileData.byteLength === 0 ?\n",
              "          100 :\n",
              "          Math.round((position / fileData.byteLength) * 100);\n",
              "      percent.textContent = `${percentDone}% done`;\n",
              "\n",
              "    } while (position < fileData.byteLength);\n",
              "  }\n",
              "\n",
              "  // All done.\n",
              "  yield {\n",
              "    response: {\n",
              "      action: 'complete',\n",
              "    }\n",
              "  };\n",
              "}\n",
              "\n",
              "scope.google = scope.google || {};\n",
              "scope.google.colab = scope.google.colab || {};\n",
              "scope.google.colab._files = {\n",
              "  _uploadFiles,\n",
              "  _uploadFilesContinue,\n",
              "};\n",
              "})(self);\n",
              "</script> "
            ]
          },
          "metadata": {}
        },
        {
          "output_type": "stream",
          "name": "stdout",
          "text": [
            "Saving kaggle.json to kaggle.json\n",
            "Warning: Your Kaggle API key is readable by other users on this system! To fix this, you can run 'chmod 600 /root/.kaggle/kaggle.json'\n",
            "creditcardfraud.zip: Skipping, found more recently modified local copy (use --force to force download)\n",
            "replace creditcard.csv? [y]es, [n]o, [A]ll, [N]one, [r]ename: A\n"
          ]
        }
      ]
    },
    {
      "cell_type": "markdown",
      "source": [
        "## Data preprocessing\n",
        "The time feature is not used and will be dropped. The \"Class\" column is changed to \"label\" since \"Class\" is a keyword. Finally, the data is rescaled as we did before to help in the convergence."
      ],
      "metadata": {
        "id": "FRXHpKHDrENT"
      }
    },
    {
      "cell_type": "markdown",
      "source": [
        "### CODE CELL 3"
      ],
      "metadata": {
        "id": "R1tugX5XzaB1"
      }
    },
    {
      "cell_type": "code",
      "source": [
        "df=pd.read_csv(\"creditcard.csv\")\n",
        "df.rename(columns={'Class':'label'},inplace=True)\n",
        "df=df.drop('Time',axis=1)\n",
        "df"
      ],
      "metadata": {
        "execution": {
          "iopub.status.busy": "2022-10-23T18:45:26.851196Z",
          "iopub.execute_input": "2022-10-23T18:45:26.851466Z",
          "iopub.status.idle": "2022-10-23T18:45:28.556061Z",
          "shell.execute_reply.started": "2022-10-23T18:45:26.851438Z",
          "shell.execute_reply": "2022-10-23T18:45:28.555222Z"
        },
        "trusted": true,
        "colab": {
          "base_uri": "https://localhost:8080/",
          "height": 488
        },
        "id": "neCRp7lFVbFO",
        "outputId": "ac7d400f-6841-4dde-8a8a-effd25efdc8f"
      },
      "execution_count": 3,
      "outputs": [
        {
          "output_type": "execute_result",
          "data": {
            "text/plain": [
              "               V1         V2        V3        V4        V5        V6  \\\n",
              "0       -1.359807  -0.072781  2.536347  1.378155 -0.338321  0.462388   \n",
              "1        1.191857   0.266151  0.166480  0.448154  0.060018 -0.082361   \n",
              "2       -1.358354  -1.340163  1.773209  0.379780 -0.503198  1.800499   \n",
              "3       -0.966272  -0.185226  1.792993 -0.863291 -0.010309  1.247203   \n",
              "4       -1.158233   0.877737  1.548718  0.403034 -0.407193  0.095921   \n",
              "...           ...        ...       ...       ...       ...       ...   \n",
              "284802 -11.881118  10.071785 -9.834783 -2.066656 -5.364473 -2.606837   \n",
              "284803  -0.732789  -0.055080  2.035030 -0.738589  0.868229  1.058415   \n",
              "284804   1.919565  -0.301254 -3.249640 -0.557828  2.630515  3.031260   \n",
              "284805  -0.240440   0.530483  0.702510  0.689799 -0.377961  0.623708   \n",
              "284806  -0.533413  -0.189733  0.703337 -0.506271 -0.012546 -0.649617   \n",
              "\n",
              "              V7        V8        V9       V10  ...       V21       V22  \\\n",
              "0       0.239599  0.098698  0.363787  0.090794  ... -0.018307  0.277838   \n",
              "1      -0.078803  0.085102 -0.255425 -0.166974  ... -0.225775 -0.638672   \n",
              "2       0.791461  0.247676 -1.514654  0.207643  ...  0.247998  0.771679   \n",
              "3       0.237609  0.377436 -1.387024 -0.054952  ... -0.108300  0.005274   \n",
              "4       0.592941 -0.270533  0.817739  0.753074  ... -0.009431  0.798278   \n",
              "...          ...       ...       ...       ...  ...       ...       ...   \n",
              "284802 -4.918215  7.305334  1.914428  4.356170  ...  0.213454  0.111864   \n",
              "284803  0.024330  0.294869  0.584800 -0.975926  ...  0.214205  0.924384   \n",
              "284804 -0.296827  0.708417  0.432454 -0.484782  ...  0.232045  0.578229   \n",
              "284805 -0.686180  0.679145  0.392087 -0.399126  ...  0.265245  0.800049   \n",
              "284806  1.577006 -0.414650  0.486180 -0.915427  ...  0.261057  0.643078   \n",
              "\n",
              "             V23       V24       V25       V26       V27       V28  Amount  \\\n",
              "0      -0.110474  0.066928  0.128539 -0.189115  0.133558 -0.021053  149.62   \n",
              "1       0.101288 -0.339846  0.167170  0.125895 -0.008983  0.014724    2.69   \n",
              "2       0.909412 -0.689281 -0.327642 -0.139097 -0.055353 -0.059752  378.66   \n",
              "3      -0.190321 -1.175575  0.647376 -0.221929  0.062723  0.061458  123.50   \n",
              "4      -0.137458  0.141267 -0.206010  0.502292  0.219422  0.215153   69.99   \n",
              "...          ...       ...       ...       ...       ...       ...     ...   \n",
              "284802  1.014480 -0.509348  1.436807  0.250034  0.943651  0.823731    0.77   \n",
              "284803  0.012463 -1.016226 -0.606624 -0.395255  0.068472 -0.053527   24.79   \n",
              "284804 -0.037501  0.640134  0.265745 -0.087371  0.004455 -0.026561   67.88   \n",
              "284805 -0.163298  0.123205 -0.569159  0.546668  0.108821  0.104533   10.00   \n",
              "284806  0.376777  0.008797 -0.473649 -0.818267 -0.002415  0.013649  217.00   \n",
              "\n",
              "        label  \n",
              "0           0  \n",
              "1           0  \n",
              "2           0  \n",
              "3           0  \n",
              "4           0  \n",
              "...       ...  \n",
              "284802      0  \n",
              "284803      0  \n",
              "284804      0  \n",
              "284805      0  \n",
              "284806      0  \n",
              "\n",
              "[284807 rows x 30 columns]"
            ],
            "text/html": [
              "\n",
              "  <div id=\"df-11de3e82-d04d-477a-ad81-208e1901e6a3\">\n",
              "    <div class=\"colab-df-container\">\n",
              "      <div>\n",
              "<style scoped>\n",
              "    .dataframe tbody tr th:only-of-type {\n",
              "        vertical-align: middle;\n",
              "    }\n",
              "\n",
              "    .dataframe tbody tr th {\n",
              "        vertical-align: top;\n",
              "    }\n",
              "\n",
              "    .dataframe thead th {\n",
              "        text-align: right;\n",
              "    }\n",
              "</style>\n",
              "<table border=\"1\" class=\"dataframe\">\n",
              "  <thead>\n",
              "    <tr style=\"text-align: right;\">\n",
              "      <th></th>\n",
              "      <th>V1</th>\n",
              "      <th>V2</th>\n",
              "      <th>V3</th>\n",
              "      <th>V4</th>\n",
              "      <th>V5</th>\n",
              "      <th>V6</th>\n",
              "      <th>V7</th>\n",
              "      <th>V8</th>\n",
              "      <th>V9</th>\n",
              "      <th>V10</th>\n",
              "      <th>...</th>\n",
              "      <th>V21</th>\n",
              "      <th>V22</th>\n",
              "      <th>V23</th>\n",
              "      <th>V24</th>\n",
              "      <th>V25</th>\n",
              "      <th>V26</th>\n",
              "      <th>V27</th>\n",
              "      <th>V28</th>\n",
              "      <th>Amount</th>\n",
              "      <th>label</th>\n",
              "    </tr>\n",
              "  </thead>\n",
              "  <tbody>\n",
              "    <tr>\n",
              "      <th>0</th>\n",
              "      <td>-1.359807</td>\n",
              "      <td>-0.072781</td>\n",
              "      <td>2.536347</td>\n",
              "      <td>1.378155</td>\n",
              "      <td>-0.338321</td>\n",
              "      <td>0.462388</td>\n",
              "      <td>0.239599</td>\n",
              "      <td>0.098698</td>\n",
              "      <td>0.363787</td>\n",
              "      <td>0.090794</td>\n",
              "      <td>...</td>\n",
              "      <td>-0.018307</td>\n",
              "      <td>0.277838</td>\n",
              "      <td>-0.110474</td>\n",
              "      <td>0.066928</td>\n",
              "      <td>0.128539</td>\n",
              "      <td>-0.189115</td>\n",
              "      <td>0.133558</td>\n",
              "      <td>-0.021053</td>\n",
              "      <td>149.62</td>\n",
              "      <td>0</td>\n",
              "    </tr>\n",
              "    <tr>\n",
              "      <th>1</th>\n",
              "      <td>1.191857</td>\n",
              "      <td>0.266151</td>\n",
              "      <td>0.166480</td>\n",
              "      <td>0.448154</td>\n",
              "      <td>0.060018</td>\n",
              "      <td>-0.082361</td>\n",
              "      <td>-0.078803</td>\n",
              "      <td>0.085102</td>\n",
              "      <td>-0.255425</td>\n",
              "      <td>-0.166974</td>\n",
              "      <td>...</td>\n",
              "      <td>-0.225775</td>\n",
              "      <td>-0.638672</td>\n",
              "      <td>0.101288</td>\n",
              "      <td>-0.339846</td>\n",
              "      <td>0.167170</td>\n",
              "      <td>0.125895</td>\n",
              "      <td>-0.008983</td>\n",
              "      <td>0.014724</td>\n",
              "      <td>2.69</td>\n",
              "      <td>0</td>\n",
              "    </tr>\n",
              "    <tr>\n",
              "      <th>2</th>\n",
              "      <td>-1.358354</td>\n",
              "      <td>-1.340163</td>\n",
              "      <td>1.773209</td>\n",
              "      <td>0.379780</td>\n",
              "      <td>-0.503198</td>\n",
              "      <td>1.800499</td>\n",
              "      <td>0.791461</td>\n",
              "      <td>0.247676</td>\n",
              "      <td>-1.514654</td>\n",
              "      <td>0.207643</td>\n",
              "      <td>...</td>\n",
              "      <td>0.247998</td>\n",
              "      <td>0.771679</td>\n",
              "      <td>0.909412</td>\n",
              "      <td>-0.689281</td>\n",
              "      <td>-0.327642</td>\n",
              "      <td>-0.139097</td>\n",
              "      <td>-0.055353</td>\n",
              "      <td>-0.059752</td>\n",
              "      <td>378.66</td>\n",
              "      <td>0</td>\n",
              "    </tr>\n",
              "    <tr>\n",
              "      <th>3</th>\n",
              "      <td>-0.966272</td>\n",
              "      <td>-0.185226</td>\n",
              "      <td>1.792993</td>\n",
              "      <td>-0.863291</td>\n",
              "      <td>-0.010309</td>\n",
              "      <td>1.247203</td>\n",
              "      <td>0.237609</td>\n",
              "      <td>0.377436</td>\n",
              "      <td>-1.387024</td>\n",
              "      <td>-0.054952</td>\n",
              "      <td>...</td>\n",
              "      <td>-0.108300</td>\n",
              "      <td>0.005274</td>\n",
              "      <td>-0.190321</td>\n",
              "      <td>-1.175575</td>\n",
              "      <td>0.647376</td>\n",
              "      <td>-0.221929</td>\n",
              "      <td>0.062723</td>\n",
              "      <td>0.061458</td>\n",
              "      <td>123.50</td>\n",
              "      <td>0</td>\n",
              "    </tr>\n",
              "    <tr>\n",
              "      <th>4</th>\n",
              "      <td>-1.158233</td>\n",
              "      <td>0.877737</td>\n",
              "      <td>1.548718</td>\n",
              "      <td>0.403034</td>\n",
              "      <td>-0.407193</td>\n",
              "      <td>0.095921</td>\n",
              "      <td>0.592941</td>\n",
              "      <td>-0.270533</td>\n",
              "      <td>0.817739</td>\n",
              "      <td>0.753074</td>\n",
              "      <td>...</td>\n",
              "      <td>-0.009431</td>\n",
              "      <td>0.798278</td>\n",
              "      <td>-0.137458</td>\n",
              "      <td>0.141267</td>\n",
              "      <td>-0.206010</td>\n",
              "      <td>0.502292</td>\n",
              "      <td>0.219422</td>\n",
              "      <td>0.215153</td>\n",
              "      <td>69.99</td>\n",
              "      <td>0</td>\n",
              "    </tr>\n",
              "    <tr>\n",
              "      <th>...</th>\n",
              "      <td>...</td>\n",
              "      <td>...</td>\n",
              "      <td>...</td>\n",
              "      <td>...</td>\n",
              "      <td>...</td>\n",
              "      <td>...</td>\n",
              "      <td>...</td>\n",
              "      <td>...</td>\n",
              "      <td>...</td>\n",
              "      <td>...</td>\n",
              "      <td>...</td>\n",
              "      <td>...</td>\n",
              "      <td>...</td>\n",
              "      <td>...</td>\n",
              "      <td>...</td>\n",
              "      <td>...</td>\n",
              "      <td>...</td>\n",
              "      <td>...</td>\n",
              "      <td>...</td>\n",
              "      <td>...</td>\n",
              "      <td>...</td>\n",
              "    </tr>\n",
              "    <tr>\n",
              "      <th>284802</th>\n",
              "      <td>-11.881118</td>\n",
              "      <td>10.071785</td>\n",
              "      <td>-9.834783</td>\n",
              "      <td>-2.066656</td>\n",
              "      <td>-5.364473</td>\n",
              "      <td>-2.606837</td>\n",
              "      <td>-4.918215</td>\n",
              "      <td>7.305334</td>\n",
              "      <td>1.914428</td>\n",
              "      <td>4.356170</td>\n",
              "      <td>...</td>\n",
              "      <td>0.213454</td>\n",
              "      <td>0.111864</td>\n",
              "      <td>1.014480</td>\n",
              "      <td>-0.509348</td>\n",
              "      <td>1.436807</td>\n",
              "      <td>0.250034</td>\n",
              "      <td>0.943651</td>\n",
              "      <td>0.823731</td>\n",
              "      <td>0.77</td>\n",
              "      <td>0</td>\n",
              "    </tr>\n",
              "    <tr>\n",
              "      <th>284803</th>\n",
              "      <td>-0.732789</td>\n",
              "      <td>-0.055080</td>\n",
              "      <td>2.035030</td>\n",
              "      <td>-0.738589</td>\n",
              "      <td>0.868229</td>\n",
              "      <td>1.058415</td>\n",
              "      <td>0.024330</td>\n",
              "      <td>0.294869</td>\n",
              "      <td>0.584800</td>\n",
              "      <td>-0.975926</td>\n",
              "      <td>...</td>\n",
              "      <td>0.214205</td>\n",
              "      <td>0.924384</td>\n",
              "      <td>0.012463</td>\n",
              "      <td>-1.016226</td>\n",
              "      <td>-0.606624</td>\n",
              "      <td>-0.395255</td>\n",
              "      <td>0.068472</td>\n",
              "      <td>-0.053527</td>\n",
              "      <td>24.79</td>\n",
              "      <td>0</td>\n",
              "    </tr>\n",
              "    <tr>\n",
              "      <th>284804</th>\n",
              "      <td>1.919565</td>\n",
              "      <td>-0.301254</td>\n",
              "      <td>-3.249640</td>\n",
              "      <td>-0.557828</td>\n",
              "      <td>2.630515</td>\n",
              "      <td>3.031260</td>\n",
              "      <td>-0.296827</td>\n",
              "      <td>0.708417</td>\n",
              "      <td>0.432454</td>\n",
              "      <td>-0.484782</td>\n",
              "      <td>...</td>\n",
              "      <td>0.232045</td>\n",
              "      <td>0.578229</td>\n",
              "      <td>-0.037501</td>\n",
              "      <td>0.640134</td>\n",
              "      <td>0.265745</td>\n",
              "      <td>-0.087371</td>\n",
              "      <td>0.004455</td>\n",
              "      <td>-0.026561</td>\n",
              "      <td>67.88</td>\n",
              "      <td>0</td>\n",
              "    </tr>\n",
              "    <tr>\n",
              "      <th>284805</th>\n",
              "      <td>-0.240440</td>\n",
              "      <td>0.530483</td>\n",
              "      <td>0.702510</td>\n",
              "      <td>0.689799</td>\n",
              "      <td>-0.377961</td>\n",
              "      <td>0.623708</td>\n",
              "      <td>-0.686180</td>\n",
              "      <td>0.679145</td>\n",
              "      <td>0.392087</td>\n",
              "      <td>-0.399126</td>\n",
              "      <td>...</td>\n",
              "      <td>0.265245</td>\n",
              "      <td>0.800049</td>\n",
              "      <td>-0.163298</td>\n",
              "      <td>0.123205</td>\n",
              "      <td>-0.569159</td>\n",
              "      <td>0.546668</td>\n",
              "      <td>0.108821</td>\n",
              "      <td>0.104533</td>\n",
              "      <td>10.00</td>\n",
              "      <td>0</td>\n",
              "    </tr>\n",
              "    <tr>\n",
              "      <th>284806</th>\n",
              "      <td>-0.533413</td>\n",
              "      <td>-0.189733</td>\n",
              "      <td>0.703337</td>\n",
              "      <td>-0.506271</td>\n",
              "      <td>-0.012546</td>\n",
              "      <td>-0.649617</td>\n",
              "      <td>1.577006</td>\n",
              "      <td>-0.414650</td>\n",
              "      <td>0.486180</td>\n",
              "      <td>-0.915427</td>\n",
              "      <td>...</td>\n",
              "      <td>0.261057</td>\n",
              "      <td>0.643078</td>\n",
              "      <td>0.376777</td>\n",
              "      <td>0.008797</td>\n",
              "      <td>-0.473649</td>\n",
              "      <td>-0.818267</td>\n",
              "      <td>-0.002415</td>\n",
              "      <td>0.013649</td>\n",
              "      <td>217.00</td>\n",
              "      <td>0</td>\n",
              "    </tr>\n",
              "  </tbody>\n",
              "</table>\n",
              "<p>284807 rows × 30 columns</p>\n",
              "</div>\n",
              "      <button class=\"colab-df-convert\" onclick=\"convertToInteractive('df-11de3e82-d04d-477a-ad81-208e1901e6a3')\"\n",
              "              title=\"Convert this dataframe to an interactive table.\"\n",
              "              style=\"display:none;\">\n",
              "        \n",
              "  <svg xmlns=\"http://www.w3.org/2000/svg\" height=\"24px\"viewBox=\"0 0 24 24\"\n",
              "       width=\"24px\">\n",
              "    <path d=\"M0 0h24v24H0V0z\" fill=\"none\"/>\n",
              "    <path d=\"M18.56 5.44l.94 2.06.94-2.06 2.06-.94-2.06-.94-.94-2.06-.94 2.06-2.06.94zm-11 1L8.5 8.5l.94-2.06 2.06-.94-2.06-.94L8.5 2.5l-.94 2.06-2.06.94zm10 10l.94 2.06.94-2.06 2.06-.94-2.06-.94-.94-2.06-.94 2.06-2.06.94z\"/><path d=\"M17.41 7.96l-1.37-1.37c-.4-.4-.92-.59-1.43-.59-.52 0-1.04.2-1.43.59L10.3 9.45l-7.72 7.72c-.78.78-.78 2.05 0 2.83L4 21.41c.39.39.9.59 1.41.59.51 0 1.02-.2 1.41-.59l7.78-7.78 2.81-2.81c.8-.78.8-2.07 0-2.86zM5.41 20L4 18.59l7.72-7.72 1.47 1.35L5.41 20z\"/>\n",
              "  </svg>\n",
              "      </button>\n",
              "      \n",
              "  <style>\n",
              "    .colab-df-container {\n",
              "      display:flex;\n",
              "      flex-wrap:wrap;\n",
              "      gap: 12px;\n",
              "    }\n",
              "\n",
              "    .colab-df-convert {\n",
              "      background-color: #E8F0FE;\n",
              "      border: none;\n",
              "      border-radius: 50%;\n",
              "      cursor: pointer;\n",
              "      display: none;\n",
              "      fill: #1967D2;\n",
              "      height: 32px;\n",
              "      padding: 0 0 0 0;\n",
              "      width: 32px;\n",
              "    }\n",
              "\n",
              "    .colab-df-convert:hover {\n",
              "      background-color: #E2EBFA;\n",
              "      box-shadow: 0px 1px 2px rgba(60, 64, 67, 0.3), 0px 1px 3px 1px rgba(60, 64, 67, 0.15);\n",
              "      fill: #174EA6;\n",
              "    }\n",
              "\n",
              "    [theme=dark] .colab-df-convert {\n",
              "      background-color: #3B4455;\n",
              "      fill: #D2E3FC;\n",
              "    }\n",
              "\n",
              "    [theme=dark] .colab-df-convert:hover {\n",
              "      background-color: #434B5C;\n",
              "      box-shadow: 0px 1px 3px 1px rgba(0, 0, 0, 0.15);\n",
              "      filter: drop-shadow(0px 1px 2px rgba(0, 0, 0, 0.3));\n",
              "      fill: #FFFFFF;\n",
              "    }\n",
              "  </style>\n",
              "\n",
              "      <script>\n",
              "        const buttonEl =\n",
              "          document.querySelector('#df-11de3e82-d04d-477a-ad81-208e1901e6a3 button.colab-df-convert');\n",
              "        buttonEl.style.display =\n",
              "          google.colab.kernel.accessAllowed ? 'block' : 'none';\n",
              "\n",
              "        async function convertToInteractive(key) {\n",
              "          const element = document.querySelector('#df-11de3e82-d04d-477a-ad81-208e1901e6a3');\n",
              "          const dataTable =\n",
              "            await google.colab.kernel.invokeFunction('convertToInteractive',\n",
              "                                                     [key], {});\n",
              "          if (!dataTable) return;\n",
              "\n",
              "          const docLinkHtml = 'Like what you see? Visit the ' +\n",
              "            '<a target=\"_blank\" href=https://colab.research.google.com/notebooks/data_table.ipynb>data table notebook</a>'\n",
              "            + ' to learn more about interactive tables.';\n",
              "          element.innerHTML = '';\n",
              "          dataTable['output_type'] = 'display_data';\n",
              "          await google.colab.output.renderOutput(dataTable, element);\n",
              "          const docLink = document.createElement('div');\n",
              "          docLink.innerHTML = docLinkHtml;\n",
              "          element.appendChild(docLink);\n",
              "        }\n",
              "      </script>\n",
              "    </div>\n",
              "  </div>\n",
              "  "
            ]
          },
          "metadata": {},
          "execution_count": 3
        }
      ]
    },
    {
      "cell_type": "markdown",
      "source": [
        "## Training\n",
        "Our aim is for the autoencoder to learn \"legitimate\" transactions. For that end, the training is done on the non-fraud data, i.e. label=0"
      ],
      "metadata": {
        "id": "4_GoXU0grhek"
      }
    },
    {
      "cell_type": "markdown",
      "source": [
        "### CODE CELL 4"
      ],
      "metadata": {
        "id": "PDguRyWMzdoE"
      }
    },
    {
      "cell_type": "code",
      "source": [
        "fraud=df[df.label==1]\n",
        "clean=df[df.label==0]\n",
        "print(\"# of fraud samples {}. # of clean samples {} \".format(\n",
        "            len(fraud),len(clean)))"
      ],
      "metadata": {
        "execution": {
          "iopub.status.busy": "2022-10-23T18:45:28.557165Z",
          "iopub.execute_input": "2022-10-23T18:45:28.558279Z",
          "iopub.status.idle": "2022-10-23T18:45:28.605275Z",
          "shell.execute_reply.started": "2022-10-23T18:45:28.558243Z",
          "shell.execute_reply": "2022-10-23T18:45:28.604035Z"
        },
        "trusted": true,
        "colab": {
          "base_uri": "https://localhost:8080/"
        },
        "id": "2YxWJ9naVbFO",
        "outputId": "6a1a0682-438f-466d-a6de-28fcd760f8af"
      },
      "execution_count": 4,
      "outputs": [
        {
          "output_type": "stream",
          "name": "stdout",
          "text": [
            "# of fraud samples 492. # of clean samples 284315 \n"
          ]
        }
      ]
    },
    {
      "cell_type": "markdown",
      "source": [
        "We need to retain a fraction of the \"clean\" data for testing later on"
      ],
      "metadata": {
        "id": "J4S3NLParu6L"
      }
    },
    {
      "cell_type": "markdown",
      "source": [
        "### CODE CELL 5"
      ],
      "metadata": {
        "id": "kNDS3HX7zgYk"
      }
    },
    {
      "cell_type": "code",
      "source": [
        "TRAINING_SAMPLE=200000\n",
        "clean=clean.sample(frac=1).reset_index(drop=True)\n",
        "train_input=clean.iloc[:TRAINING_SAMPLE].drop('label',axis=1)\n",
        "test_input=clean.iloc[TRAINING_SAMPLE:].append(fraud)\n",
        "test_input.label.value_counts()"
      ],
      "metadata": {
        "execution": {
          "iopub.status.busy": "2022-10-23T18:45:28.607749Z",
          "iopub.execute_input": "2022-10-23T18:45:28.608236Z",
          "iopub.status.idle": "2022-10-23T18:45:28.701729Z",
          "shell.execute_reply.started": "2022-10-23T18:45:28.608206Z",
          "shell.execute_reply": "2022-10-23T18:45:28.700312Z"
        },
        "trusted": true,
        "id": "1EuVhgTdVbFP",
        "outputId": "ca10f83e-f375-4c39-d349-f1ce148fa7da",
        "colab": {
          "base_uri": "https://localhost:8080/"
        }
      },
      "execution_count": 5,
      "outputs": [
        {
          "output_type": "execute_result",
          "data": {
            "text/plain": [
              "0    84315\n",
              "1      492\n",
              "Name: label, dtype: int64"
            ]
          },
          "metadata": {},
          "execution_count": 5
        }
      ]
    },
    {
      "cell_type": "markdown",
      "source": [
        "### CODE CELL 6"
      ],
      "metadata": {
        "id": "LQ8kw4tXzloc"
      }
    },
    {
      "cell_type": "code",
      "source": [
        "from sklearn.preprocessing import MinMaxScaler\n",
        "\n",
        "pipeline=MinMaxScaler()\n",
        "pipeline.fit(train_input)\n",
        "X_test, y_test = test_input.drop('label', axis=1), test_input.label\n",
        "X_train_transformed = pipeline.transform(train_input)\n",
        "X_test_transformed = pipeline.transform(X_test)\n"
      ],
      "metadata": {
        "execution": {
          "iopub.status.busy": "2022-10-23T18:45:28.714155Z",
          "iopub.execute_input": "2022-10-23T18:45:28.714480Z",
          "iopub.status.idle": "2022-10-23T18:45:29.028407Z",
          "shell.execute_reply.started": "2022-10-23T18:45:28.714448Z",
          "shell.execute_reply": "2022-10-23T18:45:29.026988Z"
        },
        "trusted": true,
        "id": "ADZhTQG1VbFP"
      },
      "execution_count": 6,
      "outputs": []
    },
    {
      "cell_type": "markdown",
      "source": [
        "Create a custom dataset"
      ],
      "metadata": {
        "id": "zi0i_Yf5r4os"
      }
    },
    {
      "cell_type": "markdown",
      "source": [
        "### CODE CELL 7"
      ],
      "metadata": {
        "id": "xhltbC3Tzoqc"
      }
    },
    {
      "cell_type": "code",
      "source": [
        "from torch.utils.data import Dataset,DataLoader\n",
        "class CustomDataset(Dataset):\n",
        "    def __init__(self,data):\n",
        "        #self.data=frame.to_numpy(dtype=np.float32)        \n",
        "        self.data=data\n",
        "    def __getitem__(self,idx):\n",
        "            return torch.as_tensor(self.data[idx],dtype=torch.float32)\n",
        "    \n",
        "    def __len__(self):\n",
        "        return len(self.data)\n",
        "\n",
        "train_dataset=CustomDataset(X_train_transformed)\n",
        "train_loader=DataLoader(train_dataset,batch_size=256)"
      ],
      "metadata": {
        "execution": {
          "iopub.status.busy": "2022-10-23T18:45:29.032820Z",
          "iopub.execute_input": "2022-10-23T18:45:29.033412Z",
          "iopub.status.idle": "2022-10-23T18:45:29.039302Z",
          "shell.execute_reply.started": "2022-10-23T18:45:29.033368Z",
          "shell.execute_reply": "2022-10-23T18:45:29.038658Z"
        },
        "trusted": true,
        "id": "qWKrMTHNVbFP"
      },
      "execution_count": 7,
      "outputs": []
    },
    {
      "cell_type": "markdown",
      "source": [
        "No attempt was made to optimize the network architecture"
      ],
      "metadata": {
        "id": "9xsmyyO4r88k"
      }
    },
    {
      "cell_type": "markdown",
      "source": [
        "### CODE CELL 8"
      ],
      "metadata": {
        "id": "9bxs1L5BzvmU"
      }
    },
    {
      "cell_type": "code",
      "source": [
        "import torch.nn as nn\n",
        "\n",
        "class Net(nn.Module):\n",
        "    def __init__(self):\n",
        "        super().__init__()\n",
        "        # Encoder\n",
        "        self.fc2=nn.Linear(in_features=29,out_features=16)\n",
        "        self.fc3=nn.Linear(in_features=16,out_features=8)\n",
        "        self.fc4=nn.Linear(in_features=8,out_features=4)\n",
        "        self.fc5=nn.Linear(in_features=4,out_features=2)\n",
        "        # Decoder\n",
        "        self.fc6=nn.Linear(in_features=2,out_features=4)\n",
        "        self.fc7=nn.Linear(in_features=4,out_features=8)\n",
        "        self.fc8=nn.Linear(in_features=8,out_features=16)\n",
        "        self.fc9=nn.Linear(in_features=16,out_features=29)\n",
        "        ## Since some of the PCA components are negative\n",
        "        self.relu=nn.ELU()\n",
        "    def forward(self,x):\n",
        "        x=self.fc2(x)\n",
        "        x=self.relu(x)\n",
        "        x=self.fc3(x)\n",
        "        x=self.relu(x)\n",
        "        x=self.fc4(x)\n",
        "        x=self.relu(x)\n",
        "        x=self.fc5(x)\n",
        "        x=self.relu(x)\n",
        "        x=self.fc6(x)\n",
        "        x=self.relu(x)\n",
        "        x=self.fc7(x)\n",
        "        x=self.relu(x)\n",
        "        x=self.fc8(x)\n",
        "        x=self.relu(x)\n",
        "        x=self.fc9(x)\n",
        "     \n",
        "        return x\n",
        "        "
      ],
      "metadata": {
        "execution": {
          "iopub.status.busy": "2022-10-23T18:45:29.060764Z",
          "iopub.execute_input": "2022-10-23T18:45:29.061316Z",
          "iopub.status.idle": "2022-10-23T18:45:29.072848Z",
          "shell.execute_reply.started": "2022-10-23T18:45:29.061274Z",
          "shell.execute_reply": "2022-10-23T18:45:29.071963Z"
        },
        "trusted": true,
        "id": "06IxjnaUVbFQ"
      },
      "execution_count": 8,
      "outputs": []
    },
    {
      "cell_type": "markdown",
      "source": [
        "### CODE CELL 9"
      ],
      "metadata": {
        "id": "yW5M8J2mz0at"
      }
    },
    {
      "cell_type": "code",
      "source": [
        "from torch.nn import MSELoss\n",
        "from torch.optim import Adam\n",
        "from tqdm import tqdm\n",
        "model=Net()\n",
        "optimizer=Adam(model.parameters())\n",
        "loss_fn=MSELoss()\n",
        "epochs=50\n",
        "for epoch in range(epochs):\n",
        "    loop=tqdm(train_loader)\n",
        "    loop.set_description(\"Epoch [{}/{}]\".format((epoch+1),epochs))\n",
        "    for x in loop:\n",
        "        optimizer.zero_grad()\n",
        "        y=model(x)\n",
        "        loss=loss_fn(x,y)\n",
        "        loss.backward()\n",
        "        optimizer.step()\n",
        "        loop.set_postfix(loss=loss.item())\n",
        "   "
      ],
      "metadata": {
        "execution": {
          "iopub.status.busy": "2022-10-23T18:45:29.074142Z",
          "iopub.execute_input": "2022-10-23T18:45:29.074572Z",
          "iopub.status.idle": "2022-10-23T18:47:19.767604Z",
          "shell.execute_reply.started": "2022-10-23T18:45:29.074535Z",
          "shell.execute_reply": "2022-10-23T18:47:19.766381Z"
        },
        "trusted": true,
        "colab": {
          "base_uri": "https://localhost:8080/"
        },
        "id": "b-ZsWJn3VbFQ",
        "outputId": "67947d0d-ef61-410e-94d2-0686b90d8aa2"
      },
      "execution_count": 9,
      "outputs": [
        {
          "output_type": "stream",
          "name": "stderr",
          "text": [
            "Epoch [1/50]: 100%|██████████| 782/782 [00:05<00:00, 136.85it/s, loss=0.00167]\n",
            "Epoch [2/50]: 100%|██████████| 782/782 [00:05<00:00, 139.13it/s, loss=0.00166]\n",
            "Epoch [3/50]: 100%|██████████| 782/782 [00:05<00:00, 140.27it/s, loss=0.00161]\n",
            "Epoch [4/50]: 100%|██████████| 782/782 [00:05<00:00, 139.20it/s, loss=0.00151]\n",
            "Epoch [5/50]: 100%|██████████| 782/782 [00:05<00:00, 138.36it/s, loss=0.0015]\n",
            "Epoch [6/50]: 100%|██████████| 782/782 [00:05<00:00, 141.11it/s, loss=0.00145]\n",
            "Epoch [7/50]: 100%|██████████| 782/782 [00:05<00:00, 139.20it/s, loss=0.00134]\n",
            "Epoch [8/50]: 100%|██████████| 782/782 [00:05<00:00, 137.87it/s, loss=0.00132]\n",
            "Epoch [9/50]: 100%|██████████| 782/782 [00:05<00:00, 138.67it/s, loss=0.00131]\n",
            "Epoch [10/50]: 100%|██████████| 782/782 [00:05<00:00, 131.42it/s, loss=0.00131]\n",
            "Epoch [11/50]: 100%|██████████| 782/782 [00:05<00:00, 138.82it/s, loss=0.00131]\n",
            "Epoch [12/50]: 100%|██████████| 782/782 [00:05<00:00, 130.73it/s, loss=0.0013]\n",
            "Epoch [13/50]: 100%|██████████| 782/782 [00:06<00:00, 122.38it/s, loss=0.0013]\n",
            "Epoch [14/50]: 100%|██████████| 782/782 [00:05<00:00, 139.60it/s, loss=0.0013]\n",
            "Epoch [15/50]: 100%|██████████| 782/782 [00:05<00:00, 131.71it/s, loss=0.0013]\n",
            "Epoch [16/50]: 100%|██████████| 782/782 [00:05<00:00, 136.38it/s, loss=0.00129]\n",
            "Epoch [17/50]: 100%|██████████| 782/782 [00:05<00:00, 139.24it/s, loss=0.00129]\n",
            "Epoch [18/50]: 100%|██████████| 782/782 [00:05<00:00, 130.66it/s, loss=0.00128]\n",
            "Epoch [19/50]: 100%|██████████| 782/782 [00:05<00:00, 133.05it/s, loss=0.00128]\n",
            "Epoch [20/50]: 100%|██████████| 782/782 [00:05<00:00, 131.67it/s, loss=0.00127]\n",
            "Epoch [21/50]: 100%|██████████| 782/782 [00:05<00:00, 131.49it/s, loss=0.00126]\n",
            "Epoch [22/50]: 100%|██████████| 782/782 [00:05<00:00, 130.71it/s, loss=0.00125]\n",
            "Epoch [23/50]: 100%|██████████| 782/782 [00:05<00:00, 134.59it/s, loss=0.00124]\n",
            "Epoch [24/50]: 100%|██████████| 782/782 [00:05<00:00, 133.29it/s, loss=0.00124]\n",
            "Epoch [25/50]: 100%|██████████| 782/782 [00:05<00:00, 134.19it/s, loss=0.00124]\n",
            "Epoch [26/50]: 100%|██████████| 782/782 [00:05<00:00, 134.11it/s, loss=0.00124]\n",
            "Epoch [27/50]: 100%|██████████| 782/782 [00:05<00:00, 133.99it/s, loss=0.00124]\n",
            "Epoch [28/50]: 100%|██████████| 782/782 [00:05<00:00, 134.00it/s, loss=0.00124]\n",
            "Epoch [29/50]: 100%|██████████| 782/782 [00:05<00:00, 135.02it/s, loss=0.00124]\n",
            "Epoch [30/50]: 100%|██████████| 782/782 [00:05<00:00, 135.25it/s, loss=0.00124]\n",
            "Epoch [31/50]: 100%|██████████| 782/782 [00:05<00:00, 134.70it/s, loss=0.00125]\n",
            "Epoch [32/50]: 100%|██████████| 782/782 [00:05<00:00, 135.26it/s, loss=0.00125]\n",
            "Epoch [33/50]: 100%|██████████| 782/782 [00:06<00:00, 125.51it/s, loss=0.00124]\n",
            "Epoch [34/50]: 100%|██████████| 782/782 [00:05<00:00, 134.32it/s, loss=0.00123]\n",
            "Epoch [35/50]: 100%|██████████| 782/782 [00:05<00:00, 133.69it/s, loss=0.00122]\n",
            "Epoch [36/50]: 100%|██████████| 782/782 [00:05<00:00, 134.40it/s, loss=0.00122]\n",
            "Epoch [37/50]: 100%|██████████| 782/782 [00:05<00:00, 136.76it/s, loss=0.00122]\n",
            "Epoch [38/50]: 100%|██████████| 782/782 [00:05<00:00, 135.83it/s, loss=0.00122]\n",
            "Epoch [39/50]: 100%|██████████| 782/782 [00:05<00:00, 135.91it/s, loss=0.00122]\n",
            "Epoch [40/50]: 100%|██████████| 782/782 [00:05<00:00, 135.47it/s, loss=0.00122]\n",
            "Epoch [41/50]: 100%|██████████| 782/782 [00:05<00:00, 135.19it/s, loss=0.00121]\n",
            "Epoch [42/50]: 100%|██████████| 782/782 [00:05<00:00, 137.28it/s, loss=0.00121]\n",
            "Epoch [43/50]: 100%|██████████| 782/782 [00:05<00:00, 134.80it/s, loss=0.00121]\n",
            "Epoch [44/50]: 100%|██████████| 782/782 [00:05<00:00, 134.56it/s, loss=0.00121]\n",
            "Epoch [45/50]: 100%|██████████| 782/782 [00:06<00:00, 128.64it/s, loss=0.00121]\n",
            "Epoch [46/50]: 100%|██████████| 782/782 [00:06<00:00, 127.86it/s, loss=0.00121]\n",
            "Epoch [47/50]: 100%|██████████| 782/782 [00:06<00:00, 129.00it/s, loss=0.00121]\n",
            "Epoch [48/50]: 100%|██████████| 782/782 [00:05<00:00, 132.83it/s, loss=0.0012]\n",
            "Epoch [49/50]: 100%|██████████| 782/782 [00:06<00:00, 123.14it/s, loss=0.00121]\n",
            "Epoch [50/50]: 100%|██████████| 782/782 [00:06<00:00, 128.29it/s, loss=0.0012]\n"
          ]
        }
      ]
    },
    {
      "cell_type": "markdown",
      "source": [
        "## Detecting fraud\n",
        "\n",
        "The mse of test data is computed. Because the autoencoder learned the \"legitimate\" transactions we consider each transaction having mse > some threshold to be fraud. We **ASSUME** that the distribution is normal and a z-score >3 covers 99% of the samples"
      ],
      "metadata": {
        "id": "ZoUK9VEStNON"
      }
    },
    {
      "cell_type": "markdown",
      "source": [
        "### CODE CELL 10"
      ],
      "metadata": {
        "id": "VhOyh_cu0Nll"
      }
    },
    {
      "cell_type": "code",
      "source": [
        "# Compute the output for the training data and MSE for that output\n",
        "# this will be used to establish a threshold for anomaly\n",
        "train_predict=model(torch.as_tensor(X_train_transformed,dtype=torch.float32))\n",
        "mse_train=np.mean(np.power(X_train_transformed - train_predict.detach().numpy(), 2), axis=1)\n",
        "print(mse_train.mean(),mse_train.std())\n",
        "# Compute the output for the test data and MSE for that output\n",
        "\n",
        "test_predict = model(torch.as_tensor(X_test_transformed,dtype=torch.float32))\n",
        "mse = np.mean(np.power(X_test_transformed - test_predict.detach().numpy(), 2), axis=1)"
      ],
      "metadata": {
        "execution": {
          "iopub.status.busy": "2022-10-23T18:47:19.769103Z",
          "iopub.execute_input": "2022-10-23T18:47:19.769384Z",
          "iopub.status.idle": "2022-10-23T18:47:19.811936Z",
          "shell.execute_reply.started": "2022-10-23T18:47:19.769357Z",
          "shell.execute_reply": "2022-10-23T18:47:19.810731Z"
        },
        "trusted": true,
        "id": "hNz2pYBFVbFQ",
        "outputId": "7d5957ec-048a-465a-de74-d75985c0abbb",
        "colab": {
          "base_uri": "https://localhost:8080/"
        }
      },
      "execution_count": 10,
      "outputs": [
        {
          "output_type": "stream",
          "name": "stdout",
          "text": [
            "0.0013177850485432054 0.0015446779503922822\n"
          ]
        }
      ]
    },
    {
      "cell_type": "markdown",
      "source": [
        "Visualize the \"separation\" between normal and anomaly. Note that here the classification is 100% since we are using the labels of the test samples."
      ],
      "metadata": {
        "id": "UrprY48-0K2e"
      }
    },
    {
      "cell_type": "markdown",
      "source": [
        "### CODE CELL 11"
      ],
      "metadata": {
        "id": "bx56izo70PSl"
      }
    },
    {
      "cell_type": "code",
      "source": [
        "import matplotlib.pyplot as plt\n",
        "clean = mse[y_test==0]\n",
        "fraud = mse[y_test==1]\n",
        "print(\"num clean {}. num fraud {}\".format(len(clean),len(fraud)))\n",
        "fig, ax = plt.subplots(figsize=(10,6))\n",
        "\n",
        "\n",
        "ax.hist(clean, bins=100, density=True, label=\"clean\", alpha=.6, color=\"green\")\n",
        "ax.hist(fraud, bins=100, density=True, label=\"fraud\", alpha=.6, color=\"red\")\n",
        "plt.xlim((0,0.1))\n",
        "plt.title(\"Distribution of mean squared error\")\n",
        "plt.legend()\n",
        "plt.show()"
      ],
      "metadata": {
        "execution": {
          "iopub.status.busy": "2022-10-23T18:47:19.882597Z",
          "iopub.execute_input": "2022-10-23T18:47:19.882932Z",
          "iopub.status.idle": "2022-10-23T18:47:20.510052Z",
          "shell.execute_reply.started": "2022-10-23T18:47:19.882903Z",
          "shell.execute_reply": "2022-10-23T18:47:20.508847Z"
        },
        "trusted": true,
        "colab": {
          "base_uri": "https://localhost:8080/",
          "height": 408
        },
        "id": "Dh7BMEQxVbFQ",
        "outputId": "5c26b877-461d-430a-f886-b2c6e13f97a6"
      },
      "execution_count": 11,
      "outputs": [
        {
          "output_type": "stream",
          "name": "stdout",
          "text": [
            "num clean 84315. num fraud 492\n"
          ]
        },
        {
          "output_type": "display_data",
          "data": {
            "text/plain": [
              "<Figure size 720x432 with 1 Axes>"
            ],
            "image/png": "[encoded data removed]"
          },
          "metadata": {
            "needs_background": "light"
          }
        }
      ]
    },
    {
      "cell_type": "markdown",
      "source": [
        "### CODE CELL 13\n",
        "\n",
        "The analysis below is **CRUDE** and it is used for illustration. It **ASSUMES** that the mse of the training data is a normal distribution"
      ],
      "metadata": {
        "id": "T1yZ54uQ0Xlc"
      }
    },
    {
      "cell_type": "code",
      "source": [
        "## Consider all instances that produce a z-score >3\n",
        "## We are ASSUMING The mse distribution of training samples are drawn from a normal distribution\n",
        "\n",
        "z=(mse-mse_train.mean())/mse_train.std()\n",
        "outliers=z>3\n",
        "print(\"num of samples classified as fraud {}\".format(outliers.sum()))\n",
        "\n",
        "from sklearn.metrics import confusion_matrix\n",
        "\n",
        "cm= confusion_matrix(outliers,y_test)\n",
        "# true/false positives/negatives\n",
        "(tn, fn, \n",
        " fp, tp) = cm.flatten()"
      ],
      "metadata": {
        "execution": {
          "iopub.status.busy": "2022-10-23T18:52:02.095157Z",
          "iopub.execute_input": "2022-10-23T18:52:02.095520Z",
          "iopub.status.idle": "2022-10-23T18:52:02.109197Z",
          "shell.execute_reply.started": "2022-10-23T18:52:02.095491Z",
          "shell.execute_reply": "2022-10-23T18:52:02.108059Z"
        },
        "trusted": true,
        "id": "q1-JZw3SVbFR",
        "outputId": "9422845c-aeeb-47f3-e549-1e5f5b7fd554",
        "colab": {
          "base_uri": "https://localhost:8080/"
        }
      },
      "execution_count": 12,
      "outputs": [
        {
          "output_type": "stream",
          "name": "stdout",
          "text": [
            "num of samples classified as fraud 953\n"
          ]
        }
      ]
    },
    {
      "cell_type": "code",
      "source": [
        "print(\"Confusion matrix \\n{}\".format(cm))\n",
        "\n",
        "print(\"precision: tp/(fp+tp)= {:.2%}\".format(tp/(fp+tp)))\n",
        "print(\"recall: tp/(fn+tp)={:.2%}\".format(tp/(fn+tp)))"
      ],
      "metadata": {
        "execution": {
          "iopub.status.busy": "2022-10-23T18:52:02.454353Z",
          "iopub.execute_input": "2022-10-23T18:52:02.454733Z",
          "iopub.status.idle": "2022-10-23T18:52:02.461495Z",
          "shell.execute_reply.started": "2022-10-23T18:52:02.454703Z",
          "shell.execute_reply": "2022-10-23T18:52:02.459948Z"
        },
        "trusted": true,
        "colab": {
          "base_uri": "https://localhost:8080/"
        },
        "id": "sok0Zqb9VbFR",
        "outputId": "ed52fc19-cd67-45cd-ce85-968148fcb955"
      },
      "execution_count": 13,
      "outputs": [
        {
          "output_type": "stream",
          "name": "stdout",
          "text": [
            "Confusion matrix \n",
            "[[83757    97]\n",
            " [  558   395]]\n",
            "precision: tp/(fp+tp)= 41.45%\n",
            "recall: tp/(fn+tp)=80.28%\n"
          ]
        }
      ]
    },
    {
      "cell_type": "code",
      "source": [],
      "metadata": {
        "id": "qpo_RKsBVbFR"
      },
      "execution_count": 13,
      "outputs": []
    }
  ]
}