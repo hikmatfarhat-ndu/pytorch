{
  "nbformat": 4,
  "nbformat_minor": 0,
  "metadata": {
    "colab": {
      "provenance": [],
      "authorship_tag": "ABX9TyOPM0Dzm+Fy4b9K0rDoTCQ6",
      "include_colab_link": true
    },
    "kernelspec": {
      "name": "python3",
      "display_name": "Python 3"
    },
    "language_info": {
      "name": "python"
    }
  },
  "cells": [
    {
      "cell_type": "markdown",
      "metadata": {
        "id": "view-in-github",
        "colab_type": "text"
      },
      "source": [
        "<a href=\"https://colab.research.google.com/github/hikmatfarhat-ndu/pytorch/blob/main/custom_dataset.ipynb\" target=\"_parent\"><img src=\"https://colab.research.google.com/assets/colab-badge.svg\" alt=\"Open In Colab\"/></a>"
      ]
    },
    {
      "cell_type": "code",
      "execution_count": 1,
      "metadata": {
        "id": "IF1cj4oHQy6F"
      },
      "outputs": [],
      "source": [
        "import torch\n",
        "import torch.nn as nn\n",
        "from torch.utils.data import Dataset,DataLoader\n",
        "import pandas as pd\n",
        "import numpy as np"
      ]
    },
    {
      "cell_type": "code",
      "source": [
        "!git clone https://github.com/emanhamed/Houses-dataset"
      ],
      "metadata": {
        "colab": {
          "base_uri": "https://localhost:8080/"
        },
        "id": "KEZLbxXLRhDQ",
        "outputId": "4dfebeb5-621b-423b-ffcc-4179017d6abf"
      },
      "execution_count": 2,
      "outputs": [
        {
          "output_type": "stream",
          "name": "stdout",
          "text": [
            "Cloning into 'Houses-dataset'...\n",
            "remote: Enumerating objects: 2166, done.\u001b[K\n",
            "remote: Counting objects: 100% (1/1), done.\u001b[K\n",
            "remote: Total 2166 (delta 0), reused 0 (delta 0), pack-reused 2165\u001b[K\n",
            "Receiving objects: 100% (2166/2166), 176.26 MiB | 27.71 MiB/s, done.\n",
            "Resolving deltas: 100% (20/20), done.\n"
          ]
        }
      ]
    },
    {
      "cell_type": "code",
      "source": [
        "df=pd.read_csv(\"Houses-dataset/Houses Dataset/HousesInfo.txt\",header=None,delim_whitespace=True,\n",
        "               names=[\"bedrooms\",\"bathrooms\",\"size\",\"zipcode\",\"price\"])"
      ],
      "metadata": {
        "id": "JB3jj_iWR9AZ"
      },
      "execution_count": 39,
      "outputs": []
    },
    {
      "cell_type": "code",
      "source": [
        "type(df)"
      ],
      "metadata": {
        "id": "Rul6g-BaUbrb",
        "outputId": "5b4cc36a-8a83-4ec8-b5aa-69c078a2b072",
        "colab": {
          "base_uri": "https://localhost:8080/"
        }
      },
      "execution_count": 40,
      "outputs": [
        {
          "output_type": "execute_result",
          "data": {
            "text/plain": [
              "pandas.core.frame.DataFrame"
            ]
          },
          "metadata": {},
          "execution_count": 40
        }
      ]
    },
    {
      "cell_type": "code",
      "source": [
        "def cleanData(df):\n",
        "    # compute the number of entries per zipcode\n",
        "    zipcodes=df['zipcode'].value_counts().keys().tolist()\n",
        "    counts=df['zipcode'].value_counts().tolist()\n",
        "    #discard all zipcodes ocurring less than 20 times\n",
        "    for count,zipcode in zip(counts,zipcodes):\n",
        "      if count<20:\n",
        "        idx=df[df['zipcode']==zipcode].index\n",
        "        df.drop(idx,inplace=True)\n",
        "    return df"
      ],
      "metadata": {
        "id": "O_YDMNrDjKPQ"
      },
      "execution_count": 41,
      "outputs": []
    },
    {
      "cell_type": "code",
      "source": [
        "dataset=cleanData(df)"
      ],
      "metadata": {
        "id": "JEmjuzSwjMJf"
      },
      "execution_count": 42,
      "outputs": []
    },
    {
      "cell_type": "code",
      "source": [
        "type(dataset)"
      ],
      "metadata": {
        "id": "vdzZYg-OUfsi",
        "outputId": "8b369369-b8e7-43ef-9796-ad8b9b10b96e",
        "colab": {
          "base_uri": "https://localhost:8080/"
        }
      },
      "execution_count": 43,
      "outputs": [
        {
          "output_type": "execute_result",
          "data": {
            "text/plain": [
              "pandas.core.frame.DataFrame"
            ]
          },
          "metadata": {},
          "execution_count": 43
        }
      ]
    },
    {
      "cell_type": "code",
      "source": [
        "dataset['price'].max()"
      ],
      "metadata": {
        "id": "iKe_LGb-WA1F",
        "outputId": "39447a1a-223e-430e-8832-ef49ac0bad1e",
        "colab": {
          "base_uri": "https://localhost:8080/"
        }
      },
      "execution_count": 44,
      "outputs": [
        {
          "output_type": "execute_result",
          "data": {
            "text/plain": [
              "5858000"
            ]
          },
          "metadata": {},
          "execution_count": 44
        }
      ]
    },
    {
      "cell_type": "code",
      "source": [
        "import shutil\n",
        "from_prefix=\"Houses-dataset/Houses Dataset/\"\n",
        "to_prefix=\"images/\"\n",
        "suffix=\"_frontal.jpg\"\n",
        "!mkdir -p images\n",
        "for newidx,oldidx in enumerate(df.index.tolist()):\n",
        "  oldname=from_prefix+str(oldidx)+suffix\n",
        "  newname=to_prefix+str(newidx)+suffix\n",
        "  #print(\"moving from %s to %s\"%(oldname,newname))\n",
        "  shutil.copy(oldname,newname)"
      ],
      "metadata": {
        "id": "6-MUq6QILcov"
      },
      "execution_count": 45,
      "outputs": []
    },
    {
      "cell_type": "code",
      "source": [
        "dataset.to_csv(\"cleansedDataset.csv\",index=False)"
      ],
      "metadata": {
        "id": "4oL4p_k8lN3g"
      },
      "execution_count": 46,
      "outputs": []
    },
    {
      "cell_type": "code",
      "source": [
        "dataset['price']"
      ],
      "metadata": {
        "id": "3A-UNEYyJbDY",
        "outputId": "1063f7e4-5445-4dc0-8de8-c51227195efd",
        "colab": {
          "base_uri": "https://localhost:8080/"
        }
      },
      "execution_count": 47,
      "outputs": [
        {
          "output_type": "execute_result",
          "data": {
            "text/plain": [
              "30     789000\n",
              "32     365000\n",
              "39     455000\n",
              "80     599000\n",
              "81     529800\n",
              "        ...  \n",
              "530    399900\n",
              "531    460000\n",
              "532    407000\n",
              "533    419000\n",
              "534    615000\n",
              "Name: price, Length: 384, dtype: int64"
            ]
          },
          "metadata": {},
          "execution_count": 47
        }
      ]
    },
    {
      "cell_type": "code",
      "source": [
        "class CustomDataset(Dataset):\n",
        "  def __init__(self,csvFile,imgDir):\n",
        "    dataset=pd.read_csv(csvFile)\n",
        "    dummy=pd.get_dummies(dataset['zipcode'])\n",
        "    price=dataset['price']\n",
        "    self.max_price=price.max()\n",
        "    df=dataset.drop(['price','zipcode'],axis=1)\n",
        "    self.data=pd.concat([df,dummy,price],axis=1)\n",
        "  def __len__(self):\n",
        "    return len(self.data)\n",
        "\n",
        "  def __getitem__(self,idx):\n",
        "    #\n",
        "    return self.data.iloc[idx,:-1].to_numpy(dtype=np.float32),np.float32(self.data.iloc[idx,-1]/self.max_price)"
      ],
      "metadata": {
        "id": "Uuj8m0exRFgB"
      },
      "execution_count": 53,
      "outputs": []
    },
    {
      "cell_type": "code",
      "source": [
        "dataset=CustomDataset(\"cleansedDataset.csv\",\"images\")"
      ],
      "metadata": {
        "id": "d8sNvU2NCmEI"
      },
      "execution_count": 54,
      "outputs": []
    },
    {
      "cell_type": "code",
      "source": [
        "dataset.data"
      ],
      "metadata": {
        "id": "UnuEd3LnIsjn",
        "outputId": "122c60dd-eb1c-4bce-fa6a-b33fa0d5cd39",
        "colab": {
          "base_uri": "https://localhost:8080/",
          "height": 424
        }
      },
      "execution_count": 55,
      "outputs": [
        {
          "output_type": "execute_result",
          "data": {
            "text/plain": [
              "     bedrooms  bathrooms  size  91901  92276  92677  92880  93446  93510  \\\n",
              "0           5        3.0  2520      0      0      0      0      1      0   \n",
              "1           3        2.0  1802      0      0      0      0      1      0   \n",
              "2           3        3.0  2146      0      0      0      0      1      0   \n",
              "3           4        2.5  2464      1      0      0      0      0      0   \n",
              "4           2        2.0  1845      1      0      0      0      0      0   \n",
              "..        ...        ...   ...    ...    ...    ...    ...    ...    ...   \n",
              "379         5        2.0  2066      0      0      0      0      0      0   \n",
              "380         4        3.5  9536      0      0      0      0      0      0   \n",
              "381         3        2.0  2014      0      0      0      0      0      0   \n",
              "382         4        3.0  2312      0      0      0      0      0      0   \n",
              "383         5        3.0  3796      0      0      0      0      0      0   \n",
              "\n",
              "     94501  94531   price  \n",
              "0        0      0  789000  \n",
              "1        0      0  365000  \n",
              "2        0      0  455000  \n",
              "3        0      0  599000  \n",
              "4        0      0  529800  \n",
              "..     ...    ...     ...  \n",
              "379      0      1  399900  \n",
              "380      0      1  460000  \n",
              "381      0      1  407000  \n",
              "382      0      1  419000  \n",
              "383      0      1  615000  \n",
              "\n",
              "[384 rows x 12 columns]"
            ],
            "text/html": [
              "\n",
              "  <div id=\"df-34bb0c02-af3d-4a06-bd84-7c56d8bee648\">\n",
              "    <div class=\"colab-df-container\">\n",
              "      <div>\n",
              "<style scoped>\n",
              "    .dataframe tbody tr th:only-of-type {\n",
              "        vertical-align: middle;\n",
              "    }\n",
              "\n",
              "    .dataframe tbody tr th {\n",
              "        vertical-align: top;\n",
              "    }\n",
              "\n",
              "    .dataframe thead th {\n",
              "        text-align: right;\n",
              "    }\n",
              "</style>\n",
              "<table border=\"1\" class=\"dataframe\">\n",
              "  <thead>\n",
              "    <tr style=\"text-align: right;\">\n",
              "      <th></th>\n",
              "      <th>bedrooms</th>\n",
              "      <th>bathrooms</th>\n",
              "      <th>size</th>\n",
              "      <th>91901</th>\n",
              "      <th>92276</th>\n",
              "      <th>92677</th>\n",
              "      <th>92880</th>\n",
              "      <th>93446</th>\n",
              "      <th>93510</th>\n",
              "      <th>94501</th>\n",
              "      <th>94531</th>\n",
              "      <th>price</th>\n",
              "    </tr>\n",
              "  </thead>\n",
              "  <tbody>\n",
              "    <tr>\n",
              "      <th>0</th>\n",
              "      <td>5</td>\n",
              "      <td>3.0</td>\n",
              "      <td>2520</td>\n",
              "      <td>0</td>\n",
              "      <td>0</td>\n",
              "      <td>0</td>\n",
              "      <td>0</td>\n",
              "      <td>1</td>\n",
              "      <td>0</td>\n",
              "      <td>0</td>\n",
              "      <td>0</td>\n",
              "      <td>789000</td>\n",
              "    </tr>\n",
              "    <tr>\n",
              "      <th>1</th>\n",
              "      <td>3</td>\n",
              "      <td>2.0</td>\n",
              "      <td>1802</td>\n",
              "      <td>0</td>\n",
              "      <td>0</td>\n",
              "      <td>0</td>\n",
              "      <td>0</td>\n",
              "      <td>1</td>\n",
              "      <td>0</td>\n",
              "      <td>0</td>\n",
              "      <td>0</td>\n",
              "      <td>365000</td>\n",
              "    </tr>\n",
              "    <tr>\n",
              "      <th>2</th>\n",
              "      <td>3</td>\n",
              "      <td>3.0</td>\n",
              "      <td>2146</td>\n",
              "      <td>0</td>\n",
              "      <td>0</td>\n",
              "      <td>0</td>\n",
              "      <td>0</td>\n",
              "      <td>1</td>\n",
              "      <td>0</td>\n",
              "      <td>0</td>\n",
              "      <td>0</td>\n",
              "      <td>455000</td>\n",
              "    </tr>\n",
              "    <tr>\n",
              "      <th>3</th>\n",
              "      <td>4</td>\n",
              "      <td>2.5</td>\n",
              "      <td>2464</td>\n",
              "      <td>1</td>\n",
              "      <td>0</td>\n",
              "      <td>0</td>\n",
              "      <td>0</td>\n",
              "      <td>0</td>\n",
              "      <td>0</td>\n",
              "      <td>0</td>\n",
              "      <td>0</td>\n",
              "      <td>599000</td>\n",
              "    </tr>\n",
              "    <tr>\n",
              "      <th>4</th>\n",
              "      <td>2</td>\n",
              "      <td>2.0</td>\n",
              "      <td>1845</td>\n",
              "      <td>1</td>\n",
              "      <td>0</td>\n",
              "      <td>0</td>\n",
              "      <td>0</td>\n",
              "      <td>0</td>\n",
              "      <td>0</td>\n",
              "      <td>0</td>\n",
              "      <td>0</td>\n",
              "      <td>529800</td>\n",
              "    </tr>\n",
              "    <tr>\n",
              "      <th>...</th>\n",
              "      <td>...</td>\n",
              "      <td>...</td>\n",
              "      <td>...</td>\n",
              "      <td>...</td>\n",
              "      <td>...</td>\n",
              "      <td>...</td>\n",
              "      <td>...</td>\n",
              "      <td>...</td>\n",
              "      <td>...</td>\n",
              "      <td>...</td>\n",
              "      <td>...</td>\n",
              "      <td>...</td>\n",
              "    </tr>\n",
              "    <tr>\n",
              "      <th>379</th>\n",
              "      <td>5</td>\n",
              "      <td>2.0</td>\n",
              "      <td>2066</td>\n",
              "      <td>0</td>\n",
              "      <td>0</td>\n",
              "      <td>0</td>\n",
              "      <td>0</td>\n",
              "      <td>0</td>\n",
              "      <td>0</td>\n",
              "      <td>0</td>\n",
              "      <td>1</td>\n",
              "      <td>399900</td>\n",
              "    </tr>\n",
              "    <tr>\n",
              "      <th>380</th>\n",
              "      <td>4</td>\n",
              "      <td>3.5</td>\n",
              "      <td>9536</td>\n",
              "      <td>0</td>\n",
              "      <td>0</td>\n",
              "      <td>0</td>\n",
              "      <td>0</td>\n",
              "      <td>0</td>\n",
              "      <td>0</td>\n",
              "      <td>0</td>\n",
              "      <td>1</td>\n",
              "      <td>460000</td>\n",
              "    </tr>\n",
              "    <tr>\n",
              "      <th>381</th>\n",
              "      <td>3</td>\n",
              "      <td>2.0</td>\n",
              "      <td>2014</td>\n",
              "      <td>0</td>\n",
              "      <td>0</td>\n",
              "      <td>0</td>\n",
              "      <td>0</td>\n",
              "      <td>0</td>\n",
              "      <td>0</td>\n",
              "      <td>0</td>\n",
              "      <td>1</td>\n",
              "      <td>407000</td>\n",
              "    </tr>\n",
              "    <tr>\n",
              "      <th>382</th>\n",
              "      <td>4</td>\n",
              "      <td>3.0</td>\n",
              "      <td>2312</td>\n",
              "      <td>0</td>\n",
              "      <td>0</td>\n",
              "      <td>0</td>\n",
              "      <td>0</td>\n",
              "      <td>0</td>\n",
              "      <td>0</td>\n",
              "      <td>0</td>\n",
              "      <td>1</td>\n",
              "      <td>419000</td>\n",
              "    </tr>\n",
              "    <tr>\n",
              "      <th>383</th>\n",
              "      <td>5</td>\n",
              "      <td>3.0</td>\n",
              "      <td>3796</td>\n",
              "      <td>0</td>\n",
              "      <td>0</td>\n",
              "      <td>0</td>\n",
              "      <td>0</td>\n",
              "      <td>0</td>\n",
              "      <td>0</td>\n",
              "      <td>0</td>\n",
              "      <td>1</td>\n",
              "      <td>615000</td>\n",
              "    </tr>\n",
              "  </tbody>\n",
              "</table>\n",
              "<p>384 rows × 12 columns</p>\n",
              "</div>\n",
              "      <button class=\"colab-df-convert\" onclick=\"convertToInteractive('df-34bb0c02-af3d-4a06-bd84-7c56d8bee648')\"\n",
              "              title=\"Convert this dataframe to an interactive table.\"\n",
              "              style=\"display:none;\">\n",
              "        \n",
              "  <svg xmlns=\"http://www.w3.org/2000/svg\" height=\"24px\"viewBox=\"0 0 24 24\"\n",
              "       width=\"24px\">\n",
              "    <path d=\"M0 0h24v24H0V0z\" fill=\"none\"/>\n",
              "    <path d=\"M18.56 5.44l.94 2.06.94-2.06 2.06-.94-2.06-.94-.94-2.06-.94 2.06-2.06.94zm-11 1L8.5 8.5l.94-2.06 2.06-.94-2.06-.94L8.5 2.5l-.94 2.06-2.06.94zm10 10l.94 2.06.94-2.06 2.06-.94-2.06-.94-.94-2.06-.94 2.06-2.06.94z\"/><path d=\"M17.41 7.96l-1.37-1.37c-.4-.4-.92-.59-1.43-.59-.52 0-1.04.2-1.43.59L10.3 9.45l-7.72 7.72c-.78.78-.78 2.05 0 2.83L4 21.41c.39.39.9.59 1.41.59.51 0 1.02-.2 1.41-.59l7.78-7.78 2.81-2.81c.8-.78.8-2.07 0-2.86zM5.41 20L4 18.59l7.72-7.72 1.47 1.35L5.41 20z\"/>\n",
              "  </svg>\n",
              "      </button>\n",
              "      \n",
              "  <style>\n",
              "    .colab-df-container {\n",
              "      display:flex;\n",
              "      flex-wrap:wrap;\n",
              "      gap: 12px;\n",
              "    }\n",
              "\n",
              "    .colab-df-convert {\n",
              "      background-color: #E8F0FE;\n",
              "      border: none;\n",
              "      border-radius: 50%;\n",
              "      cursor: pointer;\n",
              "      display: none;\n",
              "      fill: #1967D2;\n",
              "      height: 32px;\n",
              "      padding: 0 0 0 0;\n",
              "      width: 32px;\n",
              "    }\n",
              "\n",
              "    .colab-df-convert:hover {\n",
              "      background-color: #E2EBFA;\n",
              "      box-shadow: 0px 1px 2px rgba(60, 64, 67, 0.3), 0px 1px 3px 1px rgba(60, 64, 67, 0.15);\n",
              "      fill: #174EA6;\n",
              "    }\n",
              "\n",
              "    [theme=dark] .colab-df-convert {\n",
              "      background-color: #3B4455;\n",
              "      fill: #D2E3FC;\n",
              "    }\n",
              "\n",
              "    [theme=dark] .colab-df-convert:hover {\n",
              "      background-color: #434B5C;\n",
              "      box-shadow: 0px 1px 3px 1px rgba(0, 0, 0, 0.15);\n",
              "      filter: drop-shadow(0px 1px 2px rgba(0, 0, 0, 0.3));\n",
              "      fill: #FFFFFF;\n",
              "    }\n",
              "  </style>\n",
              "\n",
              "      <script>\n",
              "        const buttonEl =\n",
              "          document.querySelector('#df-34bb0c02-af3d-4a06-bd84-7c56d8bee648 button.colab-df-convert');\n",
              "        buttonEl.style.display =\n",
              "          google.colab.kernel.accessAllowed ? 'block' : 'none';\n",
              "\n",
              "        async function convertToInteractive(key) {\n",
              "          const element = document.querySelector('#df-34bb0c02-af3d-4a06-bd84-7c56d8bee648');\n",
              "          const dataTable =\n",
              "            await google.colab.kernel.invokeFunction('convertToInteractive',\n",
              "                                                     [key], {});\n",
              "          if (!dataTable) return;\n",
              "\n",
              "          const docLinkHtml = 'Like what you see? Visit the ' +\n",
              "            '<a target=\"_blank\" href=https://colab.research.google.com/notebooks/data_table.ipynb>data table notebook</a>'\n",
              "            + ' to learn more about interactive tables.';\n",
              "          element.innerHTML = '';\n",
              "          dataTable['output_type'] = 'display_data';\n",
              "          await google.colab.output.renderOutput(dataTable, element);\n",
              "          const docLink = document.createElement('div');\n",
              "          docLink.innerHTML = docLinkHtml;\n",
              "          element.appendChild(docLink);\n",
              "        }\n",
              "      </script>\n",
              "    </div>\n",
              "  </div>\n",
              "  "
            ]
          },
          "metadata": {},
          "execution_count": 55
        }
      ]
    },
    {
      "cell_type": "code",
      "source": [
        "train_loader=DataLoader(dataset,batch_size=32,shuffle=True)"
      ],
      "metadata": {
        "id": "NvvvxTTe0I_y"
      },
      "execution_count": 56,
      "outputs": []
    },
    {
      "cell_type": "code",
      "source": [
        "itr=iter(train_loader)"
      ],
      "metadata": {
        "id": "jLChIe5V1vKh"
      },
      "execution_count": 57,
      "outputs": []
    },
    {
      "cell_type": "code",
      "source": [
        "x=next(itr)"
      ],
      "metadata": {
        "id": "mcYnt8_T1w6Q"
      },
      "execution_count": 58,
      "outputs": []
    },
    {
      "cell_type": "code",
      "source": [
        "len(x)"
      ],
      "metadata": {
        "id": "Uc2y1YGbJAmY",
        "outputId": "28acfd5e-92d1-4719-e1d1-8ef8a1ec0899",
        "colab": {
          "base_uri": "https://localhost:8080/"
        }
      },
      "execution_count": 59,
      "outputs": [
        {
          "output_type": "execute_result",
          "data": {
            "text/plain": [
              "2"
            ]
          },
          "metadata": {},
          "execution_count": 59
        }
      ]
    },
    {
      "cell_type": "code",
      "source": [
        "x[1].size()"
      ],
      "metadata": {
        "id": "HGDxyk1DQUra",
        "outputId": "5ab448a5-fdd7-4e64-9db5-97a6f7503b24",
        "colab": {
          "base_uri": "https://localhost:8080/"
        }
      },
      "execution_count": 60,
      "outputs": [
        {
          "output_type": "execute_result",
          "data": {
            "text/plain": [
              "torch.Size([32])"
            ]
          },
          "metadata": {},
          "execution_count": 60
        }
      ]
    },
    {
      "cell_type": "code",
      "source": [
        "class Net(nn.Module):\n",
        "  def __init__(self):\n",
        "    super().__init__()\n",
        "    self.relu=nn.ReLU()\n",
        "    self.fc1=nn.Linear(in_features=11,out_features=32)\n",
        "    self.fc2=nn.Linear(in_features=32,out_features=16)\n",
        "    self.fc3=nn.Linear(in_features=16,out_features=1)\n",
        "  def forward(self,x):\n",
        "    x=self.fc1(x)\n",
        "    x=self.relu(x)\n",
        "    x=self.fc2(x)\n",
        "    x=self.relu(x)\n",
        "    x=self.fc3(x)\n",
        "    return x"
      ],
      "metadata": {
        "id": "K6VOQQ1dHxZ-"
      },
      "execution_count": 65,
      "outputs": []
    },
    {
      "cell_type": "code",
      "source": [
        "model=Net()\n",
        "x[0].size()"
      ],
      "metadata": {
        "id": "XDQsBg0oS7r4",
        "outputId": "f53d7d8a-d004-4dd4-bdfd-8ae8c5746f27",
        "colab": {
          "base_uri": "https://localhost:8080/"
        }
      },
      "execution_count": 66,
      "outputs": [
        {
          "output_type": "execute_result",
          "data": {
            "text/plain": [
              "torch.Size([32, 11])"
            ]
          },
          "metadata": {},
          "execution_count": 66
        }
      ]
    },
    {
      "cell_type": "code",
      "source": [
        "from torch.optim import SGD\n",
        "from torch.nn import MSELoss\n"
      ],
      "metadata": {
        "id": "9GNaYMigM1S7"
      },
      "execution_count": 67,
      "outputs": []
    },
    {
      "cell_type": "code",
      "source": [
        "#TODO the loss starts off HUGE why?\n",
        "model=Net()\n",
        "optimizer=SGD(model.parameters(),lr=0.001,momentum=0.9)\n",
        "loss_fn=MSELoss()\n",
        "epochs=100\n",
        "for epoch in range(epochs):\n",
        "  for input,price in train_loader:\n",
        "    output=model(input)\n",
        "    optimizer.zero_grad()\n",
        "    loss=loss_fn(output.squeeze(),price)\n",
        "    loss.backward()\n",
        "    optimizer.step()\n",
        "    \n",
        "  print(loss)\n",
        "  \n",
        "\n"
      ],
      "metadata": {
        "id": "lqu_RAVUM9t7",
        "outputId": "711089f5-e127-4f43-fce2-a49a272a9e5a",
        "colab": {
          "base_uri": "https://localhost:8080/"
        }
      },
      "execution_count": 70,
      "outputs": [
        {
          "output_type": "stream",
          "name": "stdout",
          "text": [
            "tensor(9844.6699, grad_fn=<MseLossBackward0>)\n",
            "tensor(26752.8574, grad_fn=<MseLossBackward0>)\n",
            "tensor(23782.1836, grad_fn=<MseLossBackward0>)\n",
            "tensor(15797.3066, grad_fn=<MseLossBackward0>)\n",
            "tensor(9314.6416, grad_fn=<MseLossBackward0>)\n",
            "tensor(5190.4106, grad_fn=<MseLossBackward0>)\n",
            "tensor(2813.0498, grad_fn=<MseLossBackward0>)\n",
            "tensor(1502.1604, grad_fn=<MseLossBackward0>)\n",
            "tensor(794.1629, grad_fn=<MseLossBackward0>)\n",
            "tensor(419.7673, grad_fn=<MseLossBackward0>)\n",
            "tensor(219.6024, grad_fn=<MseLossBackward0>)\n",
            "tensor(116.1132, grad_fn=<MseLossBackward0>)\n",
            "tensor(60.9112, grad_fn=<MseLossBackward0>)\n",
            "tensor(32.3119, grad_fn=<MseLossBackward0>)\n",
            "tensor(16.8330, grad_fn=<MseLossBackward0>)\n",
            "tensor(8.8459, grad_fn=<MseLossBackward0>)\n",
            "tensor(4.6676, grad_fn=<MseLossBackward0>)\n",
            "tensor(2.4499, grad_fn=<MseLossBackward0>)\n",
            "tensor(1.2700, grad_fn=<MseLossBackward0>)\n",
            "tensor(0.6529, grad_fn=<MseLossBackward0>)\n",
            "tensor(0.3650, grad_fn=<MseLossBackward0>)\n",
            "tensor(0.1974, grad_fn=<MseLossBackward0>)\n",
            "tensor(0.1024, grad_fn=<MseLossBackward0>)\n",
            "tensor(0.0586, grad_fn=<MseLossBackward0>)\n",
            "tensor(0.0343, grad_fn=<MseLossBackward0>)\n",
            "tensor(0.0159, grad_fn=<MseLossBackward0>)\n",
            "tensor(0.0118, grad_fn=<MseLossBackward0>)\n",
            "tensor(0.0096, grad_fn=<MseLossBackward0>)\n",
            "tensor(0.0081, grad_fn=<MseLossBackward0>)\n",
            "tensor(0.0054, grad_fn=<MseLossBackward0>)\n",
            "tensor(0.0027, grad_fn=<MseLossBackward0>)\n",
            "tensor(0.0022, grad_fn=<MseLossBackward0>)\n",
            "tensor(0.0025, grad_fn=<MseLossBackward0>)\n",
            "tensor(0.0038, grad_fn=<MseLossBackward0>)\n",
            "tensor(0.0035, grad_fn=<MseLossBackward0>)\n",
            "tensor(0.0043, grad_fn=<MseLossBackward0>)\n",
            "tensor(0.0035, grad_fn=<MseLossBackward0>)\n",
            "tensor(0.0029, grad_fn=<MseLossBackward0>)\n",
            "tensor(0.0042, grad_fn=<MseLossBackward0>)\n",
            "tensor(0.0025, grad_fn=<MseLossBackward0>)\n",
            "tensor(0.0025, grad_fn=<MseLossBackward0>)\n",
            "tensor(0.0425, grad_fn=<MseLossBackward0>)\n",
            "tensor(0.0053, grad_fn=<MseLossBackward0>)\n",
            "tensor(0.0288, grad_fn=<MseLossBackward0>)\n",
            "tensor(0.0066, grad_fn=<MseLossBackward0>)\n",
            "tensor(0.0035, grad_fn=<MseLossBackward0>)\n",
            "tensor(0.0024, grad_fn=<MseLossBackward0>)\n",
            "tensor(0.0019, grad_fn=<MseLossBackward0>)\n",
            "tensor(0.0039, grad_fn=<MseLossBackward0>)\n",
            "tensor(0.0029, grad_fn=<MseLossBackward0>)\n",
            "tensor(0.0042, grad_fn=<MseLossBackward0>)\n",
            "tensor(0.0025, grad_fn=<MseLossBackward0>)\n",
            "tensor(0.0051, grad_fn=<MseLossBackward0>)\n",
            "tensor(0.0061, grad_fn=<MseLossBackward0>)\n",
            "tensor(0.0041, grad_fn=<MseLossBackward0>)\n",
            "tensor(0.0023, grad_fn=<MseLossBackward0>)\n",
            "tensor(0.0085, grad_fn=<MseLossBackward0>)\n",
            "tensor(0.0034, grad_fn=<MseLossBackward0>)\n",
            "tensor(0.0130, grad_fn=<MseLossBackward0>)\n",
            "tensor(0.0038, grad_fn=<MseLossBackward0>)\n",
            "tensor(0.0032, grad_fn=<MseLossBackward0>)\n",
            "tensor(0.0027, grad_fn=<MseLossBackward0>)\n",
            "tensor(0.0038, grad_fn=<MseLossBackward0>)\n",
            "tensor(0.0014, grad_fn=<MseLossBackward0>)\n",
            "tensor(0.0055, grad_fn=<MseLossBackward0>)\n",
            "tensor(0.0040, grad_fn=<MseLossBackward0>)\n",
            "tensor(0.0020, grad_fn=<MseLossBackward0>)\n",
            "tensor(0.0040, grad_fn=<MseLossBackward0>)\n",
            "tensor(0.0020, grad_fn=<MseLossBackward0>)\n",
            "tensor(0.0417, grad_fn=<MseLossBackward0>)\n",
            "tensor(0.0033, grad_fn=<MseLossBackward0>)\n",
            "tensor(0.0298, grad_fn=<MseLossBackward0>)\n",
            "tensor(0.0142, grad_fn=<MseLossBackward0>)\n",
            "tensor(0.0041, grad_fn=<MseLossBackward0>)\n",
            "tensor(0.0033, grad_fn=<MseLossBackward0>)\n",
            "tensor(0.0033, grad_fn=<MseLossBackward0>)\n",
            "tensor(0.0025, grad_fn=<MseLossBackward0>)\n",
            "tensor(0.0023, grad_fn=<MseLossBackward0>)\n",
            "tensor(0.0048, grad_fn=<MseLossBackward0>)\n",
            "tensor(0.0028, grad_fn=<MseLossBackward0>)\n",
            "tensor(0.0035, grad_fn=<MseLossBackward0>)\n",
            "tensor(0.0027, grad_fn=<MseLossBackward0>)\n",
            "tensor(0.0032, grad_fn=<MseLossBackward0>)\n",
            "tensor(0.0027, grad_fn=<MseLossBackward0>)\n",
            "tensor(0.0291, grad_fn=<MseLossBackward0>)\n",
            "tensor(0.0050, grad_fn=<MseLossBackward0>)\n",
            "tensor(0.0037, grad_fn=<MseLossBackward0>)\n",
            "tensor(0.0050, grad_fn=<MseLossBackward0>)\n",
            "tensor(0.0030, grad_fn=<MseLossBackward0>)\n",
            "tensor(0.0055, grad_fn=<MseLossBackward0>)\n",
            "tensor(0.0284, grad_fn=<MseLossBackward0>)\n",
            "tensor(0.0038, grad_fn=<MseLossBackward0>)\n",
            "tensor(0.0030, grad_fn=<MseLossBackward0>)\n",
            "tensor(0.0024, grad_fn=<MseLossBackward0>)\n",
            "tensor(0.0133, grad_fn=<MseLossBackward0>)\n",
            "tensor(0.0137, grad_fn=<MseLossBackward0>)\n",
            "tensor(0.0042, grad_fn=<MseLossBackward0>)\n",
            "tensor(0.0013, grad_fn=<MseLossBackward0>)\n",
            "tensor(0.0080, grad_fn=<MseLossBackward0>)\n",
            "tensor(0.0044, grad_fn=<MseLossBackward0>)\n"
          ]
        }
      ]
    },
    {
      "cell_type": "code",
      "source": [],
      "metadata": {
        "id": "S35-OITuNlts"
      },
      "execution_count": null,
      "outputs": []
    }
  ]
}