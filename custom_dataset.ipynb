{
  "nbformat": 4,
  "nbformat_minor": 0,
  "metadata": {
    "colab": {
      "provenance": [],
      "authorship_tag": "ABX9TyNiQuO6cBSEzBCukrTP+hRb",
      "include_colab_link": true
    },
    "kernelspec": {
      "name": "python3",
      "display_name": "Python 3"
    },
    "language_info": {
      "name": "python"
    }
  },
  "cells": [
    {
      "cell_type": "markdown",
      "metadata": {
        "id": "view-in-github",
        "colab_type": "text"
      },
      "source": [
        "<a href=\"https://colab.research.google.com/github/hikmatfarhat-ndu/pytorch/blob/main/custom_dataset.ipynb\" target=\"_parent\"><img src=\"https://colab.research.google.com/assets/colab-badge.svg\" alt=\"Open In Colab\"/></a>"
      ]
    },
    {
      "cell_type": "code",
      "execution_count": 102,
      "metadata": {
        "id": "IF1cj4oHQy6F"
      },
      "outputs": [],
      "source": [
        "import torch\n",
        "from torch.utils.data import Dataset,DataLoader\n",
        "import pandas as pd\n",
        "import numpy as np"
      ]
    },
    {
      "cell_type": "code",
      "source": [
        "!git clone https://github.com/emanhamed/Houses-dataset"
      ],
      "metadata": {
        "colab": {
          "base_uri": "https://localhost:8080/"
        },
        "id": "KEZLbxXLRhDQ",
        "outputId": "7fbf757f-47f5-43f9-de42-8f96052a5460"
      },
      "execution_count": 103,
      "outputs": [
        {
          "output_type": "stream",
          "name": "stdout",
          "text": [
            "fatal: destination path 'Houses-dataset' already exists and is not an empty directory.\n"
          ]
        }
      ]
    },
    {
      "cell_type": "code",
      "source": [
        "df=pd.read_csv(\"Houses-dataset/Houses Dataset/HousesInfo.txt\",header=None,delim_whitespace=True,\n",
        "               names=[\"bedrooms\",\"bathrooms\",\"size\",\"zipcode\",\"price\"])"
      ],
      "metadata": {
        "id": "JB3jj_iWR9AZ"
      },
      "execution_count": 104,
      "outputs": []
    },
    {
      "cell_type": "code",
      "source": [
        "def cleanData(df):\n",
        "    # compute the number of entries per zipcode\n",
        "    zipcodes=df['zipcode'].value_counts().keys().tolist()\n",
        "    counts=df['zipcode'].value_counts().tolist()\n",
        "    #discard all zipcodes ocurring less than 20 times\n",
        "    for count,zipcode in zip(counts,zipcodes):\n",
        "      if count<20:\n",
        "        idx=df[df['zipcode']==zipcode].index\n",
        "        df.drop(idx,inplace=True)\n",
        "    return df"
      ],
      "metadata": {
        "id": "O_YDMNrDjKPQ"
      },
      "execution_count": 105,
      "outputs": []
    },
    {
      "cell_type": "code",
      "source": [
        "dataset=cleanData(df)"
      ],
      "metadata": {
        "id": "JEmjuzSwjMJf"
      },
      "execution_count": 106,
      "outputs": []
    },
    {
      "cell_type": "code",
      "source": [
        "dataset.to_csv(\"cleansedDataset.csv\",index=False)"
      ],
      "metadata": {
        "id": "4oL4p_k8lN3g"
      },
      "execution_count": 107,
      "outputs": []
    },
    {
      "cell_type": "code",
      "source": [
        "class CustomDataset(Dataset):\n",
        "  def __init__(self,csvFile,imgDir):\n",
        "    self.data=pd.read_csv(csvFile)\n",
        "    self.zipmax=self.data['zipcode'].max()\n",
        "  def __len__(self):\n",
        "    return len(self.data)\n",
        "\n",
        "  def __getitem__(self,idx):\n",
        "    #\n",
        "    features=self.data.iloc[idx,[0,1,2]].to_numpy()\n",
        "    features=torch.tensor(features)\n",
        "    zip=self.data.iloc[idx,3]\n",
        "    zip=torch.nn.functional.one_hot(torch.tensor(zip),self.zipmax)\n",
        "    features=torch.hstack((features,zip))\n",
        "    return features,self.data.iloc[idx,4]"
      ],
      "metadata": {
        "id": "Uuj8m0exRFgB"
      },
      "execution_count": 108,
      "outputs": []
    },
    {
      "cell_type": "code",
      "source": [
        "dataset=CustomDataset(\"cleansedDataset.csv\",\"images\")"
      ],
      "metadata": {
        "id": "d8sNvU2NCmEI"
      },
      "execution_count": 109,
      "outputs": []
    },
    {
      "cell_type": "code",
      "source": [
        "itr=iter(dataset)\n",
        "x=next(itr)\n",
        "x[0].size()"
      ],
      "metadata": {
        "id": "vwr-h-qeGtzV",
        "colab": {
          "base_uri": "https://localhost:8080/"
        },
        "outputId": "52634ae8-a74d-453c-80d2-3a25974b8a8c"
      },
      "execution_count": 110,
      "outputs": [
        {
          "output_type": "execute_result",
          "data": {
            "text/plain": [
              "torch.Size([94534])"
            ]
          },
          "metadata": {},
          "execution_count": 110
        }
      ]
    },
    {
      "cell_type": "code",
      "source": [],
      "metadata": {
        "id": "NvvvxTTe0I_y"
      },
      "execution_count": null,
      "outputs": []
    }
  ]
}