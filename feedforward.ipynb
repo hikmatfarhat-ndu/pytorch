{
  "nbformat": 4,
  "nbformat_minor": 0,
  "metadata": {
    "colab": {
      "provenance": [],
      "authorship_tag": "ABX9TyPPGPq2fXom7j+kHEzoL4RC",
      "include_colab_link": true
    },
    "kernelspec": {
      "name": "python3",
      "display_name": "Python 3"
    },
    "language_info": {
      "name": "python"
    },
    "accelerator": "GPU",
    "widgets": {
      "application/vnd.jupyter.widget-state+json": {
        "7335aef0aa64440ea6844913f34a7ad4": {
          "model_module": "@jupyter-widgets/controls",
          "model_name": "HBoxModel",
          "model_module_version": "1.5.0",
          "state": {
            "_dom_classes": [],
            "_model_module": "@jupyter-widgets/controls",
            "_model_module_version": "1.5.0",
            "_model_name": "HBoxModel",
            "_view_count": null,
            "_view_module": "@jupyter-widgets/controls",
            "_view_module_version": "1.5.0",
            "_view_name": "HBoxView",
            "box_style": "",
            "children": [
              "IPY_MODEL_197b904c48d648b982bfe38eb3152c3f",
              "IPY_MODEL_4aedcb8deefc4b3ca719d8f3975e3a51",
              "IPY_MODEL_f8a05059617649c188217018facbeba8"
            ],
            "layout": "IPY_MODEL_7d2e651cad784894ae0e3e52331a11d7"
          }
        },
        "197b904c48d648b982bfe38eb3152c3f": {
          "model_module": "@jupyter-widgets/controls",
          "model_name": "HTMLModel",
          "model_module_version": "1.5.0",
          "state": {
            "_dom_classes": [],
            "_model_module": "@jupyter-widgets/controls",
            "_model_module_version": "1.5.0",
            "_model_name": "HTMLModel",
            "_view_count": null,
            "_view_module": "@jupyter-widgets/controls",
            "_view_module_version": "1.5.0",
            "_view_name": "HTMLView",
            "description": "",
            "description_tooltip": null,
            "layout": "IPY_MODEL_351ec2fe461a45e6bd562a1413c9bb78",
            "placeholder": "​",
            "style": "IPY_MODEL_ba61b88b335d45c0bbe8171bd494ac6f",
            "value": "100%"
          }
        },
        "4aedcb8deefc4b3ca719d8f3975e3a51": {
          "model_module": "@jupyter-widgets/controls",
          "model_name": "FloatProgressModel",
          "model_module_version": "1.5.0",
          "state": {
            "_dom_classes": [],
            "_model_module": "@jupyter-widgets/controls",
            "_model_module_version": "1.5.0",
            "_model_name": "FloatProgressModel",
            "_view_count": null,
            "_view_module": "@jupyter-widgets/controls",
            "_view_module_version": "1.5.0",
            "_view_name": "ProgressView",
            "bar_style": "success",
            "description": "",
            "description_tooltip": null,
            "layout": "IPY_MODEL_4e60ed97c7e74006970af8722f5311ca",
            "max": 170498071,
            "min": 0,
            "orientation": "horizontal",
            "style": "IPY_MODEL_4e3b48b99ec3494490c702ca64c2c96d",
            "value": 170498071
          }
        },
        "f8a05059617649c188217018facbeba8": {
          "model_module": "@jupyter-widgets/controls",
          "model_name": "HTMLModel",
          "model_module_version": "1.5.0",
          "state": {
            "_dom_classes": [],
            "_model_module": "@jupyter-widgets/controls",
            "_model_module_version": "1.5.0",
            "_model_name": "HTMLModel",
            "_view_count": null,
            "_view_module": "@jupyter-widgets/controls",
            "_view_module_version": "1.5.0",
            "_view_name": "HTMLView",
            "description": "",
            "description_tooltip": null,
            "layout": "IPY_MODEL_c0e1d24dfafa47c2b2bbfeee91cf1671",
            "placeholder": "​",
            "style": "IPY_MODEL_af3b73aaa7e743b993f5d53d0b5e4d58",
            "value": " 170498071/170498071 [00:13&lt;00:00, 13606234.76it/s]"
          }
        },
        "7d2e651cad784894ae0e3e52331a11d7": {
          "model_module": "@jupyter-widgets/base",
          "model_name": "LayoutModel",
          "model_module_version": "1.2.0",
          "state": {
            "_model_module": "@jupyter-widgets/base",
            "_model_module_version": "1.2.0",
            "_model_name": "LayoutModel",
            "_view_count": null,
            "_view_module": "@jupyter-widgets/base",
            "_view_module_version": "1.2.0",
            "_view_name": "LayoutView",
            "align_content": null,
            "align_items": null,
            "align_self": null,
            "border": null,
            "bottom": null,
            "display": null,
            "flex": null,
            "flex_flow": null,
            "grid_area": null,
            "grid_auto_columns": null,
            "grid_auto_flow": null,
            "grid_auto_rows": null,
            "grid_column": null,
            "grid_gap": null,
            "grid_row": null,
            "grid_template_areas": null,
            "grid_template_columns": null,
            "grid_template_rows": null,
            "height": null,
            "justify_content": null,
            "justify_items": null,
            "left": null,
            "margin": null,
            "max_height": null,
            "max_width": null,
            "min_height": null,
            "min_width": null,
            "object_fit": null,
            "object_position": null,
            "order": null,
            "overflow": null,
            "overflow_x": null,
            "overflow_y": null,
            "padding": null,
            "right": null,
            "top": null,
            "visibility": null,
            "width": null
          }
        },
        "351ec2fe461a45e6bd562a1413c9bb78": {
          "model_module": "@jupyter-widgets/base",
          "model_name": "LayoutModel",
          "model_module_version": "1.2.0",
          "state": {
            "_model_module": "@jupyter-widgets/base",
            "_model_module_version": "1.2.0",
            "_model_name": "LayoutModel",
            "_view_count": null,
            "_view_module": "@jupyter-widgets/base",
            "_view_module_version": "1.2.0",
            "_view_name": "LayoutView",
            "align_content": null,
            "align_items": null,
            "align_self": null,
            "border": null,
            "bottom": null,
            "display": null,
            "flex": null,
            "flex_flow": null,
            "grid_area": null,
            "grid_auto_columns": null,
            "grid_auto_flow": null,
            "grid_auto_rows": null,
            "grid_column": null,
            "grid_gap": null,
            "grid_row": null,
            "grid_template_areas": null,
            "grid_template_columns": null,
            "grid_template_rows": null,
            "height": null,
            "justify_content": null,
            "justify_items": null,
            "left": null,
            "margin": null,
            "max_height": null,
            "max_width": null,
            "min_height": null,
            "min_width": null,
            "object_fit": null,
            "object_position": null,
            "order": null,
            "overflow": null,
            "overflow_x": null,
            "overflow_y": null,
            "padding": null,
            "right": null,
            "top": null,
            "visibility": null,
            "width": null
          }
        },
        "ba61b88b335d45c0bbe8171bd494ac6f": {
          "model_module": "@jupyter-widgets/controls",
          "model_name": "DescriptionStyleModel",
          "model_module_version": "1.5.0",
          "state": {
            "_model_module": "@jupyter-widgets/controls",
            "_model_module_version": "1.5.0",
            "_model_name": "DescriptionStyleModel",
            "_view_count": null,
            "_view_module": "@jupyter-widgets/base",
            "_view_module_version": "1.2.0",
            "_view_name": "StyleView",
            "description_width": ""
          }
        },
        "4e60ed97c7e74006970af8722f5311ca": {
          "model_module": "@jupyter-widgets/base",
          "model_name": "LayoutModel",
          "model_module_version": "1.2.0",
          "state": {
            "_model_module": "@jupyter-widgets/base",
            "_model_module_version": "1.2.0",
            "_model_name": "LayoutModel",
            "_view_count": null,
            "_view_module": "@jupyter-widgets/base",
            "_view_module_version": "1.2.0",
            "_view_name": "LayoutView",
            "align_content": null,
            "align_items": null,
            "align_self": null,
            "border": null,
            "bottom": null,
            "display": null,
            "flex": null,
            "flex_flow": null,
            "grid_area": null,
            "grid_auto_columns": null,
            "grid_auto_flow": null,
            "grid_auto_rows": null,
            "grid_column": null,
            "grid_gap": null,
            "grid_row": null,
            "grid_template_areas": null,
            "grid_template_columns": null,
            "grid_template_rows": null,
            "height": null,
            "justify_content": null,
            "justify_items": null,
            "left": null,
            "margin": null,
            "max_height": null,
            "max_width": null,
            "min_height": null,
            "min_width": null,
            "object_fit": null,
            "object_position": null,
            "order": null,
            "overflow": null,
            "overflow_x": null,
            "overflow_y": null,
            "padding": null,
            "right": null,
            "top": null,
            "visibility": null,
            "width": null
          }
        },
        "4e3b48b99ec3494490c702ca64c2c96d": {
          "model_module": "@jupyter-widgets/controls",
          "model_name": "ProgressStyleModel",
          "model_module_version": "1.5.0",
          "state": {
            "_model_module": "@jupyter-widgets/controls",
            "_model_module_version": "1.5.0",
            "_model_name": "ProgressStyleModel",
            "_view_count": null,
            "_view_module": "@jupyter-widgets/base",
            "_view_module_version": "1.2.0",
            "_view_name": "StyleView",
            "bar_color": null,
            "description_width": ""
          }
        },
        "c0e1d24dfafa47c2b2bbfeee91cf1671": {
          "model_module": "@jupyter-widgets/base",
          "model_name": "LayoutModel",
          "model_module_version": "1.2.0",
          "state": {
            "_model_module": "@jupyter-widgets/base",
            "_model_module_version": "1.2.0",
            "_model_name": "LayoutModel",
            "_view_count": null,
            "_view_module": "@jupyter-widgets/base",
            "_view_module_version": "1.2.0",
            "_view_name": "LayoutView",
            "align_content": null,
            "align_items": null,
            "align_self": null,
            "border": null,
            "bottom": null,
            "display": null,
            "flex": null,
            "flex_flow": null,
            "grid_area": null,
            "grid_auto_columns": null,
            "grid_auto_flow": null,
            "grid_auto_rows": null,
            "grid_column": null,
            "grid_gap": null,
            "grid_row": null,
            "grid_template_areas": null,
            "grid_template_columns": null,
            "grid_template_rows": null,
            "height": null,
            "justify_content": null,
            "justify_items": null,
            "left": null,
            "margin": null,
            "max_height": null,
            "max_width": null,
            "min_height": null,
            "min_width": null,
            "object_fit": null,
            "object_position": null,
            "order": null,
            "overflow": null,
            "overflow_x": null,
            "overflow_y": null,
            "padding": null,
            "right": null,
            "top": null,
            "visibility": null,
            "width": null
          }
        },
        "af3b73aaa7e743b993f5d53d0b5e4d58": {
          "model_module": "@jupyter-widgets/controls",
          "model_name": "DescriptionStyleModel",
          "model_module_version": "1.5.0",
          "state": {
            "_model_module": "@jupyter-widgets/controls",
            "_model_module_version": "1.5.0",
            "_model_name": "DescriptionStyleModel",
            "_view_count": null,
            "_view_module": "@jupyter-widgets/base",
            "_view_module_version": "1.2.0",
            "_view_name": "StyleView",
            "description_width": ""
          }
        }
      }
    }
  },
  "cells": [
    {
      "cell_type": "markdown",
      "metadata": {
        "id": "view-in-github",
        "colab_type": "text"
      },
      "source": [
        "<a href=\"https://colab.research.google.com/github/hikmatfarhat-ndu/pytorch/blob/main/feedforward.ipynb\" target=\"_parent\"><img src=\"https://colab.research.google.com/assets/colab-badge.svg\" alt=\"Open In Colab\"/></a>"
      ]
    },
    {
      "cell_type": "code",
      "execution_count": 1,
      "metadata": {
        "id": "Qtgm8mLWE9EQ"
      },
      "outputs": [],
      "source": [
        "import torch\n",
        "import torchvision as vision\n",
        "import torchvision.transforms as transforms\n",
        "import torch.nn as nn\n",
        "import torch.optim as optim"
      ]
    },
    {
      "cell_type": "code",
      "source": [
        "\n",
        "\n",
        "#Equivalent to\n",
        "#flatten=transforms.Lambda(lambda x:torch.flatten(x,start_dim=0))"
      ],
      "metadata": {
        "id": "yUAt1LRnbgH6"
      },
      "execution_count": 2,
      "outputs": []
    },
    {
      "cell_type": "code",
      "source": [
        "flatten=transforms.Lambda(lambda x:torch.flatten(x))\n",
        "#since the input has 3 channels we need 3 values for mean and 3 for stdev\n",
        "transform=transforms.Compose([transforms.ToTensor(),transforms.Normalize((0.5,0.5,0.5),(0.5,0.5,0.5)),flatten])\n",
        "#mnist_train=vision.datasets.MNIST(\".\",download=True,train=True,transform=transform)\n",
        "#mnist_test=vision.datasets.MNIST(\".\",download=True,train=False,transform=transform)\n",
        "#train_loader=torch.utils.data.DataLoader(mnist_train,batch_size=512,shuffle=True)\n",
        "#test_loader=torch.utils.data.DataLoader(mnist_test,batch_size=512,shuffle=True)\n",
        "cifar10_train=vision.datasets.CIFAR10(\".\",download=True,train=True,transform=transform)\n",
        "cifar10_test=vision.datasets.CIFAR10(\".\",download=True,train=False,transform=transform)\n",
        "train_loader=torch.utils.data.DataLoader(cifar10_train,batch_size=64,shuffle=True)\n",
        "test_loader=torch.utils.data.DataLoader(cifar10_test,batch_size=64,shuffle=True)"
      ],
      "metadata": {
        "id": "PiwLwj6zF0uQ",
        "colab": {
          "base_uri": "https://localhost:8080/",
          "height": 101,
          "referenced_widgets": [
            "7335aef0aa64440ea6844913f34a7ad4",
            "197b904c48d648b982bfe38eb3152c3f",
            "4aedcb8deefc4b3ca719d8f3975e3a51",
            "f8a05059617649c188217018facbeba8",
            "7d2e651cad784894ae0e3e52331a11d7",
            "351ec2fe461a45e6bd562a1413c9bb78",
            "ba61b88b335d45c0bbe8171bd494ac6f",
            "4e60ed97c7e74006970af8722f5311ca",
            "4e3b48b99ec3494490c702ca64c2c96d",
            "c0e1d24dfafa47c2b2bbfeee91cf1671",
            "af3b73aaa7e743b993f5d53d0b5e4d58"
          ]
        },
        "outputId": "7c75d642-d93d-43cb-a078-789cf8d670d9"
      },
      "execution_count": 3,
      "outputs": [
        {
          "output_type": "stream",
          "name": "stdout",
          "text": [
            "Downloading https://www.cs.toronto.edu/~kriz/cifar-10-python.tar.gz to ./cifar-10-python.tar.gz\n"
          ]
        },
        {
          "output_type": "display_data",
          "data": {
            "text/plain": [
              "  0%|          | 0/170498071 [00:00<?, ?it/s]"
            ],
            "application/vnd.jupyter.widget-view+json": {
              "version_major": 2,
              "version_minor": 0,
              "model_id": "7335aef0aa64440ea6844913f34a7ad4"
            }
          },
          "metadata": {}
        },
        {
          "output_type": "stream",
          "name": "stdout",
          "text": [
            "Extracting ./cifar-10-python.tar.gz to .\n",
            "Files already downloaded and verified\n"
          ]
        }
      ]
    },
    {
      "cell_type": "code",
      "source": [
        "input_size=32*32*3\n",
        "output_size=10\n",
        "hidden_size1=128\n",
        "hidden_size2=64\n",
        "class Net(nn.Module):\n",
        "  def __init__(self):\n",
        "    super(Net, self).__init__()\n",
        "    self.layer1=nn.Linear(input_size,hidden_size1)\n",
        "    self.layer2=nn.Linear(hidden_size1,hidden_size2)\n",
        "    self.layer3=nn.Linear(hidden_size2,output_size)\n",
        "    self.relu=nn.Sigmoid()\n",
        "  def forward(self,x):\n",
        "    x=self.layer1(x)\n",
        "    x=self.relu(x)\n",
        "    x=self.layer2(x)\n",
        "    x=self.relu(x)\n",
        "    x=self.layer3(x)\n",
        "\n",
        "    return x\n",
        "\n",
        "model=Net().cuda()\n"
      ],
      "metadata": {
        "id": "Jmnb0OTce-By"
      },
      "execution_count": 4,
      "outputs": []
    },
    {
      "cell_type": "code",
      "source": [
        "import torch.optim as optim\n",
        "epochs=10\n",
        "optimizer=optim.SGD(model.parameters(),lr=0.01)\n",
        "loss_fn=nn.CrossEntropyLoss()\n",
        "running_loss=0.0\n",
        "for epoch in range(epochs):\n",
        "  for i,data in enumerate(train_loader):\n",
        "    optimizer.zero_grad()\n",
        "    img,label=data\n",
        "    img,label=img.cuda(),label.cuda()\n",
        "  \n",
        "    output=model(img)\n",
        "    loss=loss_fn(output,label)\n",
        "  \n",
        "    loss.backward()\n",
        "    optimizer.step()\n",
        "    running_loss=0.99*running_loss+0.01*loss.item()\n",
        "  print(running_loss)\n",
        "#  img=torch.flatten(img,start_dim=1)\n"
      ],
      "metadata": {
        "colab": {
          "base_uri": "https://localhost:8080/"
        },
        "id": "M1eQrkPkMEwR",
        "outputId": "79dcbc11-22b6-4ec5-8a69-9ec5991a2355"
      },
      "execution_count": 8,
      "outputs": [
        {
          "output_type": "stream",
          "name": "stdout",
          "text": [
            "1.9041827024799893\n",
            "1.901585853311849\n",
            "1.881568329190928\n",
            "1.8768647609872688\n",
            "1.868468963507351\n",
            "1.8508025253272589\n",
            "1.830192177356067\n",
            "1.8310783336315406\n",
            "1.8245061584497302\n",
            "1.8106016664797309\n"
          ]
        }
      ]
    },
    {
      "cell_type": "code",
      "source": [
        "total=0\n",
        "correct=0\n",
        "for data in test_loader:\n",
        "  imgs,labels=data\n",
        "  imgs=imgs.cuda()\n",
        "  labels=labels.cuda()\n",
        "  outputs=model(imgs)\n",
        "  # the second return value is the index of the max i.e. argmax\n",
        "  _,predicted=torch.max(outputs.data,1)\n",
        "  total+=labels.size(0)\n",
        "  correct+=(predicted==labels).sum()\n"
      ],
      "metadata": {
        "id": "4TP4unNeTd5K"
      },
      "execution_count": 9,
      "outputs": []
    },
    {
      "cell_type": "code",
      "source": [
        "print((correct/total).item())"
      ],
      "metadata": {
        "colab": {
          "base_uri": "https://localhost:8080/"
        },
        "id": "GGNI4K9YULzs",
        "outputId": "31d83762-fd13-4d12-e3a5-9a743768a00b"
      },
      "execution_count": 10,
      "outputs": [
        {
          "output_type": "stream",
          "name": "stdout",
          "text": [
            "0.35009998083114624\n"
          ]
        }
      ]
    },
    {
      "cell_type": "code",
      "source": [],
      "metadata": {
        "id": "YdoOmfpCwKFY"
      },
      "execution_count": 7,
      "outputs": []
    }
  ]
}