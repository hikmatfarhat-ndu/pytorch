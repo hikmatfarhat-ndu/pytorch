{
  "nbformat": 4,
  "nbformat_minor": 0,
  "metadata": {
    "colab": {
      "provenance": [],
      "authorship_tag": "ABX9TyOAvuWuR3qCfHSh3xbGs5L9",
      "include_colab_link": true
    },
    "kernelspec": {
      "name": "python3",
      "display_name": "Python 3"
    },
    "language_info": {
      "name": "python"
    },
    "accelerator": "GPU"
  },
  "cells": [
    {
      "cell_type": "markdown",
      "metadata": {
        "id": "view-in-github",
        "colab_type": "text"
      },
      "source": [
        "<a href=\"https://colab.research.google.com/github/hikmatfarhat-ndu/pytorch/blob/main/feedforward.ipynb\" target=\"_parent\"><img src=\"https://colab.research.google.com/assets/colab-badge.svg\" alt=\"Open In Colab\"/></a>"
      ]
    },
    {
      "cell_type": "markdown",
      "source": [
        "# What you will learn\n",
        "\n",
        "1. Dataset transforms \n",
        "1. Batch data and stochastic gradient descent\n",
        "1. Using Pytorch predefined layers \n",
        "1. Multilayer full connected networks\n",
        "1. ReLU activation function\n",
        "1. Using the GPU\n",
        "1. Visualizating the NN"
      ],
      "metadata": {
        "id": "Q5VR4wajF8xR"
      }
    },
    {
      "cell_type": "code",
      "execution_count": 27,
      "metadata": {
        "id": "Qtgm8mLWE9EQ"
      },
      "outputs": [],
      "source": [
        "import torch\n",
        "import torchvision as vision\n",
        "import torchvision.transforms as transforms\n",
        "import torch.nn as nn\n",
        "import torch.optim as optim"
      ]
    },
    {
      "cell_type": "markdown",
      "source": [
        "## The data\n",
        "\n",
        "The data in this notebook is MNIST. It is a collection of handwritten digits along with their label. Our task is to build an network that reconigzes handwritten digit.\n",
        "As we did in the previous notebook, we need to perform some transformation on the dataset. But rather than perform it manually as we did before we will be using transform classes defined in ```torchvision.transforms```"
      ],
      "metadata": {
        "id": "NQG26yK4Ib8-"
      }
    },
    {
      "cell_type": "code",
      "source": [
        "mnist_train=vision.datasets.MNIST(\".\",download=True,train=True)\n",
        "mnist_test=vision.datasets.MNIST(\".\",download=True,train=False)"
      ],
      "metadata": {
        "id": "yUAt1LRnbgH6"
      },
      "execution_count": 28,
      "outputs": []
    },
    {
      "cell_type": "code",
      "source": [
        "itr=iter(mnist_train)\n",
        "img,label=next(itr)\n",
        "print(\"img type is {} and label type is {} \".format(type(img),type(label)))"
      ],
      "metadata": {
        "id": "UMbBAQAMHl6J",
        "outputId": "a39f2ad4-2c11-466c-97bb-4cb0e5dc9dd6",
        "colab": {
          "base_uri": "https://localhost:8080/"
        }
      },
      "execution_count": 29,
      "outputs": [
        {
          "output_type": "stream",
          "name": "stdout",
          "text": [
            "img type is <class 'PIL.Image.Image'> and label type is <class 'int'> \n"
          ]
        }
      ]
    },
    {
      "cell_type": "markdown",
      "source": [
        "### Inspecting the data\n"
      ],
      "metadata": {
        "id": "59yhIRMmJ-8F"
      }
    },
    {
      "cell_type": "code",
      "source": [
        "import matplotlib.pyplot as plt\n",
        "fig=plt.figure()\n",
        "fig.tight_layout()\n",
        "plt.subplots_adjust( wspace=1, hspace=1)\n",
        "for i in range(20):\n",
        "            img,label=next(itr)\n",
        "            t=fig.add_subplot(4,5,i+1)\n",
        "            # set the title of the image equal to its label\n",
        "            t.set_title(str(label))\n",
        "            t.axes.get_xaxis().set_visible(False)\n",
        "            t.axes.get_yaxis().set_visible(False)\n",
        "            plt.imshow(img,cmap='gray_r')"
      ],
      "metadata": {
        "id": "yRU53CheKBeh",
        "outputId": "57647536-3386-46cc-8772-4dc9bfac3dd0",
        "colab": {
          "base_uri": "https://localhost:8080/",
          "height": 268
        }
      },
      "execution_count": 30,
      "outputs": [
        {
          "output_type": "display_data",
          "data": {
            "text/plain": [
              "<Figure size 432x288 with 20 Axes>"
            ],
            "image/png": "[encoded data removed]"
          },
          "metadata": {
            "needs_background": "light"
          }
        }
      ]
    },
    {
      "cell_type": "markdown",
      "source": [
        "### Transforming the data\n",
        "As we saw the imgages are in PIL format so we need to transform them to Pytorch tensors. Also, it is good practice to normalize the data. Now, instead of modifying the data manually as we did previously, we can use transforms from ```torchvision.transforms``` package. Furthermore, the transformations can be **composed** using the ```torchvision.transforms.Compose```"
      ],
      "metadata": {
        "id": "hyeLkfGaHBiS"
      }
    },
    {
      "cell_type": "code",
      "source": [
        "#flatten=transforms.Lambda(lambda x:torch.flatten(x))\n",
        "#since the input has 1 channel we need 1 value for mean and 1 for stdev\n",
        "transform=transforms.Compose([transforms.ToTensor(),transforms.Normalize(0.5,0.5)])\n",
        "mnist_train=vision.datasets.MNIST(\".\",download=False,train=True,transform=transform)\n",
        "mnist_test=vision.datasets.MNIST(\".\",download=False,train=False,transform=transform)\n"
      ],
      "metadata": {
        "id": "PiwLwj6zF0uQ"
      },
      "execution_count": 31,
      "outputs": []
    },
    {
      "cell_type": "markdown",
      "source": [
        "## Batches and Stochastic Gradient Descent\n",
        "\n",
        "Previously we have use the **entire** dataset to compute the gradients. When the model is complicated and dataset is large this becomes an expensive operation. By contrast, stochastic gradient descent _approximates_ the gradient by using a small sample of the data, called batches.\n",
        "For example, if the size of the dataset is $n$ and the batch size is $b$ then SGD will perform $n/b$ iterations instead of a single one, which leads to faster convergence. To avoid overfitting, the batches are selected randomly in each epoch"
      ],
      "metadata": {
        "id": "197Si0l8rc0i"
      }
    },
    {
      "cell_type": "code",
      "source": [
        "train_loader=torch.utils.data.DataLoader(mnist_train,batch_size=64,shuffle=True)\n",
        "test_loader=torch.utils.data.DataLoader(mnist_test,batch_size=64,shuffle=False)"
      ],
      "metadata": {
        "id": "-wft5JF9rG3c"
      },
      "execution_count": 32,
      "outputs": []
    },
    {
      "cell_type": "markdown",
      "source": [
        "## Pytorch model\n",
        "\n",
        "The model we use in this notebook is a (not very) deep one, consisting of 3 **fully connected** layers. Also, instead of the sigmoid we use the ReLU activation function."
      ],
      "metadata": {
        "id": "GkMrzWfm0qhv"
      }
    },
    {
      "cell_type": "code",
      "source": [
        "input_size=28*28\n",
        "output_size=10\n",
        "hidden_size1=128\n",
        "hidden_size2=64\n",
        "class Net(nn.Module):\n",
        "  def __init__(self):\n",
        "    super(Net, self).__init__()\n",
        "    self.flatten=nn.Flatten()\n",
        "    self.layer1=nn.Linear(input_size,hidden_size1)\n",
        "    self.layer2=nn.Linear(hidden_size1,hidden_size2)\n",
        "    self.layer3=nn.Linear(hidden_size2,output_size)\n",
        "    self.relu=nn.ReLU()\n",
        "  def forward(self,x):\n",
        "    x=self.flatten(x)\n",
        "    x=self.layer1(x)\n",
        "    x=self.relu(x)\n",
        "    x=self.layer2(x)\n",
        "    x=self.relu(x)\n",
        "    x=self.layer3(x)\n",
        "\n",
        "    return x\n",
        "\n"
      ],
      "metadata": {
        "id": "Jmnb0OTce-By"
      },
      "execution_count": 33,
      "outputs": []
    },
    {
      "cell_type": "code",
      "source": [
        "model=Net()\n",
        "print(model)"
      ],
      "metadata": {
        "id": "cfrP9iEF6vAd",
        "outputId": "9d6ac526-fa3b-4754-fad2-2dad18804859",
        "colab": {
          "base_uri": "https://localhost:8080/"
        }
      },
      "execution_count": 34,
      "outputs": [
        {
          "output_type": "stream",
          "name": "stdout",
          "text": [
            "Net(\n",
            "  (flatten): Flatten(start_dim=1, end_dim=-1)\n",
            "  (layer1): Linear(in_features=784, out_features=128, bias=True)\n",
            "  (layer2): Linear(in_features=128, out_features=64, bias=True)\n",
            "  (layer3): Linear(in_features=64, out_features=10, bias=True)\n",
            "  (relu): ReLU()\n",
            ")\n"
          ]
        }
      ]
    },
    {
      "cell_type": "code",
      "source": [
        "!pip install torchviz"
      ],
      "metadata": {
        "id": "UMGlNHsO-aiw",
        "outputId": "98264c8d-5d81-4118-a950-445075e7f404",
        "colab": {
          "base_uri": "https://localhost:8080/"
        }
      },
      "execution_count": 35,
      "outputs": [
        {
          "output_type": "stream",
          "name": "stdout",
          "text": [
            "Looking in indexes: https://pypi.org/simple, https://us-python.pkg.dev/colab-wheels/public/simple/\n",
            "Requirement already satisfied: torchviz in /usr/local/lib/python3.7/dist-packages (0.0.2)\n",
            "Requirement already satisfied: graphviz in /usr/local/lib/python3.7/dist-packages (from torchviz) (0.10.1)\n",
            "Requirement already satisfied: torch in /usr/local/lib/python3.7/dist-packages (from torchviz) (1.12.1+cu113)\n",
            "Requirement already satisfied: typing-extensions in /usr/local/lib/python3.7/dist-packages (from torch->torchviz) (4.1.1)\n"
          ]
        }
      ]
    },
    {
      "cell_type": "code",
      "source": [
        "itr=iter(train_loader)\n",
        "img,label=next(itr)\n",
        "output=model(img)"
      ],
      "metadata": {
        "id": "kP8wvW16-mhx"
      },
      "execution_count": 36,
      "outputs": []
    },
    {
      "cell_type": "code",
      "source": [
        "from torchviz import make_dot\n",
        "make_dot(output,show_attrs=False,show_saved=False)"
      ],
      "metadata": {
        "id": "wu09IdnP_OMB",
        "outputId": "b57bddc8-31c9-4dbe-bb7a-3ad72a1c6dae",
        "colab": {
          "base_uri": "https://localhost:8080/",
          "height": 755
        }
      },
      "execution_count": 41,
      "outputs": [
        {
          "output_type": "execute_result",
          "data": {
            "text/plain": [
              "<graphviz.dot.Digraph at 0x7f5510cb53d0>"
            ],
            "image/svg+xml": "<?xml version=\"1.0\" encoding=\"UTF-8\" standalone=\"no\"?>\n<!DOCTYPE svg PUBLIC \"-//W3C//DTD SVG 1.1//EN\"\n \"http://www.w3.org/Graphics/SVG/1.1/DTD/svg11.dtd\">\n<!-- Generated by graphviz version 2.40.1 (20161225.0304)\n -->\n<!-- Title: %3 Pages: 1 -->\n<svg width=\"406pt\" height=\"551pt\"\n viewBox=\"0.00 0.00 406.00 551.00\" xmlns=\"http://www.w3.org/2000/svg\" xmlns:xlink=\"http://www.w3.org/1999/xlink\">\n<g id=\"graph0\" class=\"graph\" transform=\"scale(1 1) rotate(0) translate(4 547)\">\n<title>%3</title>\n<polygon fill=\"#ffffff\" stroke=\"transparent\" points=\"-4,4 -4,-547 402,-547 402,4 -4,4\"/>\n<!-- 140003504836432 -->\n<g id=\"node1\" class=\"node\">\n<title>140003504836432</title>\n<polygon fill=\"#caff70\" stroke=\"#000000\" points=\"245,-31 174,-31 174,0 245,0 245,-31\"/>\n<text text-anchor=\"middle\" x=\"209.5\" y=\"-7\" font-family=\"monospace\" font-size=\"10.00\" fill=\"#000000\"> (64, 10)</text>\n</g>\n<!-- 140003330707920 -->\n<g id=\"node2\" class=\"node\">\n<title>140003330707920</title>\n<polygon fill=\"#d3d3d3\" stroke=\"#000000\" points=\"260,-86 159,-86 159,-67 260,-67 260,-86\"/>\n<text text-anchor=\"middle\" x=\"209.5\" y=\"-74\" font-family=\"monospace\" font-size=\"10.00\" fill=\"#000000\">AddmmBackward0</text>\n</g>\n<!-- 140003330707920&#45;&gt;140003504836432 -->\n<g id=\"edge20\" class=\"edge\">\n<title>140003330707920&#45;&gt;140003504836432</title>\n<path fill=\"none\" stroke=\"#000000\" d=\"M209.5,-66.9688C209.5,-60.1289 209.5,-50.5621 209.5,-41.5298\"/>\n<polygon fill=\"#000000\" stroke=\"#000000\" points=\"213.0001,-41.3678 209.5,-31.3678 206.0001,-41.3678 213.0001,-41.3678\"/>\n</g>\n<!-- 140003330708304 -->\n<g id=\"node3\" class=\"node\">\n<title>140003330708304</title>\n<polygon fill=\"#d3d3d3\" stroke=\"#000000\" points=\"144,-141 43,-141 43,-122 144,-122 144,-141\"/>\n<text text-anchor=\"middle\" x=\"93.5\" y=\"-129\" font-family=\"monospace\" font-size=\"10.00\" fill=\"#000000\">AccumulateGrad</text>\n</g>\n<!-- 140003330708304&#45;&gt;140003330707920 -->\n<g id=\"edge1\" class=\"edge\">\n<title>140003330708304&#45;&gt;140003330707920</title>\n<path fill=\"none\" stroke=\"#000000\" d=\"M113.7057,-121.9197C131.9737,-113.2581 159.1018,-100.3957 179.8304,-90.5675\"/>\n<polygon fill=\"#000000\" stroke=\"#000000\" points=\"181.6004,-93.6018 189.1367,-86.155 178.6014,-87.2768 181.6004,-93.6018\"/>\n</g>\n<!-- 140003337197232 -->\n<g id=\"node4\" class=\"node\">\n<title>140003337197232</title>\n<polygon fill=\"#add8e6\" stroke=\"#000000\" points=\"120.5,-208 66.5,-208 66.5,-177 120.5,-177 120.5,-208\"/>\n<text text-anchor=\"middle\" x=\"93.5\" y=\"-184\" font-family=\"monospace\" font-size=\"10.00\" fill=\"#000000\"> (10)</text>\n</g>\n<!-- 140003337197232&#45;&gt;140003330708304 -->\n<g id=\"edge2\" class=\"edge\">\n<title>140003337197232&#45;&gt;140003330708304</title>\n<path fill=\"none\" stroke=\"#000000\" d=\"M93.5,-176.791C93.5,-169.0249 93.5,-159.5706 93.5,-151.3129\"/>\n<polygon fill=\"#000000\" stroke=\"#000000\" points=\"97.0001,-151.0647 93.5,-141.0648 90.0001,-151.0648 97.0001,-151.0647\"/>\n</g>\n<!-- 140003330708560 -->\n<g id=\"node5\" class=\"node\">\n<title>140003330708560</title>\n<polygon fill=\"#d3d3d3\" stroke=\"#000000\" points=\"257,-141 162,-141 162,-122 257,-122 257,-141\"/>\n<text text-anchor=\"middle\" x=\"209.5\" y=\"-129\" font-family=\"monospace\" font-size=\"10.00\" fill=\"#000000\">ReluBackward0</text>\n</g>\n<!-- 140003330708560&#45;&gt;140003330707920 -->\n<g id=\"edge3\" class=\"edge\">\n<title>140003330708560&#45;&gt;140003330707920</title>\n<path fill=\"none\" stroke=\"#000000\" d=\"M209.5,-121.9197C209.5,-114.9083 209.5,-105.1442 209.5,-96.4652\"/>\n<polygon fill=\"#000000\" stroke=\"#000000\" points=\"213.0001,-96.3408 209.5,-86.3408 206.0001,-96.3409 213.0001,-96.3408\"/>\n</g>\n<!-- 140003330710480 -->\n<g id=\"node6\" class=\"node\">\n<title>140003330710480</title>\n<polygon fill=\"#d3d3d3\" stroke=\"#000000\" points=\"255,-202 154,-202 154,-183 255,-183 255,-202\"/>\n<text text-anchor=\"middle\" x=\"204.5\" y=\"-190\" font-family=\"monospace\" font-size=\"10.00\" fill=\"#000000\">AddmmBackward0</text>\n</g>\n<!-- 140003330710480&#45;&gt;140003330708560 -->\n<g id=\"edge4\" class=\"edge\">\n<title>140003330710480&#45;&gt;140003330708560</title>\n<path fill=\"none\" stroke=\"#000000\" d=\"M205.2813,-182.9688C205.9743,-174.5131 207.009,-161.8901 207.8802,-151.2615\"/>\n<polygon fill=\"#000000\" stroke=\"#000000\" points=\"211.379,-151.4182 208.7077,-141.1656 204.4024,-150.8462 211.379,-151.4182\"/>\n</g>\n<!-- 140003330709200 -->\n<g id=\"node7\" class=\"node\">\n<title>140003330709200</title>\n<polygon fill=\"#d3d3d3\" stroke=\"#000000\" points=\"101,-269 0,-269 0,-250 101,-250 101,-269\"/>\n<text text-anchor=\"middle\" x=\"50.5\" y=\"-257\" font-family=\"monospace\" font-size=\"10.00\" fill=\"#000000\">AccumulateGrad</text>\n</g>\n<!-- 140003330709200&#45;&gt;140003330710480 -->\n<g id=\"edge5\" class=\"edge\">\n<title>140003330709200&#45;&gt;140003330710480</title>\n<path fill=\"none\" stroke=\"#000000\" d=\"M72.5644,-249.9005C98.8665,-238.4574 143.0128,-219.2509 172.9245,-206.2374\"/>\n<polygon fill=\"#000000\" stroke=\"#000000\" points=\"174.703,-209.2806 182.4765,-202.0817 171.9104,-202.8617 174.703,-209.2806\"/>\n</g>\n<!-- 140003337197328 -->\n<g id=\"node8\" class=\"node\">\n<title>140003337197328</title>\n<polygon fill=\"#add8e6\" stroke=\"#000000\" points=\"77.5,-342 23.5,-342 23.5,-311 77.5,-311 77.5,-342\"/>\n<text text-anchor=\"middle\" x=\"50.5\" y=\"-318\" font-family=\"monospace\" font-size=\"10.00\" fill=\"#000000\"> (64)</text>\n</g>\n<!-- 140003337197328&#45;&gt;140003330709200 -->\n<g id=\"edge6\" class=\"edge\">\n<title>140003337197328&#45;&gt;140003330709200</title>\n<path fill=\"none\" stroke=\"#000000\" d=\"M50.5,-310.9604C50.5,-301.6356 50.5,-289.6748 50.5,-279.6317\"/>\n<polygon fill=\"#000000\" stroke=\"#000000\" points=\"54.0001,-279.35 50.5,-269.3501 47.0001,-279.3501 54.0001,-279.35\"/>\n</g>\n<!-- 140003330708496 -->\n<g id=\"node9\" class=\"node\">\n<title>140003330708496</title>\n<polygon fill=\"#d3d3d3\" stroke=\"#000000\" points=\"214,-269 119,-269 119,-250 214,-250 214,-269\"/>\n<text text-anchor=\"middle\" x=\"166.5\" y=\"-257\" font-family=\"monospace\" font-size=\"10.00\" fill=\"#000000\">ReluBackward0</text>\n</g>\n<!-- 140003330708496&#45;&gt;140003330710480 -->\n<g id=\"edge7\" class=\"edge\">\n<title>140003330708496&#45;&gt;140003330710480</title>\n<path fill=\"none\" stroke=\"#000000\" d=\"M171.9445,-249.9005C177.7009,-239.751 186.9213,-223.4941 194.0824,-210.8679\"/>\n<polygon fill=\"#000000\" stroke=\"#000000\" points=\"197.1766,-212.5067 199.0656,-202.0817 191.0877,-209.0533 197.1766,-212.5067\"/>\n</g>\n<!-- 140003330710288 -->\n<g id=\"node10\" class=\"node\">\n<title>140003330710288</title>\n<polygon fill=\"#d3d3d3\" stroke=\"#000000\" points=\"209,-336 108,-336 108,-317 209,-317 209,-336\"/>\n<text text-anchor=\"middle\" x=\"158.5\" y=\"-324\" font-family=\"monospace\" font-size=\"10.00\" fill=\"#000000\">AddmmBackward0</text>\n</g>\n<!-- 140003330710288&#45;&gt;140003330708496 -->\n<g id=\"edge8\" class=\"edge\">\n<title>140003330710288&#45;&gt;140003330708496</title>\n<path fill=\"none\" stroke=\"#000000\" d=\"M159.6462,-316.9005C160.8106,-307.149 162.6481,-291.7597 164.1275,-279.3695\"/>\n<polygon fill=\"#000000\" stroke=\"#000000\" points=\"167.6455,-279.4261 165.3559,-269.0817 160.6949,-278.5961 167.6455,-279.4261\"/>\n</g>\n<!-- 140003330710992 -->\n<g id=\"node11\" class=\"node\">\n<title>140003330710992</title>\n<polygon fill=\"#d3d3d3\" stroke=\"#000000\" points=\"114,-403 13,-403 13,-384 114,-384 114,-403\"/>\n<text text-anchor=\"middle\" x=\"63.5\" y=\"-391\" font-family=\"monospace\" font-size=\"10.00\" fill=\"#000000\">AccumulateGrad</text>\n</g>\n<!-- 140003330710992&#45;&gt;140003330710288 -->\n<g id=\"edge9\" class=\"edge\">\n<title>140003330710992&#45;&gt;140003330710288</title>\n<path fill=\"none\" stroke=\"#000000\" d=\"M77.1112,-383.9005C92.6311,-372.9549 118.2223,-354.9064 136.5667,-341.9688\"/>\n<polygon fill=\"#000000\" stroke=\"#000000\" points=\"138.7592,-344.7054 144.9141,-336.0817 134.7248,-338.9849 138.7592,-344.7054\"/>\n</g>\n<!-- 140003332631728 -->\n<g id=\"node12\" class=\"node\">\n<title>140003332631728</title>\n<polygon fill=\"#add8e6\" stroke=\"#000000\" points=\"90.5,-476 36.5,-476 36.5,-445 90.5,-445 90.5,-476\"/>\n<text text-anchor=\"middle\" x=\"63.5\" y=\"-452\" font-family=\"monospace\" font-size=\"10.00\" fill=\"#000000\"> (128)</text>\n</g>\n<!-- 140003332631728&#45;&gt;140003330710992 -->\n<g id=\"edge10\" class=\"edge\">\n<title>140003332631728&#45;&gt;140003330710992</title>\n<path fill=\"none\" stroke=\"#000000\" d=\"M63.5,-444.9604C63.5,-435.6356 63.5,-423.6748 63.5,-413.6317\"/>\n<polygon fill=\"#000000\" stroke=\"#000000\" points=\"67.0001,-413.35 63.5,-403.3501 60.0001,-413.3501 67.0001,-413.35\"/>\n</g>\n<!-- 140003330709520 -->\n<g id=\"node13\" class=\"node\">\n<title>140003330709520</title>\n<polygon fill=\"#d3d3d3\" stroke=\"#000000\" points=\"209,-403 132,-403 132,-384 209,-384 209,-403\"/>\n<text text-anchor=\"middle\" x=\"170.5\" y=\"-391\" font-family=\"monospace\" font-size=\"10.00\" fill=\"#000000\">TBackward0</text>\n</g>\n<!-- 140003330709520&#45;&gt;140003330710288 -->\n<g id=\"edge11\" class=\"edge\">\n<title>140003330709520&#45;&gt;140003330710288</title>\n<path fill=\"none\" stroke=\"#000000\" d=\"M168.7807,-383.9005C167.0163,-374.0495 164.2215,-358.4451 161.991,-345.9912\"/>\n<polygon fill=\"#000000\" stroke=\"#000000\" points=\"165.4244,-345.308 160.2161,-336.0817 158.534,-346.5421 165.4244,-345.308\"/>\n</g>\n<!-- 140003330709584 -->\n<g id=\"node14\" class=\"node\">\n<title>140003330709584</title>\n<polygon fill=\"#d3d3d3\" stroke=\"#000000\" points=\"221,-470 120,-470 120,-451 221,-451 221,-470\"/>\n<text text-anchor=\"middle\" x=\"170.5\" y=\"-458\" font-family=\"monospace\" font-size=\"10.00\" fill=\"#000000\">AccumulateGrad</text>\n</g>\n<!-- 140003330709584&#45;&gt;140003330709520 -->\n<g id=\"edge12\" class=\"edge\">\n<title>140003330709584&#45;&gt;140003330709520</title>\n<path fill=\"none\" stroke=\"#000000\" d=\"M170.5,-450.9005C170.5,-441.149 170.5,-425.7597 170.5,-413.3695\"/>\n<polygon fill=\"#000000\" stroke=\"#000000\" points=\"174.0001,-413.0816 170.5,-403.0817 167.0001,-413.0817 174.0001,-413.0816\"/>\n</g>\n<!-- 140003332629904 -->\n<g id=\"node15\" class=\"node\">\n<title>140003332629904</title>\n<polygon fill=\"#add8e6\" stroke=\"#000000\" points=\"212,-543 129,-543 129,-512 212,-512 212,-543\"/>\n<text text-anchor=\"middle\" x=\"170.5\" y=\"-519\" font-family=\"monospace\" font-size=\"10.00\" fill=\"#000000\"> (128, 784)</text>\n</g>\n<!-- 140003332629904&#45;&gt;140003330709584 -->\n<g id=\"edge13\" class=\"edge\">\n<title>140003332629904&#45;&gt;140003330709584</title>\n<path fill=\"none\" stroke=\"#000000\" d=\"M170.5,-511.9604C170.5,-502.6356 170.5,-490.6748 170.5,-480.6317\"/>\n<polygon fill=\"#000000\" stroke=\"#000000\" points=\"174.0001,-480.35 170.5,-470.3501 167.0001,-480.3501 174.0001,-480.35\"/>\n</g>\n<!-- 140003330711376 -->\n<g id=\"node16\" class=\"node\">\n<title>140003330711376</title>\n<polygon fill=\"#d3d3d3\" stroke=\"#000000\" points=\"309,-269 232,-269 232,-250 309,-250 309,-269\"/>\n<text text-anchor=\"middle\" x=\"270.5\" y=\"-257\" font-family=\"monospace\" font-size=\"10.00\" fill=\"#000000\">TBackward0</text>\n</g>\n<!-- 140003330711376&#45;&gt;140003330710480 -->\n<g id=\"edge14\" class=\"edge\">\n<title>140003330711376&#45;&gt;140003330710480</title>\n<path fill=\"none\" stroke=\"#000000\" d=\"M261.0438,-249.9005C250.6537,-239.353 233.7662,-222.2096 221.1476,-209.3998\"/>\n<polygon fill=\"#000000\" stroke=\"#000000\" points=\"223.4498,-206.7495 213.9386,-202.0817 218.463,-211.6619 223.4498,-206.7495\"/>\n</g>\n<!-- 140003330711248 -->\n<g id=\"node17\" class=\"node\">\n<title>140003330711248</title>\n<polygon fill=\"#d3d3d3\" stroke=\"#000000\" points=\"328,-336 227,-336 227,-317 328,-317 328,-336\"/>\n<text text-anchor=\"middle\" x=\"277.5\" y=\"-324\" font-family=\"monospace\" font-size=\"10.00\" fill=\"#000000\">AccumulateGrad</text>\n</g>\n<!-- 140003330711248&#45;&gt;140003330711376 -->\n<g id=\"edge15\" class=\"edge\">\n<title>140003330711248&#45;&gt;140003330711376</title>\n<path fill=\"none\" stroke=\"#000000\" d=\"M276.4971,-316.9005C275.4783,-307.149 273.8704,-291.7597 272.5759,-279.3695\"/>\n<polygon fill=\"#000000\" stroke=\"#000000\" points=\"276.0213,-278.6638 271.5011,-269.0817 269.0592,-279.3912 276.0213,-278.6638\"/>\n</g>\n<!-- 140003333520944 -->\n<g id=\"node18\" class=\"node\">\n<title>140003333520944</title>\n<polygon fill=\"#add8e6\" stroke=\"#000000\" points=\"316,-409 239,-409 239,-378 316,-378 316,-409\"/>\n<text text-anchor=\"middle\" x=\"277.5\" y=\"-385\" font-family=\"monospace\" font-size=\"10.00\" fill=\"#000000\"> (64, 128)</text>\n</g>\n<!-- 140003333520944&#45;&gt;140003330711248 -->\n<g id=\"edge16\" class=\"edge\">\n<title>140003333520944&#45;&gt;140003330711248</title>\n<path fill=\"none\" stroke=\"#000000\" d=\"M277.5,-377.9604C277.5,-368.6356 277.5,-356.6748 277.5,-346.6317\"/>\n<polygon fill=\"#000000\" stroke=\"#000000\" points=\"281.0001,-346.35 277.5,-336.3501 274.0001,-346.3501 281.0001,-346.35\"/>\n</g>\n<!-- 140003330709968 -->\n<g id=\"node19\" class=\"node\">\n<title>140003330709968</title>\n<polygon fill=\"#d3d3d3\" stroke=\"#000000\" points=\"360,-141 283,-141 283,-122 360,-122 360,-141\"/>\n<text text-anchor=\"middle\" x=\"321.5\" y=\"-129\" font-family=\"monospace\" font-size=\"10.00\" fill=\"#000000\">TBackward0</text>\n</g>\n<!-- 140003330709968&#45;&gt;140003330707920 -->\n<g id=\"edge17\" class=\"edge\">\n<title>140003330709968&#45;&gt;140003330707920</title>\n<path fill=\"none\" stroke=\"#000000\" d=\"M301.9911,-121.9197C284.353,-113.2581 258.1603,-100.3957 238.1465,-90.5675\"/>\n<polygon fill=\"#000000\" stroke=\"#000000\" points=\"239.68,-87.4213 229.1611,-86.155 236.5945,-93.7046 239.68,-87.4213\"/>\n</g>\n<!-- 140003330707600 -->\n<g id=\"node20\" class=\"node\">\n<title>140003330707600</title>\n<polygon fill=\"#d3d3d3\" stroke=\"#000000\" points=\"376,-202 275,-202 275,-183 376,-183 376,-202\"/>\n<text text-anchor=\"middle\" x=\"325.5\" y=\"-190\" font-family=\"monospace\" font-size=\"10.00\" fill=\"#000000\">AccumulateGrad</text>\n</g>\n<!-- 140003330707600&#45;&gt;140003330709968 -->\n<g id=\"edge18\" class=\"edge\">\n<title>140003330707600&#45;&gt;140003330709968</title>\n<path fill=\"none\" stroke=\"#000000\" d=\"M324.875,-182.9688C324.3205,-174.5131 323.4928,-161.8901 322.7958,-151.2615\"/>\n<polygon fill=\"#000000\" stroke=\"#000000\" points=\"326.2807,-150.9152 322.1338,-141.1656 319.2957,-151.3732 326.2807,-150.9152\"/>\n</g>\n<!-- 140003332630000 -->\n<g id=\"node21\" class=\"node\">\n<title>140003332630000</title>\n<polygon fill=\"#add8e6\" stroke=\"#000000\" points=\"398,-275 327,-275 327,-244 398,-244 398,-275\"/>\n<text text-anchor=\"middle\" x=\"362.5\" y=\"-251\" font-family=\"monospace\" font-size=\"10.00\" fill=\"#000000\"> (10, 64)</text>\n</g>\n<!-- 140003332630000&#45;&gt;140003330707600 -->\n<g id=\"edge19\" class=\"edge\">\n<title>140003332630000&#45;&gt;140003330707600</title>\n<path fill=\"none\" stroke=\"#000000\" d=\"M353.9185,-243.9604C348.5474,-234.2345 341.5928,-221.6411 335.9079,-211.3468\"/>\n<polygon fill=\"#000000\" stroke=\"#000000\" points=\"338.8377,-209.412 330.9396,-202.3501 332.71,-212.796 338.8377,-209.412\"/>\n</g>\n</g>\n</svg>\n"
          },
          "metadata": {},
          "execution_count": 41
        }
      ]
    },
    {
      "cell_type": "markdown",
      "source": [
        "## Learning loop\n",
        "\n",
        "This is the \"standard\" learning loop with a few changes. \n",
        "1. Since we are using batches, an epoch finishes when all the batches in the dataset are processed.\n",
        "1. We perform the computation on the GPU by using the ```.cuda()``` tensor method\n",
        "1. Since we have 10 classes we use the ```CrossEntropyLoss``` instead of ```BCELoss```\n",
        "\n",
        "**Note** the ```CrossEntropyLoss``` computes the _softmax_ of the output of the model before computing the loss. This is why the last layer of our model does not use _softmax_"
      ],
      "metadata": {
        "id": "l7noYKm71Fga"
      }
    },
    {
      "cell_type": "code",
      "source": [
        "model=model.cuda()\n",
        "import torch.optim as optim\n",
        "epochs=10\n",
        "optimizer=optim.SGD(model.parameters(),lr=0.01)\n",
        "loss_fn=nn.CrossEntropyLoss()\n",
        "running_loss=0.0\n",
        "for epoch in range(epochs):\n",
        "  for i,data in enumerate(train_loader):\n",
        "    optimizer.zero_grad()\n",
        "    img,label=data\n",
        "    img,label=img.cuda(),label.cuda()\n",
        "  \n",
        "    output=model(img)\n",
        "    loss=loss_fn(output,label)\n",
        "  \n",
        "    loss.backward()\n",
        "    optimizer.step()\n",
        "    running_loss=0.99*running_loss+0.01*loss.item()\n",
        "  print(\"loss {:.4f}\".format(running_loss))\n"
      ],
      "metadata": {
        "colab": {
          "base_uri": "https://localhost:8080/"
        },
        "id": "M1eQrkPkMEwR",
        "outputId": "d7a789b6-ff70-4932-b353-ec0ef42438ba"
      },
      "execution_count": 13,
      "outputs": [
        {
          "output_type": "stream",
          "name": "stdout",
          "text": [
            "loss 0.5030\n",
            "loss 0.3754\n",
            "loss 0.3313\n",
            "loss 0.2801\n",
            "loss 0.2607\n",
            "loss 0.2438\n",
            "loss 0.2216\n",
            "loss 0.2000\n",
            "loss 0.1854\n",
            "loss 0.1762\n"
          ]
        }
      ]
    },
    {
      "cell_type": "code",
      "source": [
        "total=0\n",
        "correct=0\n",
        "for data in test_loader:\n",
        "  imgs,labels=data\n",
        "  imgs=imgs.cuda()\n",
        "  labels=labels.cuda()\n",
        "  outputs=model(imgs)\n",
        "  # the second return value is the index of the max i.e. argmax\n",
        "  _,predicted=torch.max(outputs.data,1)\n",
        "  total+=labels.size(0)\n",
        "  correct+=(predicted==labels).sum()\n"
      ],
      "metadata": {
        "id": "4TP4unNeTd5K"
      },
      "execution_count": 11,
      "outputs": []
    },
    {
      "cell_type": "code",
      "source": [
        "print(\"accuracy of prediction {:.3f}\".format((correct/total).item()))"
      ],
      "metadata": {
        "colab": {
          "base_uri": "https://localhost:8080/"
        },
        "id": "GGNI4K9YULzs",
        "outputId": "122e68c7-af47-4f5b-9a86-86db683e47e7"
      },
      "execution_count": 12,
      "outputs": [
        {
          "output_type": "stream",
          "name": "stdout",
          "text": [
            "0.9485999941825867\n"
          ]
        }
      ]
    },
    {
      "cell_type": "code",
      "source": [],
      "metadata": {
        "id": "YdoOmfpCwKFY"
      },
      "execution_count": null,
      "outputs": []
    }
  ]
}